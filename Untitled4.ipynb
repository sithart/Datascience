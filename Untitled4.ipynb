{
 "cells": [
  {
   "cell_type": "markdown",
   "id": "992559d6",
   "metadata": {},
   "source": [
    "T Test"
   ]
  },
  {
   "cell_type": "code",
   "execution_count": 1,
   "id": "395346dc",
   "metadata": {},
   "outputs": [],
   "source": [
    "import numpy as np"
   ]
  },
  {
   "cell_type": "code",
   "execution_count": 2,
   "id": "8a163f96",
   "metadata": {},
   "outputs": [],
   "source": [
    "sal = np.random.randint(100,900,size=500) #This is the total population"
   ]
  },
  {
   "cell_type": "code",
   "execution_count": 3,
   "id": "b9268e01",
   "metadata": {
    "scrolled": false
   },
   "outputs": [
    {
     "data": {
      "text/plain": [
       "array([798, 568, 120, 163, 525, 210, 472, 885, 164, 791, 477, 516, 226,\n",
       "       318, 434, 735, 213, 590, 614, 194, 383, 202, 298, 773, 819, 184,\n",
       "       534, 696, 556, 209, 871, 782, 625, 669, 778, 374, 733, 785, 812,\n",
       "       244, 232, 827, 522, 564, 750, 216, 760, 319, 467, 838, 727, 849,\n",
       "       273, 460, 343, 826, 295, 631, 770, 253, 200, 455, 513, 865, 290,\n",
       "       174, 209, 810, 831, 150, 540, 344, 290, 898, 630, 708, 556, 496,\n",
       "       719, 702, 781, 828, 529, 710, 819, 736, 272, 533, 136, 811, 333,\n",
       "       271, 453, 823, 454, 290, 666, 847, 758, 329, 721, 144, 838, 158,\n",
       "       120, 792, 813, 780, 548, 625, 766, 409, 542, 341, 570, 545, 326,\n",
       "       493, 283, 837, 537, 568, 765, 307, 292, 146, 713, 226, 476, 603,\n",
       "       338, 220, 361, 333, 588, 295, 575, 610, 843, 667, 674, 169, 338,\n",
       "       475, 574, 850, 612, 838, 657, 327, 679, 390, 238, 210, 284, 601,\n",
       "       744, 117, 283, 824, 357, 187, 389, 356, 235, 732, 719, 667, 527,\n",
       "       519, 898, 604, 217, 440, 576, 256, 679, 704, 447, 512, 160, 206,\n",
       "       881, 884, 456, 198, 708, 595, 461, 853, 720, 413, 487, 621, 766,\n",
       "       247, 211, 136, 585, 420, 358, 322, 255, 760, 446, 836, 781, 427,\n",
       "       872, 835, 262, 806, 781, 898, 472, 458, 670, 612, 569, 141, 796,\n",
       "       286, 269, 579, 877, 418, 240, 497, 215, 761, 161, 409, 224, 749,\n",
       "       669, 666, 440, 359, 634, 391, 206, 629, 494, 814, 518, 191, 114,\n",
       "       671, 741, 244, 684, 628, 204, 280, 622, 337, 479, 686, 860, 424,\n",
       "       741, 202, 161, 658, 780, 296, 643, 632, 383, 674, 269, 851, 174,\n",
       "       207, 820, 756, 877, 190, 366, 818, 578, 128, 731, 209, 238, 123,\n",
       "       609, 585, 297, 720, 856, 128, 233, 324, 388, 691, 381, 761, 128,\n",
       "       166, 622, 806, 440, 543, 886, 281, 822, 364, 360, 173, 827, 815,\n",
       "       605, 296, 108, 340, 386, 556, 258, 216, 780, 627, 204, 174, 821,\n",
       "       602, 178, 679, 194, 788, 202, 636, 214, 597, 791, 212, 231, 643,\n",
       "       259, 787, 629, 607, 248, 315, 253, 195, 481, 541, 227, 198, 225,\n",
       "       456, 491, 822, 352, 894, 329, 726, 685, 692, 792, 475, 650, 446,\n",
       "       767, 605, 617, 494, 359, 338, 875, 842, 375, 808, 519, 801, 611,\n",
       "       217, 280, 598, 306, 669, 222, 742, 403, 753, 404, 625, 153, 280,\n",
       "       178, 318, 577, 858, 794, 807, 567, 542, 177, 412, 606, 100, 466,\n",
       "       583, 330, 896, 248, 468, 686, 514, 196, 802, 815, 826, 283, 124,\n",
       "       117, 611, 555, 698, 681, 218, 547, 733, 245, 606, 855, 659, 690,\n",
       "       890, 426, 645, 598, 687, 410, 608, 310, 260, 822, 519, 789, 128,\n",
       "       261, 471, 175, 828, 870, 792, 575, 897, 557, 129, 167, 137, 105,\n",
       "       295, 244, 729, 583, 589, 614, 465, 744, 693, 170, 166, 163, 721,\n",
       "       238, 231, 763, 513, 251, 311, 678, 341, 501, 161, 192, 771, 797,\n",
       "       177, 422, 862, 272, 496, 120, 729, 623, 742, 219, 632, 794, 328,\n",
       "       215, 381, 680, 312, 233, 175])"
      ]
     },
     "execution_count": 3,
     "metadata": {},
     "output_type": "execute_result"
    }
   ],
   "source": [
    "sal"
   ]
  },
  {
   "cell_type": "code",
   "execution_count": 5,
   "id": "d7d2cf25",
   "metadata": {},
   "outputs": [
    {
     "data": {
      "text/plain": [
       "502.684"
      ]
     },
     "execution_count": 5,
     "metadata": {},
     "output_type": "execute_result"
    }
   ],
   "source": [
    "sal_mean = np.mean(sal)\n",
    "sal_mean #Mean salary for Everyone"
   ]
  },
  {
   "cell_type": "code",
   "execution_count": 6,
   "id": "8f3ae73b",
   "metadata": {},
   "outputs": [
    {
     "data": {
      "text/plain": [
       "array([798, 253, 729, 361, 556, 117, 588, 742, 330, 446, 235, 643, 659,\n",
       "       792, 273, 556, 519, 796, 364, 273, 167, 128, 388, 146, 128, 319,\n",
       "       192, 519, 381, 327, 496, 475, 390, 881, 687, 858, 231, 174, 219,\n",
       "       543])"
      ]
     },
     "execution_count": 6,
     "metadata": {},
     "output_type": "execute_result"
    }
   ],
   "source": [
    "sample_size = 40 #This is the sample Size\n",
    "sample_salary = np.random.choice(sal, size=sample_size)\n",
    "sample_salary"
   ]
  },
  {
   "cell_type": "code",
   "execution_count": 7,
   "id": "15b6d688",
   "metadata": {},
   "outputs": [],
   "source": [
    "from scipy.stats import ttest_1samp"
   ]
  },
  {
   "cell_type": "code",
   "execution_count": 8,
   "id": "83592cae",
   "metadata": {},
   "outputs": [],
   "source": [
    "ttest, p_value = ttest_1samp(sample_salary, sal_mean)"
   ]
  },
  {
   "cell_type": "code",
   "execution_count": 9,
   "id": "c5cb9cee",
   "metadata": {},
   "outputs": [
    {
     "data": {
      "text/plain": [
       "0.1001198099248816"
      ]
     },
     "execution_count": 9,
     "metadata": {},
     "output_type": "execute_result"
    }
   ],
   "source": [
    "p_value"
   ]
  },
  {
   "cell_type": "code",
   "execution_count": 10,
   "id": "b791c935",
   "metadata": {},
   "outputs": [
    {
     "name": "stdout",
     "output_type": "stream",
     "text": [
      "We Reject H0 Null Hypothesis - h1\n"
     ]
    }
   ],
   "source": [
    "if p_value > 0.5:\n",
    "    print('We accept H0 Null Hypothesis')\n",
    "else:\n",
    "    print('We Reject H0 Null Hypothesis - h1')"
   ]
  },
  {
   "cell_type": "markdown",
   "id": "2ff9d706",
   "metadata": {},
   "source": [
    "Two Sample T test"
   ]
  },
  {
   "cell_type": "code",
   "execution_count": 11,
   "id": "a185acab",
   "metadata": {},
   "outputs": [],
   "source": [
    "from scipy.stats import ttest_ind"
   ]
  },
  {
   "cell_type": "code",
   "execution_count": 40,
   "id": "46e2d4eb",
   "metadata": {},
   "outputs": [],
   "source": [
    "\n",
    "sal = np.random.randint(100,900,size=500)\n",
    "sample_size = 40\n",
    "sample_salary1 = np.random.choice(sal, sample_size)\n",
    "sample_salary2 = np.random.choice(sal, sample_size)\n",
    "ttest, p_value = ttest_ind(a=sample_salary1, b=sample_salary2, equal_var=False) #Wqual Variance\n"
   ]
  },
  {
   "cell_type": "code",
   "execution_count": 41,
   "id": "7854c2f0",
   "metadata": {},
   "outputs": [
    {
     "data": {
      "text/plain": [
       "0.8418286558178905"
      ]
     },
     "execution_count": 41,
     "metadata": {},
     "output_type": "execute_result"
    }
   ],
   "source": [
    "p_value"
   ]
  },
  {
   "cell_type": "code",
   "execution_count": 42,
   "id": "3d81f827",
   "metadata": {},
   "outputs": [
    {
     "name": "stdout",
     "output_type": "stream",
     "text": [
      "We accept H0 Null Hypothesis\n"
     ]
    }
   ],
   "source": [
    "if p_value > 0.5:\n",
    "    print('We accept H0 Null Hypothesis')\n",
    "else:\n",
    "    print('We Reject H0 Null Hypothesis - h1')"
   ]
  },
  {
   "cell_type": "code",
   "execution_count": null,
   "id": "01d6a78a",
   "metadata": {},
   "outputs": [],
   "source": []
  },
  {
   "cell_type": "code",
   "execution_count": null,
   "id": "1f30ecdc",
   "metadata": {},
   "outputs": [],
   "source": []
  }
 ],
 "metadata": {
  "kernelspec": {
   "display_name": "Python 3 (ipykernel)",
   "language": "python",
   "name": "python3"
  },
  "language_info": {
   "codemirror_mode": {
    "name": "ipython",
    "version": 3
   },
   "file_extension": ".py",
   "mimetype": "text/x-python",
   "name": "python",
   "nbconvert_exporter": "python",
   "pygments_lexer": "ipython3",
   "version": "3.10.2"
  }
 },
 "nbformat": 4,
 "nbformat_minor": 5
}
