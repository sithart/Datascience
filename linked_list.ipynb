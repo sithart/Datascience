{
  "nbformat": 4,
  "nbformat_minor": 0,
  "metadata": {
    "colab": {
      "name": "Untitled234.ipynb",
      "provenance": [],
      "collapsed_sections": []
    },
    "kernelspec": {
      "name": "python3",
      "display_name": "Python 3"
    },
    "language_info": {
      "name": "python"
    }
  },
  "cells": [
    {
      "cell_type": "markdown",
      "source": [
        "class const for obj\n",
        "template\n",
        "\n",
        "object\n",
        "var=class()#object\n",
        "class classname:\n"
      ],
      "metadata": {
        "id": "HaxLeGxlfQNK"
      }
    },
    {
      "cell_type": "code",
      "source": [
        "class sample:\n",
        "    a=56\n",
        "    b=\"test\"\n"
      ],
      "metadata": {
        "id": "6Z42ef_RfP8z"
      },
      "execution_count": null,
      "outputs": []
    },
    {
      "cell_type": "code",
      "execution_count": null,
      "metadata": {
        "id": "ONX1Y3WwfFM2"
      },
      "outputs": [],
      "source": [
        "a=22\n",
        "x=sample()"
      ]
    },
    {
      "cell_type": "code",
      "source": [
        "x"
      ],
      "metadata": {
        "colab": {
          "base_uri": "https://localhost:8080/"
        },
        "id": "xIPe3iyTf7h1",
        "outputId": "491881d8-1791-404f-ca05-2f996f2dc0f8"
      },
      "execution_count": null,
      "outputs": [
        {
          "output_type": "execute_result",
          "data": {
            "text/plain": [
              "<__main__.sample at 0x7f8835f81f90>"
            ]
          },
          "metadata": {},
          "execution_count": 3
        }
      ]
    },
    {
      "cell_type": "code",
      "source": [
        "x.a"
      ],
      "metadata": {
        "colab": {
          "base_uri": "https://localhost:8080/"
        },
        "id": "9DewfqOagB_W",
        "outputId": "f7c99a56-262d-40ef-dc51-5a0c0b0e903a"
      },
      "execution_count": null,
      "outputs": [
        {
          "output_type": "execute_result",
          "data": {
            "text/plain": [
              "56"
            ]
          },
          "metadata": {},
          "execution_count": 4
        }
      ]
    },
    {
      "cell_type": "code",
      "source": [
        "x.b"
      ],
      "metadata": {
        "colab": {
          "base_uri": "https://localhost:8080/",
          "height": 35
        },
        "id": "yqEw-5ArgFgx",
        "outputId": "2e458d10-9a7a-427f-d338-0632abca8d57"
      },
      "execution_count": null,
      "outputs": [
        {
          "output_type": "execute_result",
          "data": {
            "text/plain": [
              "'test'"
            ],
            "application/vnd.google.colaboratory.intrinsic+json": {
              "type": "string"
            }
          },
          "metadata": {},
          "execution_count": 5
        }
      ]
    },
    {
      "cell_type": "code",
      "source": [
        "type(x),type(x.a),type(x.b)"
      ],
      "metadata": {
        "colab": {
          "base_uri": "https://localhost:8080/"
        },
        "id": "V7-cr6zXgHuu",
        "outputId": "d1cfd03a-ea8c-471a-eeef-b2694ed491bc"
      },
      "execution_count": null,
      "outputs": [
        {
          "output_type": "execute_result",
          "data": {
            "text/plain": [
              "(__main__.sample, int, str)"
            ]
          },
          "metadata": {},
          "execution_count": 6
        }
      ]
    },
    {
      "cell_type": "code",
      "source": [
        "y=sample()\n",
        "y.a,y.b"
      ],
      "metadata": {
        "colab": {
          "base_uri": "https://localhost:8080/"
        },
        "id": "6ACCat7Bh5LA",
        "outputId": "c73c400e-7a59-44f1-fbb5-448c5352aa00"
      },
      "execution_count": null,
      "outputs": [
        {
          "output_type": "execute_result",
          "data": {
            "text/plain": [
              "(56, 'test')"
            ]
          },
          "metadata": {},
          "execution_count": 14
        }
      ]
    },
    {
      "cell_type": "code",
      "source": [
        "y"
      ],
      "metadata": {
        "colab": {
          "base_uri": "https://localhost:8080/"
        },
        "id": "u_jUhRpuiF_T",
        "outputId": "be30c0b1-ca0a-44a0-82b7-6f5f802b5cf4"
      },
      "execution_count": null,
      "outputs": [
        {
          "output_type": "execute_result",
          "data": {
            "text/plain": [
              "<__main__.sample at 0x7f8835f72a90>"
            ]
          },
          "metadata": {},
          "execution_count": 15
        }
      ]
    },
    {
      "cell_type": "code",
      "source": [
        "class sample1:#2\n",
        "    def __init__(self,id,name):#3 self=x1,id=24,name=gokul\n",
        "        self.emp_id=id #4 x1.emp_id=24\n",
        "        self.emp_name=name #5 x1.emp_name=\"gokul\"\n",
        "    #def test(self):\n",
        "    #    print(self.emp_name)\n",
        "    def print_val(sri):#sri=object\n",
        "        print(sri.emp_id,sri.emp_name)\n",
        "    a=56"
      ],
      "metadata": {
        "id": "MChQUzGOiOen"
      },
      "execution_count": null,
      "outputs": []
    },
    {
      "cell_type": "code",
      "source": [
        "x1=sample1(24,\"gokul\")#1 creating obj x1, with arg 24,\"gokul\" #6 completes x1 obj id "
      ],
      "metadata": {
        "id": "jTfO3jr_i7gs"
      },
      "execution_count": null,
      "outputs": []
    },
    {
      "cell_type": "code",
      "source": [
        "x1.emp_id,x1.emp_name"
      ],
      "metadata": {
        "colab": {
          "base_uri": "https://localhost:8080/"
        },
        "id": "TzZbkyW2jRUb",
        "outputId": "175e1bb9-0bb7-48ae-da9f-77240109b240"
      },
      "execution_count": null,
      "outputs": [
        {
          "output_type": "execute_result",
          "data": {
            "text/plain": [
              "(24, 'gokul')"
            ]
          },
          "metadata": {},
          "execution_count": 19
        }
      ]
    },
    {
      "cell_type": "code",
      "source": [
        "y1=sample1(int(input(\"id \")),input(\"name \"))\n",
        "y1,y1.emp_id"
      ],
      "metadata": {
        "colab": {
          "base_uri": "https://localhost:8080/"
        },
        "id": "jxalugS6kDQV",
        "outputId": "1d7f2618-7a5d-485b-d3e1-476ea04a0082"
      },
      "execution_count": null,
      "outputs": [
        {
          "name": "stdout",
          "output_type": "stream",
          "text": [
            "id 56\n",
            "name good\n"
          ]
        },
        {
          "output_type": "execute_result",
          "data": {
            "text/plain": [
              "(<__main__.sample1 at 0x7f8835e93410>, 56)"
            ]
          },
          "metadata": {},
          "execution_count": 25
        }
      ]
    },
    {
      "cell_type": "code",
      "source": [
        "y1.emp_name"
      ],
      "metadata": {
        "colab": {
          "base_uri": "https://localhost:8080/",
          "height": 35
        },
        "id": "6Z5KAMkolKka",
        "outputId": "1b97deb4-1877-4ce2-e8ee-ca0bbc70a1b6"
      },
      "execution_count": null,
      "outputs": [
        {
          "output_type": "execute_result",
          "data": {
            "text/plain": [
              "'good'"
            ],
            "application/vnd.google.colaboratory.intrinsic+json": {
              "type": "string"
            }
          },
          "metadata": {},
          "execution_count": 23
        }
      ]
    },
    {
      "cell_type": "code",
      "source": [
        "y1.test()"
      ],
      "metadata": {
        "colab": {
          "base_uri": "https://localhost:8080/"
        },
        "id": "Qt6FfuVLlxBi",
        "outputId": "51d6d601-6b5f-4124-9960-aea4c4921b9d"
      },
      "execution_count": null,
      "outputs": [
        {
          "output_type": "stream",
          "name": "stdout",
          "text": [
            "good\n"
          ]
        }
      ]
    },
    {
      "cell_type": "code",
      "source": [
        "z1=sample1(name=\"guru\",id=89)"
      ],
      "metadata": {
        "id": "bY-g_81-oAhp"
      },
      "execution_count": null,
      "outputs": []
    },
    {
      "cell_type": "code",
      "source": [
        "z1.print_val()"
      ],
      "metadata": {
        "colab": {
          "base_uri": "https://localhost:8080/"
        },
        "id": "PAodmLa_p1hU",
        "outputId": "9594a73c-3ef7-4783-8428-eb0ad24dc53b"
      },
      "execution_count": null,
      "outputs": [
        {
          "output_type": "stream",
          "name": "stdout",
          "text": [
            "89 guru\n"
          ]
        }
      ]
    },
    {
      "cell_type": "code",
      "source": [
        "z1.test()"
      ],
      "metadata": {
        "colab": {
          "base_uri": "https://localhost:8080/",
          "height": 171
        },
        "id": "lIFey7QcqS1U",
        "outputId": "a0ea915c-64a9-4fe8-9ba8-1fccec259ccd"
      },
      "execution_count": null,
      "outputs": [
        {
          "output_type": "error",
          "ename": "AttributeError",
          "evalue": "ignored",
          "traceback": [
            "\u001b[0;31m---------------------------------------------------------------------------\u001b[0m",
            "\u001b[0;31mAttributeError\u001b[0m                            Traceback (most recent call last)",
            "\u001b[0;32m<ipython-input-40-6a37df70a4aa>\u001b[0m in \u001b[0;36m<module>\u001b[0;34m()\u001b[0m\n\u001b[0;32m----> 1\u001b[0;31m \u001b[0mz1\u001b[0m\u001b[0;34m.\u001b[0m\u001b[0mtest\u001b[0m\u001b[0;34m(\u001b[0m\u001b[0;34m)\u001b[0m\u001b[0;34m\u001b[0m\u001b[0;34m\u001b[0m\u001b[0m\n\u001b[0m",
            "\u001b[0;31mAttributeError\u001b[0m: 'sample1' object has no attribute 'test'"
          ]
        }
      ]
    },
    {
      "cell_type": "code",
      "source": [
        "z1.a"
      ],
      "metadata": {
        "colab": {
          "base_uri": "https://localhost:8080/"
        },
        "id": "sLH2hkGvpI1o",
        "outputId": "b1f7ea0b-0121-4bc6-88a8-057d72a6056b"
      },
      "execution_count": null,
      "outputs": [
        {
          "output_type": "execute_result",
          "data": {
            "text/plain": [
              "56"
            ]
          },
          "metadata": {},
          "execution_count": 33
        }
      ]
    },
    {
      "cell_type": "code",
      "source": [
        "z1.test()"
      ],
      "metadata": {
        "colab": {
          "base_uri": "https://localhost:8080/"
        },
        "id": "QQEdhRE5oNIf",
        "outputId": "977de454-8d3d-4265-ce08-d2b51d27943f"
      },
      "execution_count": null,
      "outputs": [
        {
          "output_type": "stream",
          "name": "stdout",
          "text": [
            "guru\n"
          ]
        }
      ]
    },
    {
      "cell_type": "code",
      "source": [
        "z2=sample1()\n",
        "name=\"guru\""
      ],
      "metadata": {
        "colab": {
          "base_uri": "https://localhost:8080/",
          "height": 190
        },
        "id": "KT3aP9QcoZr5",
        "outputId": "8e961f7c-1498-47ab-f8c7-cd760dfb83ca"
      },
      "execution_count": null,
      "outputs": [
        {
          "output_type": "error",
          "ename": "TypeError",
          "evalue": "ignored",
          "traceback": [
            "\u001b[0;31m---------------------------------------------------------------------------\u001b[0m",
            "\u001b[0;31mTypeError\u001b[0m                                 Traceback (most recent call last)",
            "\u001b[0;32m<ipython-input-30-60a176bdc7ef>\u001b[0m in \u001b[0;36m<module>\u001b[0;34m()\u001b[0m\n\u001b[0;32m----> 1\u001b[0;31m \u001b[0mz2\u001b[0m\u001b[0;34m=\u001b[0m\u001b[0msample1\u001b[0m\u001b[0;34m(\u001b[0m\u001b[0;34m)\u001b[0m\u001b[0;34m\u001b[0m\u001b[0;34m\u001b[0m\u001b[0m\n\u001b[0m\u001b[1;32m      2\u001b[0m \u001b[0mname\u001b[0m\u001b[0;34m=\u001b[0m\u001b[0;34m\"guru\"\u001b[0m\u001b[0;34m\u001b[0m\u001b[0;34m\u001b[0m\u001b[0m\n",
            "\u001b[0;31mTypeError\u001b[0m: __init__() missing 2 required positional arguments: 'id' and 'name'"
          ]
        }
      ]
    },
    {
      "cell_type": "code",
      "source": [
        "class sample2:\n",
        "    def __init__(self,id,name):\n",
        "        self.emp_id=id \n",
        "        self.emp_name=name \n",
        "    def test(self,new):\n",
        "        print(self.emp_name+\"prasad\"+new)\n",
        "    def print_val(sri):#sri=object\n",
        "        print(sri.emp_id,sri.emp_name)"
      ],
      "metadata": {
        "id": "uCN5x7J4qgoD"
      },
      "execution_count": null,
      "outputs": []
    },
    {
      "cell_type": "code",
      "source": [
        "x2=sample2(23,\"guru\")"
      ],
      "metadata": {
        "id": "bjinmbAZqykZ"
      },
      "execution_count": null,
      "outputs": []
    },
    {
      "cell_type": "code",
      "source": [
        "x2.test(\"fine\")"
      ],
      "metadata": {
        "colab": {
          "base_uri": "https://localhost:8080/"
        },
        "id": "RCUSQiX-q4v-",
        "outputId": "1151a47b-0687-4a48-b20e-9fdb758a5be1"
      },
      "execution_count": null,
      "outputs": [
        {
          "output_type": "stream",
          "name": "stdout",
          "text": [
            "guruprasadfine\n"
          ]
        }
      ]
    },
    {
      "cell_type": "code",
      "source": [
        "x2.emp_id,x2.emp_name"
      ],
      "metadata": {
        "colab": {
          "base_uri": "https://localhost:8080/"
        },
        "id": "QulO6gu-rhBi",
        "outputId": "8c6d9c81-f944-4a30-e40b-260169a92054"
      },
      "execution_count": null,
      "outputs": [
        {
          "output_type": "execute_result",
          "data": {
            "text/plain": [
              "(23, 'guru')"
            ]
          },
          "metadata": {},
          "execution_count": 45
        }
      ]
    },
    {
      "cell_type": "code",
      "source": [
        "del x2.emp_name"
      ],
      "metadata": {
        "id": "_3UXITPXrnaP"
      },
      "execution_count": null,
      "outputs": []
    },
    {
      "cell_type": "code",
      "source": [
        "x2,x2.emp_id,x2.emp_name"
      ],
      "metadata": {
        "colab": {
          "base_uri": "https://localhost:8080/",
          "height": 171
        },
        "id": "CFFnSK53rsMJ",
        "outputId": "e4c785db-982c-4861-ef09-a152687224bb"
      },
      "execution_count": null,
      "outputs": [
        {
          "output_type": "error",
          "ename": "AttributeError",
          "evalue": "ignored",
          "traceback": [
            "\u001b[0;31m---------------------------------------------------------------------------\u001b[0m",
            "\u001b[0;31mAttributeError\u001b[0m                            Traceback (most recent call last)",
            "\u001b[0;32m<ipython-input-48-a60a8350b31a>\u001b[0m in \u001b[0;36m<module>\u001b[0;34m()\u001b[0m\n\u001b[0;32m----> 1\u001b[0;31m \u001b[0mx2\u001b[0m\u001b[0;34m,\u001b[0m\u001b[0mx2\u001b[0m\u001b[0;34m.\u001b[0m\u001b[0memp_id\u001b[0m\u001b[0;34m,\u001b[0m\u001b[0mx2\u001b[0m\u001b[0;34m.\u001b[0m\u001b[0memp_name\u001b[0m\u001b[0;34m\u001b[0m\u001b[0;34m\u001b[0m\u001b[0m\n\u001b[0m",
            "\u001b[0;31mAttributeError\u001b[0m: 'sample2' object has no attribute 'emp_name'"
          ]
        }
      ]
    },
    {
      "cell_type": "code",
      "source": [
        "x2.print_val()"
      ],
      "metadata": {
        "colab": {
          "base_uri": "https://localhost:8080/",
          "height": 263
        },
        "id": "5xk92ruir35U",
        "outputId": "163ea13c-624d-403b-ae89-ad03618c67f7"
      },
      "execution_count": null,
      "outputs": [
        {
          "output_type": "error",
          "ename": "AttributeError",
          "evalue": "ignored",
          "traceback": [
            "\u001b[0;31m---------------------------------------------------------------------------\u001b[0m",
            "\u001b[0;31mAttributeError\u001b[0m                            Traceback (most recent call last)",
            "\u001b[0;32m<ipython-input-49-5940f2869648>\u001b[0m in \u001b[0;36m<module>\u001b[0;34m()\u001b[0m\n\u001b[0;32m----> 1\u001b[0;31m \u001b[0mx2\u001b[0m\u001b[0;34m.\u001b[0m\u001b[0mprint_val\u001b[0m\u001b[0;34m(\u001b[0m\u001b[0;34m)\u001b[0m\u001b[0;34m\u001b[0m\u001b[0;34m\u001b[0m\u001b[0m\n\u001b[0m",
            "\u001b[0;32m<ipython-input-41-6c3b1b6c278e>\u001b[0m in \u001b[0;36mprint_val\u001b[0;34m(sri)\u001b[0m\n\u001b[1;32m      6\u001b[0m         \u001b[0mprint\u001b[0m\u001b[0;34m(\u001b[0m\u001b[0mself\u001b[0m\u001b[0;34m.\u001b[0m\u001b[0memp_name\u001b[0m\u001b[0;34m+\u001b[0m\u001b[0;34m\"prasad\"\u001b[0m\u001b[0;34m+\u001b[0m\u001b[0mnew\u001b[0m\u001b[0;34m)\u001b[0m\u001b[0;34m\u001b[0m\u001b[0;34m\u001b[0m\u001b[0m\n\u001b[1;32m      7\u001b[0m     \u001b[0;32mdef\u001b[0m \u001b[0mprint_val\u001b[0m\u001b[0;34m(\u001b[0m\u001b[0msri\u001b[0m\u001b[0;34m)\u001b[0m\u001b[0;34m:\u001b[0m\u001b[0;31m#sri=object\u001b[0m\u001b[0;34m\u001b[0m\u001b[0;34m\u001b[0m\u001b[0m\n\u001b[0;32m----> 8\u001b[0;31m         \u001b[0mprint\u001b[0m\u001b[0;34m(\u001b[0m\u001b[0msri\u001b[0m\u001b[0;34m.\u001b[0m\u001b[0memp_id\u001b[0m\u001b[0;34m,\u001b[0m\u001b[0msri\u001b[0m\u001b[0;34m.\u001b[0m\u001b[0memp_name\u001b[0m\u001b[0;34m)\u001b[0m\u001b[0;34m\u001b[0m\u001b[0;34m\u001b[0m\u001b[0m\n\u001b[0m",
            "\u001b[0;31mAttributeError\u001b[0m: 'sample2' object has no attribute 'emp_name'"
          ]
        }
      ]
    },
    {
      "cell_type": "code",
      "source": [
        "class sample3:#3 #11\n",
        "    def __init__(self,id,name):#4\n",
        "        self.emp_id=id #5\n",
        "        self.emp_name=name #6\n",
        "    def test(self,new):\n",
        "        print(self.emp_name+\"prasad\"+new)\n",
        "    def print_val(sri):#12\n",
        "        print(sri.emp_id,sri.emp_name) #13"
      ],
      "metadata": {
        "id": "fedGupTlscGL"
      },
      "execution_count": null,
      "outputs": []
    },
    {
      "cell_type": "code",
      "source": [
        "class self(sample3):#2 #7 #10\n",
        "    pass\n"
      ],
      "metadata": {
        "id": "rJO5_-OasoU5"
      },
      "execution_count": null,
      "outputs": []
    },
    {
      "cell_type": "code",
      "source": [
        "x3=self(23,\"ramesh\")#1 #8\n",
        "x3.print_val()#9"
      ],
      "metadata": {
        "colab": {
          "base_uri": "https://localhost:8080/"
        },
        "id": "0YdDHwkytB4k",
        "outputId": "875b56cd-f382-4b93-a786-c953abb57c2c"
      },
      "execution_count": null,
      "outputs": [
        {
          "output_type": "stream",
          "name": "stdout",
          "text": [
            "23 ramesh\n"
          ]
        }
      ]
    },
    {
      "cell_type": "code",
      "source": [
        "x3.test(\"qqqqq\")"
      ],
      "metadata": {
        "colab": {
          "base_uri": "https://localhost:8080/"
        },
        "id": "adD8Xq76vpcu",
        "outputId": "28a78828-5bb8-46e9-9b90-f9fd4f7e7643"
      },
      "execution_count": null,
      "outputs": [
        {
          "output_type": "stream",
          "name": "stdout",
          "text": [
            "rameshprasadqqqqq\n"
          ]
        }
      ]
    },
    {
      "cell_type": "code",
      "source": [
        "x5.test(\"qqqq\")"
      ],
      "metadata": {
        "colab": {
          "base_uri": "https://localhost:8080/",
          "height": 171
        },
        "id": "N3W_F-_Wv755",
        "outputId": "f48a8ebd-f436-4b51-9c46-239ce4b283d1"
      },
      "execution_count": null,
      "outputs": [
        {
          "output_type": "error",
          "ename": "NameError",
          "evalue": "ignored",
          "traceback": [
            "\u001b[0;31m---------------------------------------------------------------------------\u001b[0m",
            "\u001b[0;31mNameError\u001b[0m                                 Traceback (most recent call last)",
            "\u001b[0;32m<ipython-input-55-9d38d7db29b8>\u001b[0m in \u001b[0;36m<module>\u001b[0;34m()\u001b[0m\n\u001b[0;32m----> 1\u001b[0;31m \u001b[0mx5\u001b[0m\u001b[0;34m.\u001b[0m\u001b[0mtest\u001b[0m\u001b[0;34m(\u001b[0m\u001b[0;34m\"qqqq\"\u001b[0m\u001b[0;34m)\u001b[0m\u001b[0;34m\u001b[0m\u001b[0;34m\u001b[0m\u001b[0m\n\u001b[0m",
            "\u001b[0;31mNameError\u001b[0m: name 'x5' is not defined"
          ]
        }
      ]
    },
    {
      "cell_type": "markdown",
      "source": [
        "DS"
      ],
      "metadata": {
        "id": "NMiuzLQnzmKv"
      }
    },
    {
      "cell_type": "code",
      "source": [
        "class node:\n",
        "    def __init__(self,data=None):\n",
        "        self.dataval=data\n",
        "        self.nextval=None\n",
        "\n",
        "class linked_list:\n",
        "    def __init__(self):\n",
        "        self.headval=None"
      ],
      "metadata": {
        "id": "3PVTrk4Nznnp"
      },
      "execution_count": null,
      "outputs": []
    },
    {
      "cell_type": "code",
      "source": [
        "x1=linked_list()\n",
        "x1.headval=node(\"sri\")"
      ],
      "metadata": {
        "id": "oqbdPZxQ0FXe"
      },
      "execution_count": null,
      "outputs": []
    },
    {
      "cell_type": "code",
      "source": [
        "x1,x1.headval,x1.headval.dataval,x1.headval.nextval"
      ],
      "metadata": {
        "colab": {
          "base_uri": "https://localhost:8080/"
        },
        "id": "4rIlkn4H0R8J",
        "outputId": "633c34ef-e98f-46b7-ae4e-6e8174b3f0dc"
      },
      "execution_count": null,
      "outputs": [
        {
          "output_type": "execute_result",
          "data": {
            "text/plain": [
              "(<__main__.linked_list at 0x7f8835e8abd0>,\n",
              " <__main__.node at 0x7f8835e8aad0>,\n",
              " 'sri',\n",
              " None)"
            ]
          },
          "metadata": {},
          "execution_count": 72
        }
      ]
    },
    {
      "cell_type": "code",
      "source": [
        "x2=node(\"swetha\")"
      ],
      "metadata": {
        "id": "LSvs3b1p2Vtj"
      },
      "execution_count": null,
      "outputs": []
    },
    {
      "cell_type": "code",
      "source": [
        "x2.dataval,x2.nextval"
      ],
      "metadata": {
        "colab": {
          "base_uri": "https://localhost:8080/"
        },
        "id": "H1t2HtrT2jfR",
        "outputId": "339e9130-a87a-4435-8487-9ed853377c6a"
      },
      "execution_count": null,
      "outputs": [
        {
          "output_type": "execute_result",
          "data": {
            "text/plain": [
              "('swetha', None)"
            ]
          },
          "metadata": {},
          "execution_count": 71
        }
      ]
    },
    {
      "cell_type": "code",
      "source": [
        "x3=node(\"parth\")"
      ],
      "metadata": {
        "id": "8J40aYLE24wz"
      },
      "execution_count": null,
      "outputs": []
    },
    {
      "cell_type": "code",
      "source": [
        "x3.dataval,x3.nextval"
      ],
      "metadata": {
        "colab": {
          "base_uri": "https://localhost:8080/"
        },
        "id": "ScyxNs6L29x9",
        "outputId": "eb74adea-57bc-45a4-e38a-d41bf5c7fd02"
      },
      "execution_count": null,
      "outputs": [
        {
          "output_type": "execute_result",
          "data": {
            "text/plain": [
              "('parth', None)"
            ]
          },
          "metadata": {},
          "execution_count": 74
        }
      ]
    },
    {
      "cell_type": "code",
      "source": [
        "x1.headval.nextval=x2"
      ],
      "metadata": {
        "id": "uaYd2Zl_3Y2Q"
      },
      "execution_count": null,
      "outputs": []
    },
    {
      "cell_type": "code",
      "source": [
        "x1,x1.headval,x1.headval.dataval,x1.headval.nextval,x2"
      ],
      "metadata": {
        "colab": {
          "base_uri": "https://localhost:8080/"
        },
        "id": "DCtcxntI3nLQ",
        "outputId": "d0a81b7c-e99d-4fc7-b0fb-e581030599a8"
      },
      "execution_count": null,
      "outputs": [
        {
          "output_type": "execute_result",
          "data": {
            "text/plain": [
              "(<__main__.linked_list at 0x7f8835e8abd0>,\n",
              " <__main__.node at 0x7f8835e8aad0>,\n",
              " 'sri',\n",
              " <__main__.node at 0x7f8835e0b4d0>,\n",
              " <__main__.node at 0x7f8835e0b4d0>)"
            ]
          },
          "metadata": {},
          "execution_count": 76
        }
      ]
    },
    {
      "cell_type": "code",
      "source": [
        "x2.dataval"
      ],
      "metadata": {
        "colab": {
          "base_uri": "https://localhost:8080/",
          "height": 35
        },
        "id": "QWlHA5Bf4p-0",
        "outputId": "cd506637-7e6d-4d3a-cd38-059da35f9391"
      },
      "execution_count": null,
      "outputs": [
        {
          "output_type": "execute_result",
          "data": {
            "text/plain": [
              "'swetha'"
            ],
            "application/vnd.google.colaboratory.intrinsic+json": {
              "type": "string"
            }
          },
          "metadata": {},
          "execution_count": 78
        }
      ]
    },
    {
      "cell_type": "code",
      "source": [
        "x1.headval.nextval.dataval #x2.dataval"
      ],
      "metadata": {
        "colab": {
          "base_uri": "https://localhost:8080/",
          "height": 35
        },
        "id": "_YMxWgCV3vUH",
        "outputId": "89c9d721-e2d2-4a71-8bb6-79b94f1f7e93"
      },
      "execution_count": null,
      "outputs": [
        {
          "output_type": "execute_result",
          "data": {
            "text/plain": [
              "'swetha'"
            ],
            "application/vnd.google.colaboratory.intrinsic+json": {
              "type": "string"
            }
          },
          "metadata": {},
          "execution_count": 79
        }
      ]
    },
    {
      "cell_type": "code",
      "source": [
        "x1.headval.nextval.nextval #x2.nextval"
      ],
      "metadata": {
        "id": "9hxqJfMG5Cf9"
      },
      "execution_count": null,
      "outputs": []
    },
    {
      "cell_type": "code",
      "source": [
        "x2.nextval=x3"
      ],
      "metadata": {
        "id": "JHkzZKDz5tbD"
      },
      "execution_count": null,
      "outputs": []
    },
    {
      "cell_type": "code",
      "source": [
        "x2.dataval,x2.nextval,x3,x2.nextval.dataval"
      ],
      "metadata": {
        "colab": {
          "base_uri": "https://localhost:8080/"
        },
        "id": "NmkWmaup52EY",
        "outputId": "f62909bf-779e-4119-dea2-ab31ebd86691"
      },
      "execution_count": null,
      "outputs": [
        {
          "output_type": "execute_result",
          "data": {
            "text/plain": [
              "('swetha',\n",
              " <__main__.node at 0x7f8835e2d890>,\n",
              " <__main__.node at 0x7f8835e2d890>,\n",
              " 'parth')"
            ]
          },
          "metadata": {},
          "execution_count": 84
        }
      ]
    },
    {
      "cell_type": "code",
      "source": [
        "class node:#6\n",
        "    def __init__(self,data=None):#7 self=x1.headval ,data=\"sri\"\n",
        "        self.dataval=data#8 x1.headval.dataval=\"sri\"\n",
        "        self.nextval=None#9 x1.headval.nextval=None\n",
        "\n",
        "class linked_list:#2\n",
        "    def __init__(self):#3 self=x1\n",
        "        self.headval=None#4 creates property x1.headval=None\n",
        "\n",
        "x1=linked_list()#1 creates obj x1 based on class linked_list\n",
        "x1.headval=node(\"sri\")#5 creates x1.headval  as obj, based on class node(overwrites property into obj) with arg \"sri\" #10 x1.headval obj is created\n",
        "x2=node(\"swetha\")#11 creates x2  as obj, based on class node with arg \"sri\" \n",
        "x3=node(\"parth\")\n",
        "x1.headval.nextval=x2\n",
        "x2.nextval=x3"
      ],
      "metadata": {
        "id": "_Cuyhg2jpNjT"
      },
      "execution_count": null,
      "outputs": []
    },
    {
      "cell_type": "code",
      "source": [
        "print(\"after x1-----------\")\n",
        "print(x1.headval,x1.headval.dataval,x1.headval.nextval)\n",
        "print(\"after x2-----------\")\n",
        "print(x2,x2.dataval,x2.nextval)\n",
        "print(\"after x3-----------\")\n",
        "print(x3,x3.dataval,x3.nextval)"
      ],
      "metadata": {
        "colab": {
          "base_uri": "https://localhost:8080/"
        },
        "id": "F535X4Plq8oV",
        "outputId": "7f4cbf5a-b4b6-436d-c5bc-cb54b7157a7c"
      },
      "execution_count": null,
      "outputs": [
        {
          "output_type": "stream",
          "name": "stdout",
          "text": [
            "after x1-----------\n",
            "<__main__.node object at 0x7f995bea9c10> sri <__main__.node object at 0x7f995bea9c90>\n",
            "after x2-----------\n",
            "<__main__.node object at 0x7f995bea9c90> swetha <__main__.node object at 0x7f995bea9b50>\n",
            "after x3-----------\n",
            "<__main__.node object at 0x7f995bea9b50> parth None\n"
          ]
        }
      ]
    },
    {
      "cell_type": "markdown",
      "source": [
        "#print linked list"
      ],
      "metadata": {
        "id": "pA-6EwZXtIUl"
      }
    },
    {
      "cell_type": "code",
      "source": [
        "class node:\n",
        "    def __init__(self,data=None):\n",
        "        self.dataval=data\n",
        "        self.nextval=None\n",
        "\n",
        "class linked_list:#2\n",
        "    def __init__(self):\n",
        "        self.headval=None\n",
        "\n",
        "    def print_linked(self):#3 self=x1\n",
        "        tempval=self.headval#4 creating temp variable tempval=x1.headval\n",
        "        while tempval is not None:#5 x1.headval != None #8 #11 #14\n",
        "            print(tempval.dataval)#6 prints x1.headval.dataval =>\"sri\" #9 #12\n",
        "            tempval=tempval.nextval #7 overwrite_one tempval=x1.headval.nextval=x2 #10 #13 \n",
        "#8 tempval=x1.headval.nextval=x2 is not none\n",
        "#9 prints x1.headval.nextval.dataval=x2.dataval =>\"swetha\"\n",
        "#10 overwrite_two tempval=x1.headval.nextval.nextval=>x2.nextval=>x3\n",
        "#11 checks tempval =>x1.headval.nextval.nextval=>x2.nextval=>x3 is not none\n",
        "#12 prints x1.headval.nextval.nextval.dataval=x2.nextval.dataval =x3.dataval=>\"parth\"\n",
        "#13 overwrite_three tempval=x1.headval.nextval.nextval.nextval=>x2.nextval.nextval=>x3.nextval=>None\n",
        "#14 verifies empval=x1.headval.nextval.nextval.nextval=>x2.nextval.nextval=>x3.nextval!=None (dissat) come out from while loop\n",
        "x1=linked_list()\n",
        "x1.headval=node(\"sri\")\n",
        "x2=node(\"swetha\")\n",
        "x3=node(\"parth\")\n",
        "x1.headval.nextval=x2\n",
        "x2.nextval=x3\n"
      ],
      "metadata": {
        "id": "bKwAObvqtLM4"
      },
      "execution_count": null,
      "outputs": []
    },
    {
      "cell_type": "code",
      "source": [
        "x1.print_linked()#1 calls method print_linked from linked_list class"
      ],
      "metadata": {
        "colab": {
          "base_uri": "https://localhost:8080/"
        },
        "id": "i3AzsoWOtzsS",
        "outputId": "2aad606f-5ec5-449d-f95c-4da5c62f1f96"
      },
      "execution_count": null,
      "outputs": [
        {
          "output_type": "stream",
          "name": "stdout",
          "text": [
            "sri\n",
            "swetha\n",
            "parth\n"
          ]
        }
      ]
    },
    {
      "cell_type": "markdown",
      "source": [
        "#insert middle"
      ],
      "metadata": {
        "id": "rrKstS0czP30"
      }
    },
    {
      "cell_type": "code",
      "source": [
        "class node:#6\n",
        "    def __init__(self,data=None):#7 self=temp_node, data=new_data=\"Anand \"(from step 5)\n",
        "        self.dataval=data#8 temp_node.dataval=Anand\n",
        "        self.nextval=None#9 temp_node.nextval=None\n",
        "\n",
        "class linked_list:#2\n",
        "    def __init__(self):\n",
        "        self.headval=None\n",
        "\n",
        "    def print_linked(self):\n",
        "        tempval=self.headval\n",
        "        while tempval is not None:\n",
        "            print(tempval.dataval)\n",
        "            tempval=tempval.nextval  \n",
        "    def insert_middle(self,middle_node,new_data):#3 self=x1,middle_node=x1.headval.nextval,new_data=\"Anand\"\n",
        "        if middle_node is None:#4 verifies\n",
        "            print(\"------invalid node-------\")\n",
        "            return\n",
        "        temp_node=node(new_data)#5 creates obj temp_node based on node class with arg \"Anand\" #10 sucessfullt temp_node obj is created\n",
        "        temp_node.nextval=middle_node.nextval #11 overwriting temp_node.nextval=x1.headval.nextval.nextval\n",
        "        middle_node.nextval=temp_node#12 overwriting x1.headval.nextval.nextval=temp_node\n",
        "x1=linked_list()\n",
        "x1.headval=node(\"sri\")\n",
        "x2=node(\"swetha\")\n",
        "x3=node(\"parth\")\n",
        "x4=node(\"raja\")\n",
        "x1.headval.nextval=x2\n",
        "x2.nextval=x3\n",
        "x3.nextval=x4"
      ],
      "metadata": {
        "id": "zcALAp1kzSTx"
      },
      "execution_count": null,
      "outputs": []
    },
    {
      "cell_type": "code",
      "source": [
        "print(\"*************Before Insert***********\")\n",
        "x1.print_linked()\n",
        "x1.insert_middle(x1.headval.nextval,\"Anand\")#1 calls method insert_middle from linked list class with arg x1.headval.nextval, \"Anand\" #13\n",
        "print(\"*************After Insert***********\")\n",
        "x1.print_linked()\n"
      ],
      "metadata": {
        "colab": {
          "base_uri": "https://localhost:8080/"
        },
        "id": "e61DCYzlzwjn",
        "outputId": "868f4de6-db10-4d1f-8a9c-14cfa50e6760"
      },
      "execution_count": null,
      "outputs": [
        {
          "output_type": "stream",
          "name": "stdout",
          "text": [
            "*************Before Insert***********\n",
            "sri\n",
            "swetha\n",
            "parth\n",
            "raja\n",
            "*************After Insert***********\n",
            "sri\n",
            "swetha\n",
            "Anand\n",
            "parth\n",
            "raja\n"
          ]
        }
      ]
    },
    {
      "cell_type": "code",
      "source": [
        "print(\"*************Before Insert***********\")\n",
        "x1.print_linked()\n",
        "print(\"*************After Insert***********\")\n",
        "x1.insert_middle(x1.headval.nextval.nextval.nextval.nextval,\"Anand\")#1 calls method insert_middle from linked list class with arg x1.headval.nextval, \"Anand\" #13\n",
        "\n",
        "x1.print_linked()"
      ],
      "metadata": {
        "colab": {
          "base_uri": "https://localhost:8080/"
        },
        "id": "eY-D3Z0J6Fdl",
        "outputId": "afbf84f1-943a-41e8-a7ce-a7eda2c6887e"
      },
      "execution_count": null,
      "outputs": [
        {
          "output_type": "stream",
          "name": "stdout",
          "text": [
            "*************Before Insert***********\n",
            "sri\n",
            "swetha\n",
            "parth\n",
            "raja\n",
            "*************After Insert***********\n",
            "------invalid node-------\n",
            "sri\n",
            "swetha\n",
            "parth\n",
            "raja\n"
          ]
        }
      ]
    },
    {
      "cell_type": "code",
      "source": [
        "print(\"*************Before Insert***********\")\n",
        "x1.print_linked()\n",
        "print(\"*************After Insert***********\")\n",
        "x1.insert_middle(None,\"Anand\")#1 calls method insert_middle from linked list class with arg x1.headval.nextval, \"Anand\" #13\n",
        "\n",
        "x1.print_linked()"
      ],
      "metadata": {
        "colab": {
          "base_uri": "https://localhost:8080/"
        },
        "id": "qs0cY63P69Xk",
        "outputId": "04d5699a-11fe-40f8-818f-9c585e1b354b"
      },
      "execution_count": null,
      "outputs": [
        {
          "output_type": "stream",
          "name": "stdout",
          "text": [
            "*************Before Insert***********\n",
            "sri\n",
            "Anand\n",
            "swetha\n",
            "parth\n",
            "raja\n",
            "*************After Insert***********\n",
            "------invalid node-------\n",
            "sri\n",
            "Anand\n",
            "swetha\n",
            "parth\n",
            "raja\n"
          ]
        }
      ]
    },
    {
      "cell_type": "markdown",
      "source": [
        "#insert in beg"
      ],
      "metadata": {
        "id": "nZRIg8pI7lyQ"
      }
    },
    {
      "cell_type": "code",
      "source": [
        "class node:\n",
        "    def __init__(self,data=None):\n",
        "        self.dataval=data\n",
        "        self.nextval=None\n",
        "\n",
        "class linked_list:\n",
        "    def __init__(self):\n",
        "        self.headval=None\n",
        "\n",
        "    def print_linked(self):\n",
        "        tempval=self.headval\n",
        "        while tempval is not None:\n",
        "            print(tempval.dataval)\n",
        "            tempval=tempval.nextval  \n",
        "    def insert_middle(self,middle_node,new_data):\n",
        "        if middle_node is None:\n",
        "            print(\"------invalid node-------\")\n",
        "            return\n",
        "        temp_node=node(new_data)\n",
        "        temp_node.nextval=middle_node.nextval \n",
        "        middle_node.nextval=temp_node\n",
        "    def insert_beg(self,new_data):\n",
        "        temp_node=node(new_data)\n",
        "        temp_node.nextval=self.headval\n",
        "        self.headval=temp_node\n",
        "x1=linked_list()\n",
        "x1.headval=node(\"sri\")\n",
        "x2=node(\"swetha\")\n",
        "x3=node(\"parth\")\n",
        "x4=node(\"raja\")\n",
        "x1.headval.nextval=x2\n",
        "x2.nextval=x3\n",
        "x3.nextval=x4"
      ],
      "metadata": {
        "id": "XvRFZYsE7oId"
      },
      "execution_count": null,
      "outputs": []
    },
    {
      "cell_type": "code",
      "source": [
        "print(\"*************Before Insert***********\")\n",
        "x1.print_linked()\n",
        "x1.insert_middle(x1.headval.nextval,\"Anand\")\n",
        "print(\"*************After Insert***********\")\n",
        "x1.print_linked()\n",
        "print(\"*************After Insert beg***********\")\n",
        "x1.insert_beg(\"salman\")\n",
        "x1.print_linked()"
      ],
      "metadata": {
        "colab": {
          "base_uri": "https://localhost:8080/"
        },
        "id": "s_kF3FBL8QKz",
        "outputId": "9d6bdf27-5196-4119-9d5d-faaf6da9b6b8"
      },
      "execution_count": null,
      "outputs": [
        {
          "output_type": "stream",
          "name": "stdout",
          "text": [
            "*************Before Insert***********\n",
            "sri\n",
            "swetha\n",
            "parth\n",
            "raja\n",
            "*************After Insert***********\n",
            "sri\n",
            "swetha\n",
            "Anand\n",
            "parth\n",
            "raja\n",
            "*************After Insert beg***********\n",
            "salman\n",
            "sri\n",
            "swetha\n",
            "Anand\n",
            "parth\n",
            "raja\n"
          ]
        }
      ]
    },
    {
      "cell_type": "markdown",
      "source": [
        "#insert end"
      ],
      "metadata": {
        "id": "4zbqAEVx9lwL"
      }
    },
    {
      "cell_type": "code",
      "source": [
        "class node:\n",
        "    def __init__(self,data=None):\n",
        "        self.dataval=data\n",
        "        self.nextval=None\n",
        "\n",
        "class linked_list:\n",
        "    def __init__(self):\n",
        "        self.headval=None\n",
        "\n",
        "    def print_linked(self):\n",
        "        tempval=self.headval\n",
        "        while tempval is not None:\n",
        "            print(tempval.dataval)\n",
        "            tempval=tempval.nextval  \n",
        "    def insert_middle(self,middle_node,new_data):\n",
        "        if middle_node is None:\n",
        "            print(\"------invalid node-------\")\n",
        "            return\n",
        "        temp_node=node(new_data)\n",
        "        temp_node.nextval=middle_node.nextval \n",
        "        middle_node.nextval=temp_node\n",
        "    def insert_beg(self,new_data):\n",
        "        temp_node=node(new_data)\n",
        "        temp_node.nextval=self.headval\n",
        "        self.headval=temp_node\n",
        "    def insert_end(self,new_data):\n",
        "        temp_node=node(new_data)\n",
        "        if self.headval is None:\n",
        "            self.headval=temp_node\n",
        "            return\n",
        "        tempval=self.headval\n",
        "        while(tempval.nextval):\n",
        "            tempval=tempval.nextval\n",
        "        tempval.nextval=temp_node\n",
        "x1=linked_list()\n",
        "x1.headval=node(\"sri\")\n",
        "x2=node(\"swetha\")\n",
        "x3=node(\"parth\")\n",
        "x4=node(\"raja\")\n",
        "x5=node(\"ramesh\")\n",
        "x1.headval.nextval=x2\n",
        "x2.nextval=x3\n",
        "x3.nextval=x4\n",
        "x4.nextval=x5"
      ],
      "metadata": {
        "id": "BeTqps9v9n6C"
      },
      "execution_count": null,
      "outputs": []
    },
    {
      "cell_type": "code",
      "source": [
        "print(\"*************Before Insert***********\")\n",
        "x1.print_linked()\n",
        "x1.insert_middle(x1.headval.nextval,\"Anand\")\n",
        "print(\"*************After Insert***********\")\n",
        "x1.print_linked()\n",
        "print(\"*************After Insert beg***********\")\n",
        "x1.insert_beg(\"salman\")\n",
        "x1.print_linked()\n",
        "print(\"*************After Insert end***********\")\n",
        "x1.insert_end(\"pavan\")\n",
        "x1.print_linked()"
      ],
      "metadata": {
        "colab": {
          "base_uri": "https://localhost:8080/"
        },
        "id": "jMEVA5dp_T_Q",
        "outputId": "8459a553-2b68-4b19-c805-10acab0e4c3b"
      },
      "execution_count": null,
      "outputs": [
        {
          "output_type": "stream",
          "name": "stdout",
          "text": [
            "*************Before Insert***********\n",
            "sri\n",
            "swetha\n",
            "parth\n",
            "raja\n",
            "ramesh\n",
            "*************After Insert***********\n",
            "sri\n",
            "swetha\n",
            "Anand\n",
            "parth\n",
            "raja\n",
            "ramesh\n",
            "*************After Insert beg***********\n",
            "salman\n",
            "sri\n",
            "swetha\n",
            "Anand\n",
            "parth\n",
            "raja\n",
            "ramesh\n",
            "*************After Insert end***********\n",
            "salman\n",
            "sri\n",
            "swetha\n",
            "Anand\n",
            "parth\n",
            "raja\n",
            "ramesh\n",
            "pavan\n"
          ]
        }
      ]
    },
    {
      "cell_type": "code",
      "source": [
        "y1=linked_list()\n",
        "print(\"*************Before Insert***********\")\n",
        "y1.print_linked()\n",
        "print(\"*************After Insert end***********\")\n",
        "y1.insert_end(\"pavan\")\n",
        "y1.print_linked()"
      ],
      "metadata": {
        "colab": {
          "base_uri": "https://localhost:8080/"
        },
        "id": "tDZkqCs2_t7B",
        "outputId": "b1f5e29a-9103-4b5a-b30a-a1cbaa4139db"
      },
      "execution_count": null,
      "outputs": [
        {
          "output_type": "stream",
          "name": "stdout",
          "text": [
            "*************Before Insert***********\n",
            "*************After Insert end***********\n",
            "pavan\n"
          ]
        }
      ]
    },
    {
      "cell_type": "markdown",
      "source": [
        "#remove from linked list"
      ],
      "metadata": {
        "id": "ygrCY4MBAx7f"
      }
    },
    {
      "cell_type": "code",
      "source": [
        "class node:\n",
        "    def __init__(self,data=None):\n",
        "        self.dataval=data\n",
        "        self.preval=None\n",
        "        self.nextval=None\n",
        "\n",
        "class linked_list:\n",
        "    def __init__(self):\n",
        "        self.headval=None\n",
        "\n",
        "    def print_linked(self):\n",
        "        tempval=self.headval\n",
        "        while tempval is not None:\n",
        "            print(tempval.dataval)\n",
        "            tempval=tempval.nextval  \n",
        "    def insert_middle(self,middle_node,new_data):\n",
        "        if middle_node is None:\n",
        "            print(\"------invalid node-------\")\n",
        "            return\n",
        "        temp_node=node(new_data)\n",
        "        temp_node.nextval=middle_node.nextval \n",
        "        middle_node.nextval=temp_node\n",
        "    def insert_beg(self,new_data):\n",
        "        temp_node=node(new_data)\n",
        "        temp_node.nextval=self.headval\n",
        "        self.headval=temp_node\n",
        "    def insert_end(self,new_data):\n",
        "        temp_node=node(new_data)\n",
        "        if self.headval is None:\n",
        "            self.headval=temp_node\n",
        "            return\n",
        "        tempval=self.headval\n",
        "        while(tempval.nextval):\n",
        "            tempval=tempval.nextval\n",
        "        tempval.nextval=temp_node\n",
        "    def remove_list(self,remove_data):\n",
        "        tempval=self.headval\n",
        "        if(tempval is not None):\n",
        "            if(tempval.dataval==remove_data):\n",
        "                self.headval=tempval.nextval\n",
        "                tempval=None\n",
        "                return\n",
        "        while(tempval is not None):\n",
        "            if tempval.dataval==remove_data:\n",
        "                break\n",
        "            preval=tempval\n",
        "            tempval=tempval.nextval\n",
        "        if(tempval==None):\n",
        "            print(\"-------no match-\")\n",
        "            return\n",
        "        preval.nextval=tempval.nextval\n",
        "        tempval=None\n",
        "x1=linked_list()\n",
        "x1.headval=node(\"sri\")\n",
        "x2=node(\"swetha\")\n",
        "x3=node(\"parth\")\n",
        "x4=node(\"raja\")\n",
        "x5=node(\"ramesh\")\n",
        "x1.headval.nextval=x2\n",
        "x2.nextval=x3\n",
        "x3.nextval=x4\n",
        "x4.nextval=x5"
      ],
      "metadata": {
        "id": "v2F1XoxvA1T6"
      },
      "execution_count": null,
      "outputs": []
    },
    {
      "cell_type": "code",
      "source": [
        "print(\"*************Before Insert***********\")\n",
        "x1.print_linked()\n",
        "x1.insert_middle(x1.headval.nextval,\"Anand\")\n",
        "print(\"*************After Insert***********\")\n",
        "x1.print_linked()\n",
        "print(\"*************After Insert beg***********\")\n",
        "x1.insert_beg(\"salman\")\n",
        "x1.print_linked()\n",
        "print(\"*************After Insert end***********\")\n",
        "x1.insert_end(\"pavan\")\n",
        "x1.print_linked()\n",
        "print(\"*************After remove***********\")\n",
        "x1.remove_list(\"salman\")\n",
        "x1.print_linked()\n",
        "print(\"*************After remove***********\")\n",
        "x1.remove_list(\"priya\")\n",
        "x1.print_linked()"
      ],
      "metadata": {
        "colab": {
          "base_uri": "https://localhost:8080/"
        },
        "id": "Bfin8XV0Dn2N",
        "outputId": "47fbc0bb-5922-4bb0-c9b3-4424d8e8f796"
      },
      "execution_count": null,
      "outputs": [
        {
          "output_type": "stream",
          "name": "stdout",
          "text": [
            "*************Before Insert***********\n",
            "sri\n",
            "swetha\n",
            "parth\n",
            "raja\n",
            "ramesh\n",
            "*************After Insert***********\n",
            "sri\n",
            "swetha\n",
            "Anand\n",
            "parth\n",
            "raja\n",
            "ramesh\n",
            "*************After Insert beg***********\n",
            "salman\n",
            "sri\n",
            "swetha\n",
            "Anand\n",
            "parth\n",
            "raja\n",
            "ramesh\n",
            "*************After Insert end***********\n",
            "salman\n",
            "sri\n",
            "swetha\n",
            "Anand\n",
            "parth\n",
            "raja\n",
            "ramesh\n",
            "pavan\n",
            "*************After remove***********\n",
            "sri\n",
            "swetha\n",
            "Anand\n",
            "parth\n",
            "raja\n",
            "ramesh\n",
            "pavan\n",
            "*************After remove***********\n",
            "-------no match-\n",
            "sri\n",
            "swetha\n",
            "Anand\n",
            "parth\n",
            "raja\n",
            "ramesh\n",
            "pavan\n"
          ]
        }
      ]
    },
    {
      "cell_type": "code",
      "source": [
        "#one class lib\n",
        "#one class for cus\n",
        "#lib - show list of books, lend a book, add a book\n",
        "#cust - request a book, return a book"
      ],
      "metadata": {
        "id": "ty9oe5hAjeH7"
      },
      "execution_count": null,
      "outputs": []
    },
    {
      "cell_type": "code",
      "source": [
        "class Library:#2 #102\n",
        "    def __init__(self,data):#3 self=lib, data=[\"book1\",\"book2\",\"book3\",\"book4\",\"book5\"]\n",
        "        self.booklist=data#4 creating property lib.booklist==[\"book1\",\"book2\",\"book3\",\"book4\",\"book5\"]\n",
        "    def showbooks(self):#104 self=lib\n",
        "        for i in self.booklist:#105 lib.booklist (from step 4)\n",
        "            print(i)\n",
        "    def lendABook(self,bookname):#209 self = lib, bookname=book2\n",
        "        if bookname in self.booklist:\n",
        "            self.booklist.remove(bookname)\n",
        "            print(\"your request is fulfilled, Thankyou\")\n",
        "        else:\n",
        "            print(\"book is not available\")\n",
        "    def addABook(self,returnedBook):\n",
        "        self.booklist.append(returnedBook)\n",
        "        print(\"Book sucessfully added, Thankyou\")\n",
        "class customer:#6 #202\n",
        "    def requestABook(self): #203 self=cus\n",
        "        print(\"enter the book you like to borrow\")#204\n",
        "        self.book=input()#205 cus.book=via runtime\n",
        "        return self.book#206 returns cus.book to #201\n",
        "    def returnABook(self):\n",
        "        print(\"Enter the book you want to return\")\n",
        "        self.book=input()\n",
        "        return self.book\n",
        "\n"
      ],
      "metadata": {
        "id": "F0Buk7_fmoPq"
      },
      "execution_count": null,
      "outputs": []
    },
    {
      "cell_type": "code",
      "source": [
        "lib=Library([\"book1\",\"book2\",\"book3\",\"book4\",\"book5\"])# 1 creating obj lib , by calling class Library, passing list of books \n",
        "cus=customer() #5 creating empty obj based on class customer"
      ],
      "metadata": {
        "id": "eiCPLaMxm6JX"
      },
      "execution_count": null,
      "outputs": []
    },
    {
      "cell_type": "code",
      "source": [
        "while True:#7 infinite loop\n",
        "    print(\"select option\")#8\n",
        "    print(\"\\n 1-show book list \\n 2-lend a book \\n 3-return a book\")#9\n",
        "    option=int(input())#10 runtime input is required (100-option 1, 200-option 2, 3-option 3)\n",
        "    if option==1:#100\n",
        "        lib.showbooks() #101 calling method showbooks based on obj lib\n",
        "    elif option==2:#200\n",
        "        requestedBook=cus.requestABook()#201 created a variable requestedBook -> value returned from requestABook #207 requestedBook=cus.book=book2(eg)\n",
        "        lib.lendABook(requestedBook)#208 calling method lendABook based on obj lib with value book2\n",
        "    elif option==3:\n",
        "        returnedBook=cus.returnABook()\n",
        "        lib.addABook(returnedBook)\n",
        "\n"
      ],
      "metadata": {
        "colab": {
          "base_uri": "https://localhost:8080/",
          "height": 652
        },
        "id": "ccxW7gkVnJE0",
        "outputId": "567c4e02-c6f0-4d3f-aef4-4d223af0af6b"
      },
      "execution_count": null,
      "outputs": [
        {
          "output_type": "stream",
          "name": "stdout",
          "text": [
            "select option\n",
            "\n",
            " 1-show book list \n",
            " 2-lend a book \n",
            " 3-return a book\n"
          ]
        },
        {
          "output_type": "error",
          "ename": "KeyboardInterrupt",
          "evalue": "ignored",
          "traceback": [
            "\u001b[0;31m---------------------------------------------------------------------------\u001b[0m",
            "\u001b[0;31mKeyboardInterrupt\u001b[0m                         Traceback (most recent call last)",
            "\u001b[0;32m/usr/local/lib/python3.7/dist-packages/ipykernel/kernelbase.py\u001b[0m in \u001b[0;36m_input_request\u001b[0;34m(self, prompt, ident, parent, password)\u001b[0m\n\u001b[1;32m    728\u001b[0m             \u001b[0;32mtry\u001b[0m\u001b[0;34m:\u001b[0m\u001b[0;34m\u001b[0m\u001b[0;34m\u001b[0m\u001b[0m\n\u001b[0;32m--> 729\u001b[0;31m                 \u001b[0mident\u001b[0m\u001b[0;34m,\u001b[0m \u001b[0mreply\u001b[0m \u001b[0;34m=\u001b[0m \u001b[0mself\u001b[0m\u001b[0;34m.\u001b[0m\u001b[0msession\u001b[0m\u001b[0;34m.\u001b[0m\u001b[0mrecv\u001b[0m\u001b[0;34m(\u001b[0m\u001b[0mself\u001b[0m\u001b[0;34m.\u001b[0m\u001b[0mstdin_socket\u001b[0m\u001b[0;34m,\u001b[0m \u001b[0;36m0\u001b[0m\u001b[0;34m)\u001b[0m\u001b[0;34m\u001b[0m\u001b[0;34m\u001b[0m\u001b[0m\n\u001b[0m\u001b[1;32m    730\u001b[0m             \u001b[0;32mexcept\u001b[0m \u001b[0mException\u001b[0m\u001b[0;34m:\u001b[0m\u001b[0;34m\u001b[0m\u001b[0;34m\u001b[0m\u001b[0m\n",
            "\u001b[0;32m/usr/local/lib/python3.7/dist-packages/jupyter_client/session.py\u001b[0m in \u001b[0;36mrecv\u001b[0;34m(self, socket, mode, content, copy)\u001b[0m\n\u001b[1;32m    802\u001b[0m         \u001b[0;32mtry\u001b[0m\u001b[0;34m:\u001b[0m\u001b[0;34m\u001b[0m\u001b[0;34m\u001b[0m\u001b[0m\n\u001b[0;32m--> 803\u001b[0;31m             \u001b[0mmsg_list\u001b[0m \u001b[0;34m=\u001b[0m \u001b[0msocket\u001b[0m\u001b[0;34m.\u001b[0m\u001b[0mrecv_multipart\u001b[0m\u001b[0;34m(\u001b[0m\u001b[0mmode\u001b[0m\u001b[0;34m,\u001b[0m \u001b[0mcopy\u001b[0m\u001b[0;34m=\u001b[0m\u001b[0mcopy\u001b[0m\u001b[0;34m)\u001b[0m\u001b[0;34m\u001b[0m\u001b[0;34m\u001b[0m\u001b[0m\n\u001b[0m\u001b[1;32m    804\u001b[0m         \u001b[0;32mexcept\u001b[0m \u001b[0mzmq\u001b[0m\u001b[0;34m.\u001b[0m\u001b[0mZMQError\u001b[0m \u001b[0;32mas\u001b[0m \u001b[0me\u001b[0m\u001b[0;34m:\u001b[0m\u001b[0;34m\u001b[0m\u001b[0;34m\u001b[0m\u001b[0m\n",
            "\u001b[0;32m/usr/local/lib/python3.7/dist-packages/zmq/sugar/socket.py\u001b[0m in \u001b[0;36mrecv_multipart\u001b[0;34m(self, flags, copy, track)\u001b[0m\n\u001b[1;32m    624\u001b[0m         \"\"\"\n\u001b[0;32m--> 625\u001b[0;31m         \u001b[0mparts\u001b[0m \u001b[0;34m=\u001b[0m \u001b[0;34m[\u001b[0m\u001b[0mself\u001b[0m\u001b[0;34m.\u001b[0m\u001b[0mrecv\u001b[0m\u001b[0;34m(\u001b[0m\u001b[0mflags\u001b[0m\u001b[0;34m,\u001b[0m \u001b[0mcopy\u001b[0m\u001b[0;34m=\u001b[0m\u001b[0mcopy\u001b[0m\u001b[0;34m,\u001b[0m \u001b[0mtrack\u001b[0m\u001b[0;34m=\u001b[0m\u001b[0mtrack\u001b[0m\u001b[0;34m)\u001b[0m\u001b[0;34m]\u001b[0m\u001b[0;34m\u001b[0m\u001b[0;34m\u001b[0m\u001b[0m\n\u001b[0m\u001b[1;32m    626\u001b[0m         \u001b[0;31m# have first part already, only loop while more to receive\u001b[0m\u001b[0;34m\u001b[0m\u001b[0;34m\u001b[0m\u001b[0;34m\u001b[0m\u001b[0m\n",
            "\u001b[0;32mzmq/backend/cython/socket.pyx\u001b[0m in \u001b[0;36mzmq.backend.cython.socket.Socket.recv\u001b[0;34m()\u001b[0m\n",
            "\u001b[0;32mzmq/backend/cython/socket.pyx\u001b[0m in \u001b[0;36mzmq.backend.cython.socket.Socket.recv\u001b[0;34m()\u001b[0m\n",
            "\u001b[0;32mzmq/backend/cython/socket.pyx\u001b[0m in \u001b[0;36mzmq.backend.cython.socket._recv_copy\u001b[0;34m()\u001b[0m\n",
            "\u001b[0;32m/usr/local/lib/python3.7/dist-packages/zmq/backend/cython/checkrc.pxd\u001b[0m in \u001b[0;36mzmq.backend.cython.checkrc._check_rc\u001b[0;34m()\u001b[0m\n",
            "\u001b[0;31mKeyboardInterrupt\u001b[0m: ",
            "\nDuring handling of the above exception, another exception occurred:\n",
            "\u001b[0;31mKeyboardInterrupt\u001b[0m                         Traceback (most recent call last)",
            "\u001b[0;32m<ipython-input-18-b3225f4888c9>\u001b[0m in \u001b[0;36m<module>\u001b[0;34m()\u001b[0m\n\u001b[1;32m      2\u001b[0m     \u001b[0mprint\u001b[0m\u001b[0;34m(\u001b[0m\u001b[0;34m\"select option\"\u001b[0m\u001b[0;34m)\u001b[0m\u001b[0;34m\u001b[0m\u001b[0;34m\u001b[0m\u001b[0m\n\u001b[1;32m      3\u001b[0m     \u001b[0mprint\u001b[0m\u001b[0;34m(\u001b[0m\u001b[0;34m\"\\n 1-show book list \\n 2-lend a book \\n 3-return a book\"\u001b[0m\u001b[0;34m)\u001b[0m\u001b[0;34m\u001b[0m\u001b[0;34m\u001b[0m\u001b[0m\n\u001b[0;32m----> 4\u001b[0;31m     \u001b[0moption\u001b[0m\u001b[0;34m=\u001b[0m\u001b[0mint\u001b[0m\u001b[0;34m(\u001b[0m\u001b[0minput\u001b[0m\u001b[0;34m(\u001b[0m\u001b[0;34m)\u001b[0m\u001b[0;34m)\u001b[0m\u001b[0;34m\u001b[0m\u001b[0;34m\u001b[0m\u001b[0m\n\u001b[0m\u001b[1;32m      5\u001b[0m     \u001b[0;32mif\u001b[0m \u001b[0moption\u001b[0m\u001b[0;34m==\u001b[0m\u001b[0;36m1\u001b[0m\u001b[0;34m:\u001b[0m\u001b[0;34m\u001b[0m\u001b[0;34m\u001b[0m\u001b[0m\n\u001b[1;32m      6\u001b[0m         \u001b[0mlib\u001b[0m\u001b[0;34m.\u001b[0m\u001b[0mshowbooks\u001b[0m\u001b[0;34m(\u001b[0m\u001b[0;34m)\u001b[0m\u001b[0;34m\u001b[0m\u001b[0;34m\u001b[0m\u001b[0m\n",
            "\u001b[0;32m/usr/local/lib/python3.7/dist-packages/ipykernel/kernelbase.py\u001b[0m in \u001b[0;36mraw_input\u001b[0;34m(self, prompt)\u001b[0m\n\u001b[1;32m    702\u001b[0m             \u001b[0mself\u001b[0m\u001b[0;34m.\u001b[0m\u001b[0m_parent_ident\u001b[0m\u001b[0;34m,\u001b[0m\u001b[0;34m\u001b[0m\u001b[0;34m\u001b[0m\u001b[0m\n\u001b[1;32m    703\u001b[0m             \u001b[0mself\u001b[0m\u001b[0;34m.\u001b[0m\u001b[0m_parent_header\u001b[0m\u001b[0;34m,\u001b[0m\u001b[0;34m\u001b[0m\u001b[0;34m\u001b[0m\u001b[0m\n\u001b[0;32m--> 704\u001b[0;31m             \u001b[0mpassword\u001b[0m\u001b[0;34m=\u001b[0m\u001b[0;32mFalse\u001b[0m\u001b[0;34m,\u001b[0m\u001b[0;34m\u001b[0m\u001b[0;34m\u001b[0m\u001b[0m\n\u001b[0m\u001b[1;32m    705\u001b[0m         )\n\u001b[1;32m    706\u001b[0m \u001b[0;34m\u001b[0m\u001b[0m\n",
            "\u001b[0;32m/usr/local/lib/python3.7/dist-packages/ipykernel/kernelbase.py\u001b[0m in \u001b[0;36m_input_request\u001b[0;34m(self, prompt, ident, parent, password)\u001b[0m\n\u001b[1;32m    732\u001b[0m             \u001b[0;32mexcept\u001b[0m \u001b[0mKeyboardInterrupt\u001b[0m\u001b[0;34m:\u001b[0m\u001b[0;34m\u001b[0m\u001b[0;34m\u001b[0m\u001b[0m\n\u001b[1;32m    733\u001b[0m                 \u001b[0;31m# re-raise KeyboardInterrupt, to truncate traceback\u001b[0m\u001b[0;34m\u001b[0m\u001b[0;34m\u001b[0m\u001b[0;34m\u001b[0m\u001b[0m\n\u001b[0;32m--> 734\u001b[0;31m                 \u001b[0;32mraise\u001b[0m \u001b[0mKeyboardInterrupt\u001b[0m\u001b[0;34m\u001b[0m\u001b[0;34m\u001b[0m\u001b[0m\n\u001b[0m\u001b[1;32m    735\u001b[0m             \u001b[0;32melse\u001b[0m\u001b[0;34m:\u001b[0m\u001b[0;34m\u001b[0m\u001b[0;34m\u001b[0m\u001b[0m\n\u001b[1;32m    736\u001b[0m                 \u001b[0;32mbreak\u001b[0m\u001b[0;34m\u001b[0m\u001b[0;34m\u001b[0m\u001b[0m\n",
            "\u001b[0;31mKeyboardInterrupt\u001b[0m: "
          ]
        }
      ]
    }
  ]
}