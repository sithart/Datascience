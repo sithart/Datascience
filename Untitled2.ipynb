{
 "cells": [
  {
   "cell_type": "code",
   "execution_count": null,
   "id": "48e2e9bd",
   "metadata": {},
   "outputs": [],
   "source": [
    "# Date 26-03-2022"
   ]
  },
  {
   "cell_type": "code",
   "execution_count": 2,
   "id": "623c8f1f",
   "metadata": {},
   "outputs": [],
   "source": [
    "class node:\n",
    "    def __init__(self, data=None):\n",
    "        self.dataval = data\n",
    "        self.nextval = None\n",
    "        \n",
    "class link:\n",
    "    def __init__(self):\n",
    "        self.headval = None\n",
    "        \n"
   ]
  },
  {
   "cell_type": "code",
   "execution_count": 3,
   "id": "c0181235",
   "metadata": {},
   "outputs": [],
   "source": [
    "x1 = link()#object"
   ]
  },
  {
   "cell_type": "code",
   "execution_count": 4,
   "id": "c3682c6c",
   "metadata": {},
   "outputs": [
    {
     "data": {
      "text/plain": [
       "(<__main__.link at 0x1c0a420bee0>, None)"
      ]
     },
     "execution_count": 4,
     "metadata": {},
     "output_type": "execute_result"
    }
   ],
   "source": [
    "x1, x1.headval\n"
   ]
  },
  {
   "cell_type": "code",
   "execution_count": 5,
   "id": "e33341cc",
   "metadata": {},
   "outputs": [],
   "source": [
    "x1.headval = node(\"Dhana\")"
   ]
  },
  {
   "cell_type": "code",
   "execution_count": 6,
   "id": "f31df713",
   "metadata": {},
   "outputs": [
    {
     "data": {
      "text/plain": [
       "('Dhana', None)"
      ]
     },
     "execution_count": 6,
     "metadata": {},
     "output_type": "execute_result"
    }
   ],
   "source": [
    "x1.headval.dataval, x1.headval.nextval"
   ]
  },
  {
   "cell_type": "code",
   "execution_count": 7,
   "id": "8cf47e26",
   "metadata": {},
   "outputs": [
    {
     "ename": "AttributeError",
     "evalue": "'node' object has no attribute 'headval'",
     "output_type": "error",
     "traceback": [
      "\u001b[1;31m---------------------------------------------------------------------------\u001b[0m",
      "\u001b[1;31mAttributeError\u001b[0m                            Traceback (most recent call last)",
      "Input \u001b[1;32mIn [7]\u001b[0m, in \u001b[0;36m<cell line: 4>\u001b[1;34m()\u001b[0m\n\u001b[0;32m      1\u001b[0m x2 \u001b[38;5;241m=\u001b[39m node(\u001b[38;5;124m\"\u001b[39m\u001b[38;5;124mbala\u001b[39m\u001b[38;5;124m\"\u001b[39m)\n\u001b[0;32m      2\u001b[0m x3 \u001b[38;5;241m=\u001b[39m node(\u001b[38;5;124m\"\u001b[39m\u001b[38;5;124mvyas\u001b[39m\u001b[38;5;124m\"\u001b[39m)\n\u001b[1;32m----> 4\u001b[0m x2, \u001b[43mx2\u001b[49m\u001b[38;5;241;43m.\u001b[39;49m\u001b[43mheadval\u001b[49m\u001b[38;5;241m.\u001b[39mdataval\n",
      "\u001b[1;31mAttributeError\u001b[0m: 'node' object has no attribute 'headval'"
     ]
    }
   ],
   "source": [
    "x2 = node(\"bala\")\n",
    "x3 = node(\"vyas\")\n",
    "\n",
    "x2, x2.headval.dataval"
   ]
  },
  {
   "cell_type": "code",
   "execution_count": 20,
   "id": "535514fa",
   "metadata": {},
   "outputs": [
    {
     "name": "stdout",
     "output_type": "stream",
     "text": [
      "dhana\n"
     ]
    }
   ],
   "source": [
    "class node:\n",
    "    def __init__(self, data=None):\n",
    "        self.dataval = data\n",
    "        self.nextval = None\n",
    "        \n",
    "class link:\n",
    "    def __init__(self):\n",
    "        self.headval = None\n",
    "        \n",
    "    def print_list(self):\n",
    "        temp = self.headval\n",
    "        while temp is not None:\n",
    "            print(temp.dataval)\n",
    "            temp = temp.nextval\n",
    "            \n",
    "            \n",
    "x1 = link()            \n",
    "x1.headval = node(\"dhana\")  \n",
    "x1.print_list()\n",
    "# x2 = node(\"bala\")\n",
    "# x3 = node(\"vyas\")\n",
    "# x1.headval.nextval=x2\n",
    "            \n"
   ]
  },
  {
   "cell_type": "code",
   "execution_count": null,
   "id": "81674b32",
   "metadata": {},
   "outputs": [],
   "source": []
  }
 ],
 "metadata": {
  "kernelspec": {
   "display_name": "Python 3 (ipykernel)",
   "language": "python",
   "name": "python3"
  },
  "language_info": {
   "codemirror_mode": {
    "name": "ipython",
    "version": 3
   },
   "file_extension": ".py",
   "mimetype": "text/x-python",
   "name": "python",
   "nbconvert_exporter": "python",
   "pygments_lexer": "ipython3",
   "version": "3.10.2"
  }
 },
 "nbformat": 4,
 "nbformat_minor": 5
}
