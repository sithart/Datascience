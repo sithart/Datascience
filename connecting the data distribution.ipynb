{
 "cells": [
  {
   "cell_type": "code",
   "execution_count": 2,
   "id": "3011cf2c",
   "metadata": {},
   "outputs": [],
   "source": [
    "import numpy as np"
   ]
  },
  {
   "cell_type": "code",
   "execution_count": 3,
   "id": "68c7beb3",
   "metadata": {},
   "outputs": [
    {
     "data": {
      "text/plain": [
       "array([ 7,  6,  5,  8, 12])"
      ]
     },
     "execution_count": 3,
     "metadata": {},
     "output_type": "execute_result"
    }
   ],
   "source": [
    "x = np.array([5,6,7,8,12])\n",
    "np.random.shuffle(x)\n",
    "x"
   ]
  },
  {
   "cell_type": "code",
   "execution_count": 4,
   "id": "b68cbb79",
   "metadata": {},
   "outputs": [
    {
     "data": {
      "text/plain": [
       "array([ 7,  6,  5, 12,  8])"
      ]
     },
     "execution_count": 4,
     "metadata": {},
     "output_type": "execute_result"
    }
   ],
   "source": [
    "np.random.permutation(x)"
   ]
  },
  {
   "cell_type": "code",
   "execution_count": 5,
   "id": "b31a27d2",
   "metadata": {},
   "outputs": [],
   "source": [
    "import itertools as it"
   ]
  },
  {
   "cell_type": "code",
   "execution_count": 8,
   "id": "470932c9",
   "metadata": {},
   "outputs": [
    {
     "data": {
      "text/plain": [
       "<itertools.permutations at 0x23936c33ec0>"
      ]
     },
     "execution_count": 8,
     "metadata": {},
     "output_type": "execute_result"
    }
   ],
   "source": [
    "per = it.permutations(x,5) # we can use permutation(x,2)\n",
    "per"
   ]
  },
  {
   "cell_type": "code",
   "execution_count": 9,
   "id": "390bf9c5",
   "metadata": {},
   "outputs": [
    {
     "name": "stdout",
     "output_type": "stream",
     "text": [
      "(7, 6, 5, 8, 12)\n",
      "(7, 6, 5, 12, 8)\n",
      "(7, 6, 8, 5, 12)\n",
      "(7, 6, 8, 12, 5)\n",
      "(7, 6, 12, 5, 8)\n",
      "(7, 6, 12, 8, 5)\n",
      "(7, 5, 6, 8, 12)\n",
      "(7, 5, 6, 12, 8)\n",
      "(7, 5, 8, 6, 12)\n",
      "(7, 5, 8, 12, 6)\n",
      "(7, 5, 12, 6, 8)\n",
      "(7, 5, 12, 8, 6)\n",
      "(7, 8, 6, 5, 12)\n",
      "(7, 8, 6, 12, 5)\n",
      "(7, 8, 5, 6, 12)\n",
      "(7, 8, 5, 12, 6)\n",
      "(7, 8, 12, 6, 5)\n",
      "(7, 8, 12, 5, 6)\n",
      "(7, 12, 6, 5, 8)\n",
      "(7, 12, 6, 8, 5)\n",
      "(7, 12, 5, 6, 8)\n",
      "(7, 12, 5, 8, 6)\n",
      "(7, 12, 8, 6, 5)\n",
      "(7, 12, 8, 5, 6)\n",
      "(6, 7, 5, 8, 12)\n",
      "(6, 7, 5, 12, 8)\n",
      "(6, 7, 8, 5, 12)\n",
      "(6, 7, 8, 12, 5)\n",
      "(6, 7, 12, 5, 8)\n",
      "(6, 7, 12, 8, 5)\n",
      "(6, 5, 7, 8, 12)\n",
      "(6, 5, 7, 12, 8)\n",
      "(6, 5, 8, 7, 12)\n",
      "(6, 5, 8, 12, 7)\n",
      "(6, 5, 12, 7, 8)\n",
      "(6, 5, 12, 8, 7)\n",
      "(6, 8, 7, 5, 12)\n",
      "(6, 8, 7, 12, 5)\n",
      "(6, 8, 5, 7, 12)\n",
      "(6, 8, 5, 12, 7)\n",
      "(6, 8, 12, 7, 5)\n",
      "(6, 8, 12, 5, 7)\n",
      "(6, 12, 7, 5, 8)\n",
      "(6, 12, 7, 8, 5)\n",
      "(6, 12, 5, 7, 8)\n",
      "(6, 12, 5, 8, 7)\n",
      "(6, 12, 8, 7, 5)\n",
      "(6, 12, 8, 5, 7)\n",
      "(5, 7, 6, 8, 12)\n",
      "(5, 7, 6, 12, 8)\n",
      "(5, 7, 8, 6, 12)\n",
      "(5, 7, 8, 12, 6)\n",
      "(5, 7, 12, 6, 8)\n",
      "(5, 7, 12, 8, 6)\n",
      "(5, 6, 7, 8, 12)\n",
      "(5, 6, 7, 12, 8)\n",
      "(5, 6, 8, 7, 12)\n",
      "(5, 6, 8, 12, 7)\n",
      "(5, 6, 12, 7, 8)\n",
      "(5, 6, 12, 8, 7)\n",
      "(5, 8, 7, 6, 12)\n",
      "(5, 8, 7, 12, 6)\n",
      "(5, 8, 6, 7, 12)\n",
      "(5, 8, 6, 12, 7)\n",
      "(5, 8, 12, 7, 6)\n",
      "(5, 8, 12, 6, 7)\n",
      "(5, 12, 7, 6, 8)\n",
      "(5, 12, 7, 8, 6)\n",
      "(5, 12, 6, 7, 8)\n",
      "(5, 12, 6, 8, 7)\n",
      "(5, 12, 8, 7, 6)\n",
      "(5, 12, 8, 6, 7)\n",
      "(8, 7, 6, 5, 12)\n",
      "(8, 7, 6, 12, 5)\n",
      "(8, 7, 5, 6, 12)\n",
      "(8, 7, 5, 12, 6)\n",
      "(8, 7, 12, 6, 5)\n",
      "(8, 7, 12, 5, 6)\n",
      "(8, 6, 7, 5, 12)\n",
      "(8, 6, 7, 12, 5)\n",
      "(8, 6, 5, 7, 12)\n",
      "(8, 6, 5, 12, 7)\n",
      "(8, 6, 12, 7, 5)\n",
      "(8, 6, 12, 5, 7)\n",
      "(8, 5, 7, 6, 12)\n",
      "(8, 5, 7, 12, 6)\n",
      "(8, 5, 6, 7, 12)\n",
      "(8, 5, 6, 12, 7)\n",
      "(8, 5, 12, 7, 6)\n",
      "(8, 5, 12, 6, 7)\n",
      "(8, 12, 7, 6, 5)\n",
      "(8, 12, 7, 5, 6)\n",
      "(8, 12, 6, 7, 5)\n",
      "(8, 12, 6, 5, 7)\n",
      "(8, 12, 5, 7, 6)\n",
      "(8, 12, 5, 6, 7)\n",
      "(12, 7, 6, 5, 8)\n",
      "(12, 7, 6, 8, 5)\n",
      "(12, 7, 5, 6, 8)\n",
      "(12, 7, 5, 8, 6)\n",
      "(12, 7, 8, 6, 5)\n",
      "(12, 7, 8, 5, 6)\n",
      "(12, 6, 7, 5, 8)\n",
      "(12, 6, 7, 8, 5)\n",
      "(12, 6, 5, 7, 8)\n",
      "(12, 6, 5, 8, 7)\n",
      "(12, 6, 8, 7, 5)\n",
      "(12, 6, 8, 5, 7)\n",
      "(12, 5, 7, 6, 8)\n",
      "(12, 5, 7, 8, 6)\n",
      "(12, 5, 6, 7, 8)\n",
      "(12, 5, 6, 8, 7)\n",
      "(12, 5, 8, 7, 6)\n",
      "(12, 5, 8, 6, 7)\n",
      "(12, 8, 7, 6, 5)\n",
      "(12, 8, 7, 5, 6)\n",
      "(12, 8, 6, 7, 5)\n",
      "(12, 8, 6, 5, 7)\n",
      "(12, 8, 5, 7, 6)\n",
      "(12, 8, 5, 6, 7)\n"
     ]
    }
   ],
   "source": [
    "for i in list(per):\n",
    "    print(i)"
   ]
  },
  {
   "cell_type": "code",
   "execution_count": null,
   "id": "16a14c5e",
   "metadata": {},
   "outputs": [],
   "source": [
    "# Most of the Image processing 100% we are using the Matrix"
   ]
  },
  {
   "cell_type": "code",
   "execution_count": 12,
   "id": "1987a7f2",
   "metadata": {},
   "outputs": [
    {
     "name": "stdout",
     "output_type": "stream",
     "text": [
      "(7, 6, 5)\n",
      "(7, 6, 8)\n",
      "(7, 6, 12)\n",
      "(7, 5, 8)\n",
      "(7, 5, 12)\n",
      "(7, 8, 12)\n",
      "(6, 5, 8)\n",
      "(6, 5, 12)\n",
      "(6, 8, 12)\n",
      "(5, 8, 12)\n"
     ]
    }
   ],
   "source": [
    "com = it.combinations(x,3)\n",
    "for i in list(com):\n",
    "    print(i)"
   ]
  },
  {
   "cell_type": "code",
   "execution_count": null,
   "id": "6a2a71ab",
   "metadata": {},
   "outputs": [],
   "source": [
    "# These are all the few datas we generate"
   ]
  },
  {
   "cell_type": "code",
   "execution_count": 15,
   "id": "577cc8ed",
   "metadata": {},
   "outputs": [],
   "source": [
    "import matplotlib as mpl\n",
    "import matplotlib.pyplot as plt\n",
    "import numpy as np"
   ]
  },
  {
   "cell_type": "markdown",
   "id": "45f78728",
   "metadata": {},
   "source": [
    "Normal Distribution Formula"
   ]
  },
  {
   "cell_type": "code",
   "execution_count": 16,
   "id": "813d589e",
   "metadata": {},
   "outputs": [],
   "source": [
    "x = np.random.normal(loc=60, scale=4, size=1000)"
   ]
  },
  {
   "cell_type": "code",
   "execution_count": 17,
   "id": "0200f12b",
   "metadata": {},
   "outputs": [
    {
     "data": {
      "text/plain": [
       "(<function ndarray.mean>, 47.11747108408517, 71.20218883097705)"
      ]
     },
     "execution_count": 17,
     "metadata": {},
     "output_type": "execute_result"
    }
   ],
   "source": [
    "x.mean, x.min(), x.max()"
   ]
  },
  {
   "cell_type": "code",
   "execution_count": 19,
   "id": "e803e194",
   "metadata": {},
   "outputs": [
    {
     "data": {
      "image/png": "[encoded data removed]",
      "text/plain": [
       "<Figure size 432x288 with 1 Axes>"
      ]
     },
     "metadata": {
      "needs_background": "light"
     },
     "output_type": "display_data"
    }
   ],
   "source": [
    "plt.plot(x)\n",
    "plt.show()"
   ]
  },
  {
   "cell_type": "code",
   "execution_count": 22,
   "id": "0d4548b1",
   "metadata": {},
   "outputs": [],
   "source": [
    "import seaborn as sns\n",
    "import matplotlib.pyplot as plt"
   ]
  },
  {
   "cell_type": "code",
   "execution_count": 24,
   "id": "a009668a",
   "metadata": {},
   "outputs": [
    {
     "data": {
      "image/png": "[encoded data removed]",
      "text/plain": [
       "<Figure size 432x288 with 1 Axes>"
      ]
     },
     "metadata": {
      "needs_background": "light"
     },
     "output_type": "display_data"
    },
    {
     "data": {
      "text/plain": [
       "<AxesSubplot:ylabel='Density'>"
      ]
     },
     "execution_count": 24,
     "metadata": {},
     "output_type": "execute_result"
    },
    {
     "data": {
      "image/png": "[encoded data removed]",
      "text/plain": [
       "<Figure size 432x288 with 1 Axes>"
      ]
     },
     "metadata": {
      "needs_background": "light"
     },
     "output_type": "display_data"
    }
   ],
   "source": [
    "x_bi = np.random.binomial(n=100, p=0.6, size = 1000)\n",
    "plt.plot(x_bi)\n",
    "plt.show()\n",
    "sns.kdeplot(x_bi)"
   ]
  },
  {
   "cell_type": "code",
   "execution_count": null,
   "id": "ea03f659",
   "metadata": {},
   "outputs": [],
   "source": [
    "x_nor = np.random.normal(size=500)\n",
    "x_bi = np.random.binomial(n=100, p=0.6, size = 1000)\n",
    "sns.kdeplot(x_nor)\n",
    "sns.kdeplot(x_bi)\n",
    "plt.show()"
   ]
  },
  {
   "cell_type": "markdown",
   "id": "7e47668f",
   "metadata": {},
   "source": [
    "T -test\n",
    "corr\n",
    "annowest\n",
    "chi test"
   ]
  },
  {
   "cell_type": "code",
   "execution_count": null,
   "id": "af185f0c",
   "metadata": {},
   "outputs": [],
   "source": [
    "T - test # Alwasys use for the numerical data. Identify the behavioral identity of the selected column\n",
    "1) 1 sample T test # we have N number of data"
   ]
  }
 ],
 "metadata": {
  "kernelspec": {
   "display_name": "Python 3 (ipykernel)",
   "language": "python",
   "name": "python3"
  },
  "language_info": {
   "codemirror_mode": {
    "name": "ipython",
    "version": 3
   },
   "file_extension": ".py",
   "mimetype": "text/x-python",
   "name": "python",
   "nbconvert_exporter": "python",
   "pygments_lexer": "ipython3",
   "version": "3.10.2"
  }
 },
 "nbformat": 4,
 "nbformat_minor": 5
}
