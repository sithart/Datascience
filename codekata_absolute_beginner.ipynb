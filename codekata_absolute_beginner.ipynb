{
 "cells": [
  {
   "cell_type": "code",
   "execution_count": 4,
   "id": "82b1bff8",
   "metadata": {},
   "outputs": [
    {
     "name": "stdout",
     "output_type": "stream",
     "text": [
      "Enter Number Here10\n",
      "1000\n"
     ]
    }
   ],
   "source": [
    "\n",
    "# Qus:\n",
    "# You are given with a number \"N\", find its cube.\n",
    "\n",
    "# Input Description:\n",
    "# A positive integer is provided.\n",
    "\n",
    "# Output Description:\n",
    "# Find the cube of the number.\n",
    "\n",
    "# Sample Input :\n",
    "# 2\n",
    "\n",
    "# Sample Output :\n",
    "# 8\n",
    "\n",
    "\n",
    "N = int(input())\n",
    "# if N >= 0:\n",
    "cube = N * N * N\n",
    "print(cube))\n"
   ]
  },
  {
   "cell_type": "code",
   "execution_count": 16,
   "id": "0a77ede8",
   "metadata": {},
   "outputs": [
    {
     "name": "stdout",
     "output_type": "stream",
     "text": [
      "10\n",
      "days In Month of 10 is :  30\n"
     ]
    }
   ],
   "source": [
    "\n",
    "\n",
    "# You will be provided with a number. Print the number of days in the month corresponding to that number.\n",
    "\n",
    "# Note: In case the input is February, print 28 days. If the Input is not in valid range print \"Error\".\n",
    "\n",
    "# Input Description:\n",
    "# The input is in the form of a number.\n",
    "\n",
    "# Output Description:\n",
    "# Find the days in the month corresponding to the input number. Print Error if the input is not in a valid range.\n",
    "\n",
    "# Sample Input :\n",
    "# 8\n",
    "\n",
    "# Sample Output :\n",
    "# 31\n",
    "\n",
    "month_dict = {1:31,2:28,3:31,4:30,5:31,6:30,7:31,8:31,9:31,10:30,11:31,12:30}\n",
    "N = int(input())\n",
    "if N <= 12 and N != 0:\n",
    "    days_in_month = month_dict[N]\n",
    "    print(days_in_month)\n",
    "else:\n",
    "    print('Error')"
   ]
  },
  {
   "cell_type": "code",
   "execution_count": null,
   "id": "a833835b",
   "metadata": {},
   "outputs": [],
   "source": []
  }
 ],
 "metadata": {
  "kernelspec": {
   "display_name": "Python 3 (ipykernel)",
   "language": "python",
   "name": "python3"
  },
  "language_info": {
   "codemirror_mode": {
    "name": "ipython",
    "version": 3
   },
   "file_extension": ".py",
   "mimetype": "text/x-python",
   "name": "python",
   "nbconvert_exporter": "python",
   "pygments_lexer": "ipython3",
   "version": "3.10.2"
  }
 },
 "nbformat": 4,
 "nbformat_minor": 5
}
