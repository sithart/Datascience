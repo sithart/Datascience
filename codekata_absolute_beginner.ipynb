{
 "cells": [
  {
   "cell_type": "code",
   "execution_count": 4,
   "id": "82b1bff8",
   "metadata": {},
   "outputs": [
    {
     "name": "stdout",
     "output_type": "stream",
     "text": [
      "Enter Number Here10\n",
      "1000\n"
     ]
    }
   ],
   "source": [
    "\n",
    "# Qus:\n",
    "# You are given with a number \"N\", find its cube.\n",
    "\n",
    "# Input Description:\n",
    "# A positive integer is provided.\n",
    "\n",
    "# Output Description:\n",
    "# Find the cube of the number.\n",
    "\n",
    "# Sample Input :\n",
    "# 2\n",
    "\n",
    "# Sample Output :\n",
    "# 8\n",
    "\n",
    "\n",
    "N = int(input())\n",
    "# if N >= 0:\n",
    "cube = N * N * N\n",
    "print(cube))\n"
   ]
  },
  {
   "cell_type": "code",
   "execution_count": 16,
   "id": "0a77ede8",
   "metadata": {},
   "outputs": [
    {
     "name": "stdout",
     "output_type": "stream",
     "text": [
      "10\n",
      "days In Month of 10 is :  30\n"
     ]
    }
   ],
   "source": [
    "\n",
    "\n",
    "# You will be provided with a number. Print the number of days in the month corresponding to that number.\n",
    "\n",
    "# Note: In case the input is February, print 28 days. If the Input is not in valid range print \"Error\".\n",
    "\n",
    "# Input Description:\n",
    "# The input is in the form of a number.\n",
    "\n",
    "# Output Description:\n",
    "# Find the days in the month corresponding to the input number. Print Error if the input is not in a valid range.\n",
    "\n",
    "# Sample Input :\n",
    "# 8\n",
    "\n",
    "# Sample Output :\n",
    "# 31\n",
    "\n",
    "month_dict = {1:31,2:28,3:31,4:30,5:31,6:30,7:31,8:31,9:31,10:30,11:31,12:30}\n",
    "N = int(input())\n",
    "if N <= 12 and N != 0:\n",
    "    days_in_month = month_dict[N]\n",
    "    print(days_in_month)\n",
    "else:\n",
    "    print('Error')"
   ]
  },
  {
   "cell_type": "code",
   "execution_count": 16,
   "id": "a833835b",
   "metadata": {},
   "outputs": [
    {
     "name": "stdout",
     "output_type": "stream",
     "text": [
      "Enter the Number :2\n",
      "12.57\n"
     ]
    }
   ],
   "source": [
    "\n",
    "\n",
    "# You are provided with the radius of a circle \"A\". Find the length of its circumference.\n",
    "\n",
    "# Note: In case the output is coming in decimal, roundoff to 2nd decimal place. In case the input is a negative number, print \"Error\".\n",
    "\n",
    "# Input Description:\n",
    "# The Radius of a circle is provided as the input of the program.\n",
    "\n",
    "# Output Description:\n",
    "# Calculate and print the Circumference of the circle corresponding to the input radius up to two decimal places.\n",
    "\n",
    "# Sample Input :\n",
    "# 2\n",
    "\n",
    "# Sample Output :\n",
    "# 12.57\n",
    "\n",
    "# Formula => # circumference = 2πr\n",
    "\n",
    "\n",
    "N = float(input('Enter the Number :'))\n",
    "circumference   = 2 * 3.1415 * N\n",
    "print(round(circumference,2))\n",
    "\n",
    "\n"
   ]
  },
  {
   "cell_type": "code",
   "execution_count": 23,
   "id": "3eecfd8c",
   "metadata": {},
   "outputs": [
    {
     "name": "stdout",
     "output_type": "stream",
     "text": [
      "3\n",
      "9  18  27\n"
     ]
    }
   ],
   "source": [
    "\n",
    "\n",
    "# Using the method of looping, write a program to print the table of 9 till N in the format as follows:\n",
    "# (N is input by the user)\n",
    "\n",
    "# 9 18 27...\n",
    "\n",
    "# Print NULL if 0 is input\n",
    "\n",
    "# Input Description:\n",
    "# A positive integer is provided as an input.\n",
    "\n",
    "# Output Description:\n",
    "# Print the table of nine with single space between the elements till the number that is input.\n",
    "\n",
    "# Sample Input :\n",
    "# 3\n",
    "\n",
    "# Sample Output :\n",
    "# 9 18 27\n",
    "\n",
    "\n",
    "\n",
    "N = int(input())\n",
    "arr = []\n",
    "if N > 0:\n",
    "    for i in range(1,N+1):\n",
    "        arr.append(i * 9)\n",
    "    result = str(arr).replace('[', '').replace(']','').replace(',', '')\n",
    "    print(result)\n",
    "else:\n",
    "    print('NULL')\n"
   ]
  },
  {
   "cell_type": "code",
   "execution_count": 33,
   "id": "f1034600",
   "metadata": {},
   "outputs": [
    {
     "name": "stdout",
     "output_type": "stream",
     "text": [
      "10\n",
      "10\n",
      "10\n",
      "10\n",
      "10\n"
     ]
    }
   ],
   "source": [
    "# Write a code to get the input and print it 5 times.\n",
    "\n",
    "# Input Description:\n",
    "# A single line contains an integer N.\n",
    "\n",
    "# Output Description:\n",
    "# Output contains 5 lines with each line having the value N.\n",
    "\n",
    "# Sample Input :\n",
    "# 4\n",
    "\n",
    "# Sample Output :\n",
    "# 4\n",
    "# 4\n",
    "# 4\n",
    "# 4\n",
    "# 4\n",
    "\n",
    "N = int(input())\n",
    "\n",
    "for i in range(1,5):\n",
    "    print(N)\n",
    "\n",
    "\n",
    "\n"
   ]
  },
  {
   "cell_type": "code",
   "execution_count": null,
   "id": "2cb54537",
   "metadata": {},
   "outputs": [],
   "source": []
  }
 ],
 "metadata": {
  "kernelspec": {
   "display_name": "Python 3 (ipykernel)",
   "language": "python",
   "name": "python3"
  },
  "language_info": {
   "codemirror_mode": {
    "name": "ipython",
    "version": 3
   },
   "file_extension": ".py",
   "mimetype": "text/x-python",
   "name": "python",
   "nbconvert_exporter": "python",
   "pygments_lexer": "ipython3",
   "version": "3.10.2"
  }
 },
 "nbformat": 4,
 "nbformat_minor": 5
}
