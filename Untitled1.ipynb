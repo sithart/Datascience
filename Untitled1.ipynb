{
 "cells": [
  {
   "cell_type": "code",
   "execution_count": 1,
   "id": "6ea0e23f",
   "metadata": {},
   "outputs": [],
   "source": [
    "class Hotel:\n",
    "    def __init__(self, reciepie, time):\n",
    "        self.reciepie = reciepie\n",
    "        self.time     = time\n",
    "        \n",
    "        \n",
    "ho = Hotel(\"chicken\", \"Lunch\")\n",
    "\n",
    "\n",
    "\n",
    "\n",
    "\n",
    "        "
   ]
  },
  {
   "cell_type": "code",
   "execution_count": 3,
   "id": "05325b74",
   "metadata": {},
   "outputs": [
    {
     "data": {
      "text/plain": [
       "'chicken'"
      ]
     },
     "execution_count": 3,
     "metadata": {},
     "output_type": "execute_result"
    }
   ],
   "source": [
    "ho.reciepie\n"
   ]
  },
  {
   "cell_type": "code",
   "execution_count": 4,
   "id": "52c062f9",
   "metadata": {},
   "outputs": [
    {
     "data": {
      "text/plain": [
       "'Lunch'"
      ]
     },
     "execution_count": 4,
     "metadata": {},
     "output_type": "execute_result"
    }
   ],
   "source": [
    "ho.time"
   ]
  },
  {
   "cell_type": "code",
   "execution_count": 5,
   "id": "29b8fe03",
   "metadata": {},
   "outputs": [
    {
     "name": "stdout",
     "output_type": "stream",
     "text": [
      "Audi 2022\n",
      "Audi 2022\n",
      "Audi 2022\n"
     ]
    }
   ],
   "source": [
    "class Car:\n",
    "    def __init__(self):\n",
    "        self.model = \"Audi\"\n",
    "        self.year  = \"2022\"\n",
    "        print(self.model, self.year)\n",
    "    \n",
    "\n",
    "x = Car()\n",
    "y = Car()\n",
    "z = Car()\n",
    "        "
   ]
  },
  {
   "cell_type": "code",
   "execution_count": 27,
   "id": "04ccb91e",
   "metadata": {},
   "outputs": [
    {
     "name": "stdout",
     "output_type": "stream",
     "text": [
      "['__class__', '__delattr__', '__dict__', '__dir__', '__doc__', '__eq__', '__format__', '__ge__', '__getattribute__', '__gt__', '__hash__', '__init__', '__init_subclass__', '__le__', '__lt__', '__module__', '__ne__', '__new__', '__reduce__', '__reduce_ex__', '__repr__', '__setattr__', '__sizeof__', '__str__', '__subclasshook__', '__weakref__', 'getJop', 'job', 'setJop']\n"
     ]
    },
    {
     "data": {
      "text/plain": [
       "'Painter'"
      ]
     },
     "execution_count": 27,
     "metadata": {},
     "output_type": "execute_result"
    }
   ],
   "source": [
    "# Getter and settter\n",
    "class Friend:\n",
    "    def __init__(self):\n",
    "        self.job = \"None\"\n",
    "        \n",
    "    def getJop(self):\n",
    "        return self.job\n",
    "    def setJop(self, job):\n",
    "        self.job = job\n",
    "        \n",
    "ba = Friend()\n",
    "ba.setJop(\"Painter\")\n",
    "ba.job\n",
    "\n",
    "print(dir(ba))\n",
    "ba.getJop()"
   ]
  },
  {
   "cell_type": "code",
   "execution_count": 15,
   "id": "78418718",
   "metadata": {},
   "outputs": [
    {
     "name": "stdout",
     "output_type": "stream",
     "text": [
      "Builder\n",
      "Carpenter\n"
     ]
    }
   ],
   "source": [
    "class Friend:\n",
    "    def __init__(self):\n",
    "        self.job = \"None\"\n",
    "        \n",
    "    def getJob(self):\n",
    "        return self.job\n",
    "    def setJob(self, job):\n",
    "        self.job = job\n",
    "        \n",
    "    \n",
    "    \n",
    "Alice = Friend()\n",
    "Bob = Friend()\n",
    "\n",
    "\n",
    "Alice.setJob(\"Carpenter\")\n",
    "Bob.setJob(\"Builder\")\n",
    "\n",
    "print(Bob.job)\n",
    "print(Alice.job)\n"
   ]
  },
  {
   "cell_type": "code",
   "execution_count": null,
   "id": "92115371",
   "metadata": {},
   "outputs": [],
   "source": []
  },
  {
   "cell_type": "code",
   "execution_count": null,
   "id": "3d7b05a4",
   "metadata": {},
   "outputs": [],
   "source": []
  },
  {
   "cell_type": "code",
   "execution_count": null,
   "id": "3f015637",
   "metadata": {},
   "outputs": [],
   "source": []
  },
  {
   "cell_type": "code",
   "execution_count": 52,
   "id": "59269ee5",
   "metadata": {},
   "outputs": [
    {
     "data": {
      "text/plain": [
       "'Audi'"
      ]
     },
     "execution_count": 52,
     "metadata": {},
     "output_type": "execute_result"
    }
   ],
   "source": [
    "class Car:\n",
    "    model = \"Audi\"\n",
    "    \n",
    "class Motorbike:\n",
    "    fuel = \"\"\n",
    "    year = \"2022\"\n",
    "    \n",
    "class Jhon(Car, Motorbike):\n",
    "    speed = \"80km\"\n",
    "    \n",
    "obj = Jhon()\n",
    "obj.model"
   ]
  },
  {
   "cell_type": "code",
   "execution_count": 53,
   "id": "ee831a7e",
   "metadata": {},
   "outputs": [
    {
     "data": {
      "text/plain": [
       "'2022'"
      ]
     },
     "execution_count": 53,
     "metadata": {},
     "output_type": "execute_result"
    }
   ],
   "source": [
    "obj.year\n"
   ]
  },
  {
   "cell_type": "code",
   "execution_count": 54,
   "id": "424f0868",
   "metadata": {},
   "outputs": [
    {
     "data": {
      "text/plain": [
       "'80km'"
      ]
     },
     "execution_count": 54,
     "metadata": {},
     "output_type": "execute_result"
    }
   ],
   "source": [
    "obj.speed"
   ]
  },
  {
   "cell_type": "code",
   "execution_count": 56,
   "id": "a426233c",
   "metadata": {},
   "outputs": [],
   "source": [
    "obj.fuel = \"petrol\""
   ]
  },
  {
   "cell_type": "code",
   "execution_count": 57,
   "id": "8fa1c5ce",
   "metadata": {},
   "outputs": [
    {
     "data": {
      "text/plain": [
       "'petrol'"
      ]
     },
     "execution_count": 57,
     "metadata": {},
     "output_type": "execute_result"
    }
   ],
   "source": [
    "obj.fuel"
   ]
  },
  {
   "cell_type": "code",
   "execution_count": 80,
   "id": "a28c981e",
   "metadata": {},
   "outputs": [
    {
     "name": "stdout",
     "output_type": "stream",
     "text": [
      "Enter Sql Function !\n",
      "3.00\n"
     ]
    }
   ],
   "source": [
    "# static Method\n",
    "class Database:\n",
    "    def __init__(self):\n",
    "        self.sqldb  = \"Psql\"\n",
    "        self.verion = \"3.00\" \n",
    "    \n",
    "    @staticmethod\n",
    "    def sql():\n",
    "        print(\"Enter Sql Function !\")\n",
    "        \n",
    "    def info(self):\n",
    "        print(self.verion)\n",
    "\n",
    "var = Database()\n",
    "var.sql()\n",
    "var.info()"
   ]
  },
  {
   "cell_type": "code",
   "execution_count": 81,
   "id": "c1fedf5e",
   "metadata": {},
   "outputs": [
    {
     "name": "stdout",
     "output_type": "stream",
     "text": [
      "**Playing Music**\n"
     ]
    }
   ],
   "source": [
    "class Music:\n",
    "    @staticmethod\n",
    "    def play():\n",
    "        print(\"**Playing Music**\")\n",
    "        \n",
    "Music.play()"
   ]
  },
  {
   "cell_type": "code",
   "execution_count": 82,
   "id": "705e1619",
   "metadata": {},
   "outputs": [],
   "source": [
    "import json\n",
    "\n",
    "# two methods\n",
    "# dumps & loads\n",
    "\n",
    "\n",
    "my_dict = {\"name\":\"Sitharthan\", \"age\": 28}"
   ]
  },
  {
   "cell_type": "code",
   "execution_count": null,
   "id": "45606ec9",
   "metadata": {},
   "outputs": [],
   "source": [
    "d = {\"one\": 1, \"two\": 2}"
   ]
  }
 ],
 "metadata": {
  "kernelspec": {
   "display_name": "Python 3 (ipykernel)",
   "language": "python",
   "name": "python3"
  },
  "language_info": {
   "codemirror_mode": {
    "name": "ipython",
    "version": 3
   },
   "file_extension": ".py",
   "mimetype": "text/x-python",
   "name": "python",
   "nbconvert_exporter": "python",
   "pygments_lexer": "ipython3",
   "version": "3.10.2"
  }
 },
 "nbformat": 4,
 "nbformat_minor": 5
}
