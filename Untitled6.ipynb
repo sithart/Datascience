{
 "cells": [
  {
   "cell_type": "code",
   "execution_count": 27,
   "id": "bbf86b6a",
   "metadata": {},
   "outputs": [
    {
     "data": {
      "text/plain": [
       "[<matplotlib.lines.Line2D at 0x1d2e3883d00>]"
      ]
     },
     "execution_count": 27,
     "metadata": {},
     "output_type": "execute_result"
    },
    {
     "data": {
      "image/png": "[encoded data removed]",
      "text/plain": [
       "<Figure size 432x288 with 1 Axes>"
      ]
     },
     "metadata": {
      "needs_background": "light"
     },
     "output_type": "display_data"
    }
   ],
   "source": [
    "import matplotlib.pyplot as plt\n",
    "import numpy as np\n",
    "x = [1,2,3,4,5,6,7,8,9]\n",
    "y1 = [11,7,-34,230,-20,30,-112,10,-200]\n",
    "plt.plot(x,y1, color=\"#F911F9\", marker='D', ms=12, mfc =\"g\",mec=\"k\")\n"
   ]
  },
  {
   "cell_type": "code",
   "execution_count": 28,
   "id": "3869be85",
   "metadata": {},
   "outputs": [],
   "source": [
    "x_dup = []\n",
    "y_dup = []\n",
    "for i in y1:\n",
    "    if i < 0:\n",
    "        t = y1.index(i)\n",
    "        t =  t+ 1\n",
    "        x_dup.append(t)\n",
    "        y_dup.append(i)\n"
   ]
  },
  {
   "cell_type": "code",
   "execution_count": 29,
   "id": "23ddc9c8",
   "metadata": {},
   "outputs": [
    {
     "data": {
      "text/plain": [
       "([3, 5, 7, 9], [-34, -20, -112, -200])"
      ]
     },
     "execution_count": 29,
     "metadata": {},
     "output_type": "execute_result"
    }
   ],
   "source": [
    "x_dup,y_dup"
   ]
  },
  {
   "cell_type": "code",
   "execution_count": 30,
   "id": "d814c411",
   "metadata": {},
   "outputs": [],
   "source": [
    "x_dup = []\n",
    "y_dup = []\n",
    "i = 0\n",
    "while i < len(y1):\n",
    "    if y1[i] < 0:\n",
    "        x_dup.append(x[i])\n",
    "        y_dup.append(y1[i])\n",
    "    i += 1\n",
    "    \n",
    "    "
   ]
  },
  {
   "cell_type": "code",
   "execution_count": 31,
   "id": "2466e8f9",
   "metadata": {},
   "outputs": [
    {
     "data": {
      "text/plain": [
       "([3, 5, 7, 9], [-34, -20, -112, -200])"
      ]
     },
     "execution_count": 31,
     "metadata": {},
     "output_type": "execute_result"
    }
   ],
   "source": [
    "x_dup, y_dup"
   ]
  },
  {
   "cell_type": "code",
   "execution_count": 32,
   "id": "ad7c8a1a",
   "metadata": {},
   "outputs": [
    {
     "data": {
      "image/png": "[encoded data removed]",
      "text/plain": [
       "<Figure size 432x288 with 1 Axes>"
      ]
     },
     "metadata": {
      "needs_background": "light"
     },
     "output_type": "display_data"
    }
   ],
   "source": [
    "plt.scatter(x,y1, marker=\"v\")\n",
    "plt.show()"
   ]
  },
  {
   "cell_type": "code",
   "execution_count": 33,
   "id": "ef042ce9",
   "metadata": {},
   "outputs": [
    {
     "data": {
      "text/plain": [
       "array([32, 21, 25, 31, 25, 34, 22, 34, 22, 24, 33, 31, 21, 29, 33, 28, 28,\n",
       "       30, 24, 28, 24, 24, 22, 25, 20, 32, 30, 28, 29, 26, 23, 25, 20, 28,\n",
       "       22])"
      ]
     },
     "execution_count": 33,
     "metadata": {},
     "output_type": "execute_result"
    }
   ],
   "source": [
    "import numpy as np\n",
    "age = np.random.randint(20,35, size=35)\n",
    "age"
   ]
  },
  {
   "cell_type": "code",
   "execution_count": 34,
   "id": "bf538954",
   "metadata": {},
   "outputs": [],
   "source": [
    "plt.show()"
   ]
  },
  {
   "cell_type": "code",
   "execution_count": 35,
   "id": "5c3a6dbe",
   "metadata": {},
   "outputs": [
    {
     "data": {
      "text/plain": [
       "(20, 34)"
      ]
     },
     "execution_count": 35,
     "metadata": {},
     "output_type": "execute_result"
    }
   ],
   "source": [
    "min(age), max(age)"
   ]
  },
  {
   "cell_type": "code",
   "execution_count": 36,
   "id": "6038be57",
   "metadata": {},
   "outputs": [],
   "source": [
    "t = (max(age) - min(age))/20"
   ]
  },
  {
   "cell_type": "code",
   "execution_count": null,
   "id": "60886f70",
   "metadata": {},
   "outputs": [],
   "source": []
  },
  {
   "cell_type": "code",
   "execution_count": 37,
   "id": "cf98be2a",
   "metadata": {},
   "outputs": [
    {
     "data": {
      "text/plain": [
       "(20, 20.7, 21.4, 22.099999999999998)"
      ]
     },
     "execution_count": 37,
     "metadata": {},
     "output_type": "execute_result"
    }
   ],
   "source": [
    "min(age),min(age)+t,min(age)+t+t,min(age)+t+t+t"
   ]
  },
  {
   "cell_type": "code",
   "execution_count": 38,
   "id": "fea32067",
   "metadata": {},
   "outputs": [
    {
     "data": {
      "text/plain": [
       "<function matplotlib.pyplot.show(close=None, block=None)>"
      ]
     },
     "execution_count": 38,
     "metadata": {},
     "output_type": "execute_result"
    },
    {
     "data": {
      "image/png": "[encoded data removed]",
      "text/plain": [
       "<Figure size 432x288 with 1 Axes>"
      ]
     },
     "metadata": {
      "needs_background": "light"
     },
     "output_type": "display_data"
    }
   ],
   "source": [
    "plt.hist(age, bins=14)\n",
    "plt.show"
   ]
  },
  {
   "cell_type": "code",
   "execution_count": 39,
   "id": "ca239a84",
   "metadata": {},
   "outputs": [
    {
     "data": {
      "image/png": "[encoded data removed]",
      "text/plain": [
       "<Figure size 432x288 with 1 Axes>"
      ]
     },
     "metadata": {
      "needs_background": "light"
     },
     "output_type": "display_data"
    }
   ],
   "source": [
    "plt.hist(age, bins=14, cumulative=True)\n",
    "plt.show()"
   ]
  },
  {
   "cell_type": "code",
   "execution_count": 40,
   "id": "60e921cf",
   "metadata": {},
   "outputs": [
    {
     "data": {
      "text/plain": [
       "array([10.45323455,  9.0137698 ,  8.95300256,  9.46226209,  9.23438713,\n",
       "        9.49618836, 10.63144516, 10.70118997, 11.79380848,  9.21144589,\n",
       "       10.07003357, 12.597871  ,  8.30581875, 10.42207302, 11.85895362,\n",
       "        8.80126215,  9.61771739,  8.89274343,  9.16826831,  9.29366547,\n",
       "        9.55075862, 10.8631925 , 10.31477094, 10.87259735, 10.3658848 ,\n",
       "        8.34865793, 10.50586661, 10.86364787,  8.23048764, 10.55797924,\n",
       "        9.32426442,  9.46636383,  8.98613905,  8.96848862,  9.61405191,\n",
       "       11.31207407, 10.35669945,  9.81152771,  8.06901572, 10.10141296,\n",
       "        9.30129035,  9.72336111, 10.03389359, 10.57721345, 10.4113969 ,\n",
       "        9.29925137,  9.87267185,  8.93446984, 11.22684273, 11.3595154 ,\n",
       "        9.80195331, 10.37597741,  8.36410879,  7.63992452, 11.96310839,\n",
       "       10.05661876,  7.57727493, 10.22904696, 10.51034403,  9.65966316,\n",
       "       10.0052133 ,  9.65346448, 10.80924535,  8.34705048,  9.49438308,\n",
       "        9.75311592, 10.63802743,  9.47859296, 10.33634899,  9.79204527,\n",
       "        9.03645308, 10.37781662, 10.67509594, 10.30214914, 11.60226331,\n",
       "       12.27639034,  7.2242476 ,  9.656262  ,  9.93441808, 11.88616416,\n",
       "       10.09918741,  8.50814947, 10.78987874, 11.14366747,  9.43309739,\n",
       "       10.29000996,  9.96746246,  8.90021497, 10.09427069,  9.84253625,\n",
       "        9.57691723,  9.15962103,  8.56468203,  9.80568643,  9.19814099,\n",
       "       11.30987293, 10.44114576,  9.98021408, 10.24373915,  9.53350599,\n",
       "       10.17342491, 10.53904638,  8.54640317, 10.59798401, 11.0683975 ,\n",
       "        9.67723083,  8.78750842,  9.9896005 , 11.73221893, 10.23456754,\n",
       "        9.36196564, 11.94784663, 10.54537745,  9.08029084,  9.29937633,\n",
       "        9.32504603, 10.82749234,  9.53613543, 11.41086517, 10.97950572,\n",
       "       10.28097285, 11.21212819,  9.72513302,  9.14529068,  9.54471743,\n",
       "       10.2820967 ,  7.76946591, 10.10186327, 11.04686873,  8.74782898,\n",
       "       10.6001744 ,  9.00425961,  9.52850111, 11.48625193, 10.58500713,\n",
       "        9.58262071, 11.53229429,  9.44116746, 11.14979305,  9.18180977,\n",
       "       11.18293849, 11.28231618,  9.0980091 ,  9.88403424, 10.11887106,\n",
       "        8.9877647 , 10.83300019, 10.51636893,  8.55244627,  8.39529974,\n",
       "        9.10845107, 10.87473961,  9.47634855, 10.30361076,  9.40401231,\n",
       "       11.57874827,  9.02873752, 11.13579386,  9.95197074, 10.61436395,\n",
       "        9.35316198, 10.1499134 , 10.92584742,  9.30128554, 11.09931803,\n",
       "        9.37232888, 10.88502977,  9.12586077,  9.6072059 , 10.46855079,\n",
       "        9.51625938, 10.15934606, 10.07810454, 10.60620331, 10.09092161,\n",
       "       11.3498738 ,  8.10958193,  9.55924131, 10.05452746,  9.79296937,\n",
       "        9.63952122, 10.24192324,  9.10154114, 10.75778169,  9.73354871,\n",
       "        9.68989026, 10.78669957, 11.94218533,  8.81048299, 10.95623867,\n",
       "        9.69750856, 11.01364197, 10.68571451, 11.02713553,  9.56109422,\n",
       "       12.43877192,  7.67078605, 11.70236123, 10.76221328,  9.88466061,\n",
       "       10.72413234,  9.9269983 , 10.72025952, 11.74107499, 12.07609527,\n",
       "        8.83510803, 11.21507083, 10.3752004 ,  9.58871   , 10.88093276,\n",
       "       10.59725209, 10.40335903, 10.7380777 ,  9.83626958, 10.99648563,\n",
       "        9.83020499,  9.94016195,  9.63595402,  9.51860051,  9.84539016,\n",
       "        9.51750778,  9.76945441,  9.79412954, 10.24959258, 10.0538205 ,\n",
       "       10.56347297,  9.83336745, 10.76891133, 10.78192103, 10.35403147,\n",
       "        8.73857676, 11.4135695 , 10.36289704, 10.42563176,  9.94102364,\n",
       "        9.45185482,  9.99711494,  8.91795619,  8.58403432,  9.45350425,\n",
       "       10.09914287,  9.58694507, 12.37139241,  8.4987802 ,  9.41092384,\n",
       "       10.83330653, 10.96629191,  8.09781379,  9.7704042 , 10.31169162,\n",
       "        9.65785961, 10.14012399, 10.98842426, 11.51815669,  9.57138933,\n",
       "        9.78659472,  8.65317774,  9.4095086 ,  7.73900329, 10.63248944,\n",
       "       10.01719104,  9.07674118,  9.57790731,  9.77387539, 11.17959084,\n",
       "       11.13540633,  9.59252067, 10.81315346, 12.15460045,  8.76352097,\n",
       "        9.0922228 , 10.74280027,  9.72832462, 10.34719861, 10.01083439,\n",
       "        9.1099768 , 11.57013981, 10.60264843, 10.04348095,  9.16074251,\n",
       "       10.98462156,  9.1969202 ,  9.66351178,  9.71760651, 10.96925313,\n",
       "       11.10195353,  9.31717194, 11.33139815,  9.8441325 ,  9.55543804,\n",
       "        7.91196394, 11.00556498,  9.86731935, 10.17276176,  9.88078278,\n",
       "       13.07537139, 12.04525206,  8.45866137, 11.37127798,  9.86526661,\n",
       "        8.45172967,  9.40335767, 10.52657057,  9.1036957 , 10.782771  ,\n",
       "        9.37410767, 10.41514196,  9.85038847, 11.92794729,  8.90779028,\n",
       "       10.95028145, 10.0530455 ,  9.57686971,  9.55068175,  8.62751163,\n",
       "       10.09087821, 11.08822376,  9.36323435, 11.7060731 ,  9.8396991 ,\n",
       "        9.50784215, 10.71664131, 10.39029572, 10.32607259, 10.3621783 ,\n",
       "       10.72666933, 10.68496116,  9.84064193,  9.47859517, 11.85581908,\n",
       "        9.37810032,  9.60372643,  9.67565942,  9.26856483, 11.02351377,\n",
       "       10.15789774, 10.24809093,  8.9831688 , 10.62369847,  9.33783885,\n",
       "       10.02442063,  9.76870689,  8.89928529, 11.29011747,  9.54725661,\n",
       "       10.01714528, 10.65302132,  7.59822317,  9.55342085,  9.30071371,\n",
       "        9.62413091, 10.72101262,  9.48908821,  9.35675781,  9.46202748,\n",
       "        9.60915644, 10.27687089, 11.6297759 ,  8.2416926 , 10.12228741,\n",
       "       10.06904008,  8.7901159 ,  8.12015444,  9.37842198,  9.994458  ,\n",
       "       10.00007813,  9.67147039,  9.46589333,  9.7114684 , 10.87890449,\n",
       "        9.02839561, 11.45644604,  8.38546756,  8.77130352, 11.64036054,\n",
       "        8.71388852,  9.85553832, 10.82188069, 12.06361835, 11.31598104,\n",
       "        9.99538123, 10.92027031,  9.67412261, 11.78967272, 10.34886507,\n",
       "        8.5877039 , 11.22613083, 10.74149413, 12.41024809,  9.6717091 ,\n",
       "        8.91131115, 10.31339554,  9.26490997,  8.80574716, 11.23951175,\n",
       "       11.42699036,  8.55318486, 10.9429131 ,  8.79098178,  6.98479724,\n",
       "        9.50460311, 10.18783102,  9.01692384,  9.84873005,  9.62496108,\n",
       "        9.25132271,  9.61486091,  9.94018825, 10.14904092,  8.50588377,\n",
       "        9.15313161, 10.77034524,  9.69187055, 11.47793368, 12.31561633,\n",
       "       10.74765608,  9.44833283,  9.20025523, 10.13054728,  8.73927118,\n",
       "        9.32113415,  8.63683368,  9.00211181, 10.75037682, 10.39242765,\n",
       "        9.58440769,  9.1254623 , 10.12694214, 10.56512303,  9.11307964,\n",
       "        9.21128338, 10.50480318,  8.56833178,  7.98958023,  8.55055663,\n",
       "        9.94787352,  8.60103049, 10.08233321, 10.05057955, 10.16382233,\n",
       "       11.26990749, 10.23778733,  9.17626691, 10.39747933, 10.66303823,\n",
       "       10.57173644, 10.23478327, 11.2896169 ,  8.09381128,  8.50041416,\n",
       "        9.07006852, 11.71743885, 10.25419093, 10.21668267, 10.10334246,\n",
       "       10.57194512, 10.74245189, 10.49764205, 10.70612195,  9.73913769,\n",
       "        9.2512728 , 11.06523447,  9.58554244, 10.07691027,  9.30694368,\n",
       "        9.9633142 ,  9.93912451,  8.79848259, 11.77560613, 10.02224537,\n",
       "       11.8772746 ,  9.72223033,  8.84538177,  9.46247621,  8.73522211,\n",
       "        9.31689832, 10.42124108,  8.45083162,  9.95858439, 11.32983659,\n",
       "       10.36376455,  9.44752503, 11.0731321 , 10.24902913, 10.88331985,\n",
       "       11.26070274,  8.83205662, 10.48049073,  8.8138945 , 10.15163193,\n",
       "        9.79375356, 10.10722199, 11.39492302,  9.94017946, 10.07433577,\n",
       "       12.32911123, 10.75770085, 10.58562828,  8.25266493, 10.49694037,\n",
       "        9.36907522, 11.09474431, 10.7630123 ,  9.82743287, 10.53171934,\n",
       "        9.1125033 , 10.36693453,  8.6272934 , 11.36532957, 10.88763249,\n",
       "       12.20739534, 10.21611347,  8.65730337,  9.63009903,  9.49649959,\n",
       "        9.34101097, 10.48941013, 10.51942326, 11.37549939,  9.95836306,\n",
       "        9.59505427,  9.85509034, 10.6318855 , 10.60079546, 10.16358322,\n",
       "       10.19627516,  9.49062684, 11.38997072, 10.17111368, 10.62699604,\n",
       "        8.69614162, 10.35986963, 11.43522729,  9.52905869,  9.22263793,\n",
       "        8.83447501,  9.54524449,  9.45059797,  9.67280947,  8.17697462,\n",
       "        9.14719777, 10.96155337, 10.23560862,  9.21278385, 10.85732874,\n",
       "        8.51835132,  9.45032062,  8.73149256,  8.30728405,  9.67656681,\n",
       "        9.84995622, 11.24608369,  9.23124331,  9.40986834,  8.7483814 ,\n",
       "       10.32899791,  9.97512794, 11.53200817,  9.61251394,  9.64333243,\n",
       "       11.20210365, 10.60903533,  9.8824096 ,  9.25903569, 10.52931785,\n",
       "        9.97848064,  9.18174657, 11.6315196 , 10.30453269,  9.28198316,\n",
       "       10.85860455,  8.85719454,  9.8765842 , 10.18790403,  8.8274319 ,\n",
       "        9.66218383, 10.35306776, 10.19245924, 10.87026139,  9.33112267,\n",
       "       11.90925326, 10.77437817, 10.24537189,  9.38480927,  9.85085657,\n",
       "       12.35844687,  8.54481409,  9.77471859, 11.49227638,  8.78074581,\n",
       "       11.01951946,  8.29342828, 10.93739595,  8.92687309,  8.82734585,\n",
       "        8.66093512, 11.4846217 , 10.43590529, 10.51617765, 10.85469204,\n",
       "       10.61744017,  9.79782404, 11.71584365, 10.41385917,  9.23951814,\n",
       "       11.28654908,  9.1874054 ,  9.47281646, 11.44345844,  9.46177005,\n",
       "       10.61795266,  9.88648035, 10.50216699, 10.33586582, 11.31796569,\n",
       "        9.65433639,  9.66750071, 10.4586009 , 11.50074705, 10.52781332,\n",
       "        9.04226188, 10.79332078,  8.94855136, 10.85297096,  9.93097098,\n",
       "        9.84430423, 11.43228515, 10.09104625,  8.94297366,  8.38524559,\n",
       "        9.84076208, 11.21185343, 10.59306265,  9.01087372,  9.27131151,\n",
       "        9.1554552 ,  9.29540765,  8.68825294,  9.2232014 , 10.0440099 ,\n",
       "        9.46828831,  8.28806215,  9.15292193, 11.91840064, 10.95493652,\n",
       "       10.0380148 ,  9.7010801 ,  9.76698044,  9.56054196,  9.92885438,\n",
       "       10.30823166,  9.85064485,  9.44779284,  9.62880519,  7.71557742,\n",
       "        8.94978698, 10.98121214,  9.48537667,  9.74434114,  9.66010917,\n",
       "       11.35236431,  8.817659  , 10.65901897, 10.51307219, 10.79534554,\n",
       "        9.45805136,  9.67574226,  9.80579061,  7.9964014 ,  8.95770859,\n",
       "        9.77406279, 12.58240174, 10.16913646,  8.88263851,  8.72894585,\n",
       "        9.40200049,  9.39188945, 10.1781959 , 11.42925822,  9.83803145,\n",
       "       11.33730188, 10.13656477, 10.25794006,  9.51458539,  9.65342442,\n",
       "       11.43384514,  9.82654276,  8.92377205, 10.52295251,  9.75671288,\n",
       "        8.14903854, 10.11500608, 11.50291586,  9.60669446, 11.59968683,\n",
       "        8.67612343, 10.60991265, 11.64803204,  8.98538407,  9.93137089,\n",
       "       10.12412201,  9.89277152, 10.18705077,  9.56046992,  9.64713804,\n",
       "        9.88940584,  9.14857021, 10.4910154 , 10.18036099,  8.65097393,\n",
       "       10.00520969, 11.1964672 ,  9.58134063,  9.77240703,  9.97158993,\n",
       "        9.86318418, 11.47952182, 10.90589598, 11.14451501,  8.60978686,\n",
       "       10.06931986,  7.83464169, 11.1949699 , 10.76765531, 10.39966934,\n",
       "        8.64566491, 11.06629138, 10.85502947,  9.20971709,  9.65255909,\n",
       "       10.65470911, 10.1981893 ,  9.84865329,  7.06902722,  9.81624363,\n",
       "       10.73627282, 11.02548061,  9.64063962, 10.28460137, 12.48916194,\n",
       "       11.09696366,  9.67174779,  9.31626842, 11.22919327,  9.33746264,\n",
       "        9.63050481, 10.22780762, 10.75627414, 11.16111316,  9.90663696,\n",
       "       10.60376343, 10.56176069, 10.04419649, 10.64884611, 10.37414572,\n",
       "       10.49724854,  8.32322322,  9.92435779,  9.7539709 ,  8.00248551,\n",
       "        9.50559857, 10.45671674,  9.77234814,  8.47139689,  9.90044376,\n",
       "       10.45735568,  9.99054231,  9.35350315,  9.42404227, 10.83960353,\n",
       "       10.42770044,  9.35189342,  9.52285397,  9.71631121, 10.24923994,\n",
       "       10.88398242,  9.98830833, 11.02947968, 10.86870571, 11.82154296,\n",
       "        8.78241395,  8.99776378,  9.10256908,  9.31201811, 11.05903705,\n",
       "       10.89017794,  7.51404317,  9.20139346, 11.55530362, 10.19610178,\n",
       "        8.31825625,  8.3311423 , 10.45740718,  9.62944007, 10.01532675,\n",
       "       10.43653571,  9.76684475, 10.31854509, 11.42160877, 11.87113024,\n",
       "        7.79429139, 10.26082506,  9.69789824, 10.57717331, 13.06283164,\n",
       "        8.19861975, 11.36937486,  9.6451995 ,  9.10699391,  9.05379638,\n",
       "        9.24522552, 10.68998524,  8.80736952,  9.28736581, 10.5876418 ,\n",
       "        7.76282394,  8.64597903, 11.62820235,  9.22147568,  9.54218297,\n",
       "        9.09845524,  8.29001631, 10.3971038 , 10.07299235,  7.98613227,\n",
       "       10.08558045, 11.60520291, 11.25823849, 10.39704718, 10.79706192,\n",
       "       10.22652108,  9.65621134, 10.17768173, 10.0387361 ,  8.88870448,\n",
       "       10.20622337, 10.67026895,  9.64644316,  9.80519247, 10.39824421,\n",
       "        8.86876608,  9.63628902, 10.16763244, 10.72968751, 11.90288963,\n",
       "        8.83898291, 10.03343943, 12.73813854, 10.64716616, 11.56484613,\n",
       "        8.67263738,  8.67253195,  9.65211469, 10.34204551,  9.80267125,\n",
       "       10.82027091,  9.62874486, 11.02789472,  9.32405511,  8.99873222,\n",
       "       10.30361395,  9.35829893, 10.95493781, 10.33543591,  9.73262705,\n",
       "        9.55715159,  9.80277985,  8.90962695,  8.95814557, 10.7859041 ,\n",
       "        7.00200359,  9.4052494 , 10.09361455, 11.67372074, 10.24874365,\n",
       "       11.55842045,  9.15788442,  8.20226582,  8.66331425, 10.11965613,\n",
       "       10.7669873 ,  8.44388888, 10.4926671 ,  8.45660623, 10.13426742,\n",
       "        9.31094857, 11.27036355, 10.86305573,  9.59741255,  9.16393348,\n",
       "        8.90989865,  8.89537762, 11.40546232,  9.78457329, 10.15245629,\n",
       "        9.90733486, 10.9162798 ,  9.51467824,  7.31157867,  9.506287  ,\n",
       "       10.31003723,  9.42844827,  9.09309518, 10.57519624, 12.7187467 ,\n",
       "       10.10599878,  8.22725633,  9.27998344,  9.79200338, 10.54605426,\n",
       "       11.26964041,  8.88691045, 10.62584716,  7.38255725,  8.98686105,\n",
       "       11.03709547, 10.62762642,  7.87443345, 10.85295292,  9.35211373,\n",
       "        8.89340227,  9.07786089, 11.70881773, 10.3102032 ,  7.50623269,\n",
       "       10.50629583, 10.46015596,  9.97984107,  9.26948552, 10.52802881,\n",
       "       10.17205365, 10.95710274,  8.93282677, 10.02877848,  9.79512409,\n",
       "       10.15226032, 11.04213463,  8.52534724, 12.67736747, 10.04825196,\n",
       "       10.8059524 , 10.6524164 , 10.17215248, 11.39280589, 10.34140928,\n",
       "        9.47982085, 12.2283072 ,  9.75814109,  9.53259738,  8.29239761,\n",
       "       10.91367801,  9.17324398,  9.90939286,  9.6674571 ,  9.16350908,\n",
       "       11.65390128,  9.65690437,  8.89401859,  9.37735886, 10.2308774 ,\n",
       "        9.74488044, 10.08528153, 10.95266514,  9.27942027, 11.19574708,\n",
       "       10.4516564 ,  9.49654612, 11.87460798, 10.4560138 , 11.18844554,\n",
       "        9.27417429, 11.22098257, 11.17130588, 10.59398168, 10.43072091,\n",
       "       11.27522094,  9.6330945 ,  9.63715193, 10.05752031,  9.70165258,\n",
       "       11.00177016,  9.42796359,  8.67831422, 10.4986168 , 10.91037001,\n",
       "       12.25605955,  8.08420528,  9.23767372, 11.48789548, 10.50658244,\n",
       "       10.07669491,  9.18180798, 10.77431789,  8.51477359, 10.81398715,\n",
       "        8.90561469, 10.06996914,  8.40473995,  8.4670759 , 10.91183685])"
      ]
     },
     "execution_count": 40,
     "metadata": {},
     "output_type": "execute_result"
    }
   ],
   "source": [
    "n = 10+np.random.randn(1000)\n",
    "n"
   ]
  },
  {
   "cell_type": "code",
   "execution_count": 41,
   "id": "7e30fe42",
   "metadata": {},
   "outputs": [
    {
     "data": {
      "image/png": "[encoded data removed]",
      "text/plain": [
       "<Figure size 432x288 with 1 Axes>"
      ]
     },
     "metadata": {
      "needs_background": "light"
     },
     "output_type": "display_data"
    }
   ],
   "source": [
    "plt.hist(n,bins=20)\n",
    "plt.show()"
   ]
  },
  {
   "cell_type": "code",
   "execution_count": 42,
   "id": "88c12657",
   "metadata": {},
   "outputs": [
    {
     "data": {
      "image/png": "[encoded data removed]",
      "text/plain": [
       "<Figure size 432x288 with 1 Axes>"
      ]
     },
     "metadata": {
      "needs_background": "light"
     },
     "output_type": "display_data"
    }
   ],
   "source": [
    "plt.hist(n,bins=20, cumulative=True)\n",
    "plt.show()"
   ]
  },
  {
   "cell_type": "code",
   "execution_count": 43,
   "id": "fed097dc",
   "metadata": {},
   "outputs": [
    {
     "data": {
      "image/png": "[encoded data removed]",
      "text/plain": [
       "<Figure size 432x288 with 1 Axes>"
      ]
     },
     "metadata": {
      "needs_background": "light"
     },
     "output_type": "display_data"
    }
   ],
   "source": [
    "# Scatter Plot\n",
    "plt.scatter(x,y1)\n",
    "plt.show()"
   ]
  },
  {
   "cell_type": "code",
   "execution_count": 44,
   "id": "85b872df",
   "metadata": {},
   "outputs": [
    {
     "data": {
      "image/png": "[encoded data removed]",
      "text/plain": [
       "<Figure size 432x288 with 1 Axes>"
      ]
     },
     "metadata": {
      "needs_background": "light"
     },
     "output_type": "display_data"
    }
   ],
   "source": [
    "plt.scatter(x,y1, color='r', marker='v') #How to give the customizable marker\n",
    "plt.show()"
   ]
  },
  {
   "cell_type": "code",
   "execution_count": 45,
   "id": "9003ecb0",
   "metadata": {},
   "outputs": [],
   "source": [
    "import pandas as pd"
   ]
  },
  {
   "cell_type": "code",
   "execution_count": 46,
   "id": "7af0f593",
   "metadata": {},
   "outputs": [],
   "source": [
    "# data = pd.read_csv()"
   ]
  },
  {
   "cell_type": "markdown",
   "id": "f6768595",
   "metadata": {},
   "source": [
    "Whenever we are using lon and lat - make lon as X axis and lat as Y axis"
   ]
  },
  {
   "cell_type": "code",
   "execution_count": 47,
   "id": "16ef81b5",
   "metadata": {},
   "outputs": [
    {
     "data": {
      "text/plain": [
       "['BooleanDtype',\n",
       " 'Categorical',\n",
       " 'CategoricalDtype',\n",
       " 'CategoricalIndex',\n",
       " 'DataFrame',\n",
       " 'DateOffset',\n",
       " 'DatetimeIndex',\n",
       " 'DatetimeTZDtype',\n",
       " 'ExcelFile',\n",
       " 'ExcelWriter',\n",
       " 'Flags',\n",
       " 'Float32Dtype',\n",
       " 'Float64Dtype',\n",
       " 'Float64Index',\n",
       " 'Grouper',\n",
       " 'HDFStore',\n",
       " 'Index',\n",
       " 'IndexSlice',\n",
       " 'Int16Dtype',\n",
       " 'Int32Dtype',\n",
       " 'Int64Dtype',\n",
       " 'Int64Index',\n",
       " 'Int8Dtype',\n",
       " 'Interval',\n",
       " 'IntervalDtype',\n",
       " 'IntervalIndex',\n",
       " 'MultiIndex',\n",
       " 'NA',\n",
       " 'NaT',\n",
       " 'NamedAgg',\n",
       " 'Period',\n",
       " 'PeriodDtype',\n",
       " 'PeriodIndex',\n",
       " 'RangeIndex',\n",
       " 'Series',\n",
       " 'SparseDtype',\n",
       " 'StringDtype',\n",
       " 'Timedelta',\n",
       " 'TimedeltaIndex',\n",
       " 'Timestamp',\n",
       " 'UInt16Dtype',\n",
       " 'UInt32Dtype',\n",
       " 'UInt64Dtype',\n",
       " 'UInt64Index',\n",
       " 'UInt8Dtype',\n",
       " '__all__',\n",
       " '__builtins__',\n",
       " '__cached__',\n",
       " '__deprecated_num_index_names',\n",
       " '__dir__',\n",
       " '__doc__',\n",
       " '__docformat__',\n",
       " '__file__',\n",
       " '__getattr__',\n",
       " '__git_version__',\n",
       " '__loader__',\n",
       " '__name__',\n",
       " '__package__',\n",
       " '__path__',\n",
       " '__spec__',\n",
       " '__version__',\n",
       " '_config',\n",
       " '_is_numpy_dev',\n",
       " '_libs',\n",
       " '_testing',\n",
       " '_typing',\n",
       " '_version',\n",
       " 'api',\n",
       " 'array',\n",
       " 'arrays',\n",
       " 'bdate_range',\n",
       " 'compat',\n",
       " 'concat',\n",
       " 'core',\n",
       " 'crosstab',\n",
       " 'cut',\n",
       " 'date_range',\n",
       " 'describe_option',\n",
       " 'errors',\n",
       " 'eval',\n",
       " 'factorize',\n",
       " 'get_dummies',\n",
       " 'get_option',\n",
       " 'infer_freq',\n",
       " 'interval_range',\n",
       " 'io',\n",
       " 'isna',\n",
       " 'isnull',\n",
       " 'json_normalize',\n",
       " 'lreshape',\n",
       " 'melt',\n",
       " 'merge',\n",
       " 'merge_asof',\n",
       " 'merge_ordered',\n",
       " 'notna',\n",
       " 'notnull',\n",
       " 'offsets',\n",
       " 'option_context',\n",
       " 'options',\n",
       " 'pandas',\n",
       " 'period_range',\n",
       " 'pivot',\n",
       " 'pivot_table',\n",
       " 'plotting',\n",
       " 'qcut',\n",
       " 'read_clipboard',\n",
       " 'read_csv',\n",
       " 'read_excel',\n",
       " 'read_feather',\n",
       " 'read_fwf',\n",
       " 'read_gbq',\n",
       " 'read_hdf',\n",
       " 'read_html',\n",
       " 'read_json',\n",
       " 'read_orc',\n",
       " 'read_parquet',\n",
       " 'read_pickle',\n",
       " 'read_sas',\n",
       " 'read_spss',\n",
       " 'read_sql',\n",
       " 'read_sql_query',\n",
       " 'read_sql_table',\n",
       " 'read_stata',\n",
       " 'read_table',\n",
       " 'read_xml',\n",
       " 'reset_option',\n",
       " 'set_eng_float_format',\n",
       " 'set_option',\n",
       " 'show_versions',\n",
       " 'test',\n",
       " 'testing',\n",
       " 'timedelta_range',\n",
       " 'to_datetime',\n",
       " 'to_numeric',\n",
       " 'to_pickle',\n",
       " 'to_timedelta',\n",
       " 'tseries',\n",
       " 'unique',\n",
       " 'util',\n",
       " 'value_counts',\n",
       " 'wide_to_long']"
      ]
     },
     "execution_count": 47,
     "metadata": {},
     "output_type": "execute_result"
    }
   ],
   "source": [
    "dir(pd)"
   ]
  },
  {
   "cell_type": "code",
   "execution_count": 48,
   "id": "422d07b3",
   "metadata": {},
   "outputs": [],
   "source": [
    "import numpy as np"
   ]
  },
  {
   "cell_type": "code",
   "execution_count": 49,
   "id": "1e38b709",
   "metadata": {},
   "outputs": [
    {
     "data": {
      "text/plain": [
       "array([ 1,  2,  3,  4,  5,  6,  7,  8,  9, 10])"
      ]
     },
     "execution_count": 49,
     "metadata": {},
     "output_type": "execute_result"
    }
   ],
   "source": [
    "x = np.arange(1,11)\n",
    "x"
   ]
  },
  {
   "cell_type": "code",
   "execution_count": 50,
   "id": "b48fe24c",
   "metadata": {},
   "outputs": [],
   "source": [
    "y1 =np.random.randint(1,50, size=10)\n",
    "y2 =np.random.randint(1,50, size=10)\n",
    "y3 =np.random.randint(1,50, size=10)"
   ]
  },
  {
   "cell_type": "code",
   "execution_count": 51,
   "id": "8a9772d5",
   "metadata": {},
   "outputs": [
    {
     "data": {
      "text/plain": [
       "(array([48, 37, 37, 35, 38,  4, 30, 25, 38, 23]),\n",
       " array([14, 34, 18, 40, 26, 45, 28, 26, 17, 49]),\n",
       " array([34, 47, 32, 49,  4, 35, 26, 37, 39, 41]))"
      ]
     },
     "execution_count": 51,
     "metadata": {},
     "output_type": "execute_result"
    }
   ],
   "source": [
    "y1,y2,y3"
   ]
  },
  {
   "cell_type": "code",
   "execution_count": 53,
   "id": "77cf63c9",
   "metadata": {},
   "outputs": [
    {
     "data": {
      "image/png": "[encoded data removed]",
      "text/plain": [
       "<Figure size 432x288 with 1 Axes>"
      ]
     },
     "metadata": {
      "needs_background": "light"
     },
     "output_type": "display_data"
    }
   ],
   "source": [
    "plt.stackplot(x,y1,y2,y3, colors=[\"g\",\"k\",\"c\"], labels=[\"emp1\", \"emp2\", \"emp3\"])\n",
    "plt.legend() #\n",
    "plt.show()"
   ]
  },
  {
   "cell_type": "code",
   "execution_count": null,
   "id": "6c87c076",
   "metadata": {},
   "outputs": [],
   "source": [
    "plt.plot([], color=\"g\",label=\"emp1\")\n",
    "plt.plot([], color=\"r\",label=\"emp2\")\n",
    "plt.plot([], color=\"c\",label=\"emp3\")"
   ]
  },
  {
   "cell_type": "code",
   "execution_count": 54,
   "id": "82a4f517",
   "metadata": {},
   "outputs": [
    {
     "data": {
      "image/png": "[encoded data removed]",
      "text/plain": [
       "<Figure size 432x288 with 1 Axes>"
      ]
     },
     "metadata": {},
     "output_type": "display_data"
    }
   ],
   "source": [
    "# Pie\n",
    "n =[28,89,45,65]\n",
    "plt.pie(n)\n",
    "plt.show()"
   ]
  },
  {
   "cell_type": "code",
   "execution_count": 61,
   "id": "ef6de077",
   "metadata": {},
   "outputs": [
    {
     "data": {
      "image/png": "[encoded data removed]",
      "text/plain": [
       "<Figure size 432x288 with 1 Axes>"
      ]
     },
     "metadata": {},
     "output_type": "display_data"
    }
   ],
   "source": [
    "la=[\"emp1\", \"emp2\", \"emp3\", \"emp4\"]\n",
    "plt.pie(n, labels=la ,startangle=-30, colors=[\"r\",\"c\",\"y\",\"b\"], explode=[0,0,0.2,0]) #Pull out the particular \n",
    "# plt.legend()\n",
    "plt.show()"
   ]
  },
  {
   "cell_type": "code",
   "execution_count": 66,
   "id": "acdcea6b",
   "metadata": {},
   "outputs": [
    {
     "data": {
      "image/png": "[encoded data removed]",
      "text/plain": [
       "<Figure size 432x288 with 1 Axes>"
      ]
     },
     "metadata": {},
     "output_type": "display_data"
    },
    {
     "data": {
      "image/png": "[encoded data removed]",
      "text/plain": [
       "<Figure size 432x288 with 1 Axes>"
      ]
     },
     "metadata": {},
     "output_type": "display_data"
    },
    {
     "data": {
      "image/png": "[encoded data removed]",
      "text/plain": [
       "<Figure size 432x288 with 1 Axes>"
      ]
     },
     "metadata": {},
     "output_type": "display_data"
    },
    {
     "data": {
      "image/png": "[encoded data removed]",
      "text/plain": [
       "<Figure size 432x288 with 1 Axes>"
      ]
     },
     "metadata": {},
     "output_type": "display_data"
    },
    {
     "data": {
      "image/png": "[encoded data removed]",
      "text/plain": [
       "<Figure size 432x288 with 1 Axes>"
      ]
     },
     "metadata": {},
     "output_type": "display_data"
    },
    {
     "ename": "KeyboardInterrupt",
     "evalue": "",
     "output_type": "error",
     "traceback": [
      "\u001b[1;31m---------------------------------------------------------------------------\u001b[0m",
      "\u001b[1;31mKeyboardInterrupt\u001b[0m                         Traceback (most recent call last)",
      "Input \u001b[1;32mIn [66]\u001b[0m, in \u001b[0;36m<cell line: 3>\u001b[1;34m()\u001b[0m\n\u001b[0;32m      7\u001b[0m d \u001b[38;5;241m=\u001b[39m np\u001b[38;5;241m.\u001b[39mrandom\u001b[38;5;241m.\u001b[39mrandom()\n\u001b[0;32m      9\u001b[0m plt\u001b[38;5;241m.\u001b[39mpie(n, labels\u001b[38;5;241m=\u001b[39mla ,startangle\u001b[38;5;241m=\u001b[39m\u001b[38;5;241m-\u001b[39m\u001b[38;5;241m30\u001b[39m, colors\u001b[38;5;241m=\u001b[39m[\u001b[38;5;124m\"\u001b[39m\u001b[38;5;124mr\u001b[39m\u001b[38;5;124m\"\u001b[39m,\u001b[38;5;124m\"\u001b[39m\u001b[38;5;124mc\u001b[39m\u001b[38;5;124m\"\u001b[39m,\u001b[38;5;124m\"\u001b[39m\u001b[38;5;124my\u001b[39m\u001b[38;5;124m\"\u001b[39m,\u001b[38;5;124m\"\u001b[39m\u001b[38;5;124mb\u001b[39m\u001b[38;5;124m\"\u001b[39m], explode\u001b[38;5;241m=\u001b[39m[a,b,c,d]) \u001b[38;5;66;03m#Pull out the particular \u001b[39;00m\n\u001b[1;32m---> 10\u001b[0m \u001b[43mtime\u001b[49m\u001b[38;5;241;43m.\u001b[39;49m\u001b[43msleep\u001b[49m\u001b[43m(\u001b[49m\u001b[38;5;241;43m1\u001b[39;49m\u001b[43m)\u001b[49m\n\u001b[0;32m     11\u001b[0m \u001b[38;5;66;03m# plt.legend()\u001b[39;00m\n\u001b[0;32m     12\u001b[0m plt\u001b[38;5;241m.\u001b[39mshow()\n",
      "\u001b[1;31mKeyboardInterrupt\u001b[0m: "
     ]
    },
    {
     "data": {
      "image/png": "[encoded data removed]",
      "text/plain": [
       "<Figure size 432x288 with 1 Axes>"
      ]
     },
     "metadata": {},
     "output_type": "display_data"
    }
   ],
   "source": [
    "import time\n",
    "la=[\"emp1\", \"emp2\", \"emp3\", \"emp4\"]\n",
    "while(True):\n",
    "    a = np.random.random()\n",
    "    b = np.random.random()\n",
    "    c = np.random.random()\n",
    "    d = np.random.random()\n",
    "    \n",
    "    plt.pie(n, labels=la ,startangle=-30, colors=[\"r\",\"c\",\"y\",\"b\"], explode=[a,b,c,d]) #Pull out the particular \n",
    "    time.sleep(1)\n",
    "    # plt.legend()\n",
    "    plt.show()\n",
    "    plt.clf()"
   ]
  },
  {
   "cell_type": "code",
   "execution_count": null,
   "id": "8f160bbb",
   "metadata": {},
   "outputs": [],
   "source": []
  }
 ],
 "metadata": {
  "kernelspec": {
   "display_name": "Python 3 (ipykernel)",
   "language": "python",
   "name": "python3"
  },
  "language_info": {
   "codemirror_mode": {
    "name": "ipython",
    "version": 3
   },
   "file_extension": ".py",
   "mimetype": "text/x-python",
   "name": "python",
   "nbconvert_exporter": "python",
   "pygments_lexer": "ipython3",
   "version": "3.10.2"
  }
 },
 "nbformat": 4,
 "nbformat_minor": 5
}
