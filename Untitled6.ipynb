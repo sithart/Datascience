{
 "cells": [
  {
   "cell_type": "code",
   "execution_count": 1,
   "id": "98545fbc",
   "metadata": {},
   "outputs": [
    {
     "data": {
      "text/plain": [
       "[<matplotlib.lines.Line2D at 0x28d42fab3a0>]"
      ]
     },
     "execution_count": 1,
     "metadata": {},
     "output_type": "execute_result"
    },
    {
     "data": {
      "image/png": "[encoded data removed]",
      "text/plain": [
       "<Figure size 432x288 with 1 Axes>"
      ]
     },
     "metadata": {
      "needs_background": "light"
     },
     "output_type": "display_data"
    }
   ],
   "source": [
    "import matplotlib.pyplot as plt\n",
    "import numpy as np\n",
    "x = [1,2,3,4,5,6,7,8,9]\n",
    "y1 = [11,7,-34,230,-20,30,-112,10,-200]\n",
    "plt.plot(x,y1, color=\"#F911F9\", marker='D', ms=12, mfc =\"g\",mec=\"k\")\n"
   ]
  },
  {
   "cell_type": "code",
   "execution_count": 2,
   "id": "ece1dbd0",
   "metadata": {},
   "outputs": [],
   "source": [
    "x_dup = []\n",
    "y_dup = []\n",
    "for i in y1:\n",
    "    if i < 0:\n",
    "        t = y1.index(i)\n",
    "        t =  t+ 1\n",
    "        x_dup.append(t)\n",
    "        y_dup.append(i)\n"
   ]
  },
  {
   "cell_type": "code",
   "execution_count": 3,
   "id": "1d97484d",
   "metadata": {},
   "outputs": [
    {
     "data": {
      "text/plain": [
       "([3, 5, 7, 9], [-34, -20, -112, -200])"
      ]
     },
     "execution_count": 3,
     "metadata": {},
     "output_type": "execute_result"
    }
   ],
   "source": [
    "x_dup,y_dup"
   ]
  },
  {
   "cell_type": "code",
   "execution_count": 4,
   "id": "4ec1ce9a",
   "metadata": {},
   "outputs": [],
   "source": [
    "x_dup = []\n",
    "y_dup = []\n",
    "i = 0\n",
    "while i < len(y1):\n",
    "    if y1[i] < 0:\n",
    "        x_dup.append(x[i])\n",
    "        y_dup.append(y1[i])\n",
    "    i += 1\n",
    "    \n",
    "    "
   ]
  },
  {
   "cell_type": "code",
   "execution_count": 7,
   "id": "b7eee3c6",
   "metadata": {},
   "outputs": [
    {
     "data": {
      "text/plain": [
       "([3, 5, 7, 9], [-34, -20, -112, -200])"
      ]
     },
     "execution_count": 7,
     "metadata": {},
     "output_type": "execute_result"
    }
   ],
   "source": [
    "x_dup, y_dup"
   ]
  },
  {
   "cell_type": "code",
   "execution_count": 43,
   "id": "ab5c035b",
   "metadata": {},
   "outputs": [
    {
     "data": {
      "image/png": "[encoded data removed]",
      "text/plain": [
       "<Figure size 432x288 with 1 Axes>"
      ]
     },
     "metadata": {
      "needs_background": "light"
     },
     "output_type": "display_data"
    }
   ],
   "source": [
    "plt.scatter(x,y1, marker=\"v\")\n",
    "plt.show()"
   ]
  },
  {
   "cell_type": "code",
   "execution_count": 14,
   "id": "45dcb4a4",
   "metadata": {},
   "outputs": [
    {
     "data": {
      "text/plain": [
       "array([26, 27, 32, 22, 30, 25, 26, 33, 26, 31, 25, 24, 25, 22, 33, 34, 25,\n",
       "       33, 28, 26, 24, 34, 31, 24, 29, 30, 30, 33, 33, 28, 26, 21, 28, 31,\n",
       "       25])"
      ]
     },
     "execution_count": 14,
     "metadata": {},
     "output_type": "execute_result"
    }
   ],
   "source": [
    "import numpy as np\n",
    "age = np.random.randint(20,35, size=35)\n",
    "age"
   ]
  },
  {
   "cell_type": "code",
   "execution_count": 17,
   "id": "fbb555a7",
   "metadata": {},
   "outputs": [
    {
     "data": {
      "image/png": "[encoded data removed]",
      "text/plain": [
       "<Figure size 432x288 with 1 Axes>"
      ]
     },
     "metadata": {
      "needs_background": "light"
     },
     "output_type": "display_data"
    }
   ],
   "source": [
    "plt.show()"
   ]
  },
  {
   "cell_type": "code",
   "execution_count": 16,
   "id": "cd4bf39a",
   "metadata": {},
   "outputs": [
    {
     "data": {
      "text/plain": [
       "(21, 34)"
      ]
     },
     "execution_count": 16,
     "metadata": {},
     "output_type": "execute_result"
    }
   ],
   "source": [
    "min(age), max(age)"
   ]
  },
  {
   "cell_type": "code",
   "execution_count": 24,
   "id": "69bb0e79",
   "metadata": {},
   "outputs": [],
   "source": [
    "t = (max(age) - min(age))/20"
   ]
  },
  {
   "cell_type": "code",
   "execution_count": null,
   "id": "1217053d",
   "metadata": {},
   "outputs": [],
   "source": []
  },
  {
   "cell_type": "code",
   "execution_count": 27,
   "id": "b81ca3d3",
   "metadata": {},
   "outputs": [
    {
     "data": {
      "text/plain": [
       "(21, 21.65, 22.299999999999997, 22.949999999999996)"
      ]
     },
     "execution_count": 27,
     "metadata": {},
     "output_type": "execute_result"
    }
   ],
   "source": [
    "min(age),min(age)+t,min(age)+t+t,min(age)+t+t+t"
   ]
  },
  {
   "cell_type": "code",
   "execution_count": 40,
   "id": "efce38a1",
   "metadata": {},
   "outputs": [
    {
     "data": {
      "text/plain": [
       "<function matplotlib.pyplot.show(close=None, block=None)>"
      ]
     },
     "execution_count": 40,
     "metadata": {},
     "output_type": "execute_result"
    },
    {
     "data": {
      "image/png": "[encoded data removed]",
      "text/plain": [
       "<Figure size 432x288 with 1 Axes>"
      ]
     },
     "metadata": {
      "needs_background": "light"
     },
     "output_type": "display_data"
    }
   ],
   "source": [
    "plt.hist(age, bins=14)\n",
    "plt.show"
   ]
  },
  {
   "cell_type": "code",
   "execution_count": 29,
   "id": "42aacbd6",
   "metadata": {},
   "outputs": [
    {
     "data": {
      "image/png": "[encoded data removed]",
      "text/plain": [
       "<Figure size 432x288 with 1 Axes>"
      ]
     },
     "metadata": {
      "needs_background": "light"
     },
     "output_type": "display_data"
    }
   ],
   "source": [
    "plt.hist(age, bins=14, cumulative=True)\n",
    "plt.show()"
   ]
  },
  {
   "cell_type": "code",
   "execution_count": 32,
   "id": "74295c6d",
   "metadata": {},
   "outputs": [
    {
     "data": {
      "text/plain": [
       "array([10.24587103, 10.8649284 ,  9.66995887,  9.34701833,  9.87425901,\n",
       "       10.31567768, 11.62491167,  7.74428735,  8.82593109, 10.78045097,\n",
       "       10.49063978,  9.92238806,  9.03783788, 10.19854497, 11.39750762,\n",
       "        9.70309597,  9.99725745, 10.6833241 ,  9.56664558,  9.64239212,\n",
       "       10.65122014,  8.90238169, 10.26504021,  8.84716135,  9.94901648,\n",
       "        8.80516534,  8.79552937, 10.76104357,  8.43927436,  8.44433437,\n",
       "        8.11307839, 11.06485765,  8.49917945,  9.78154627,  8.63398938,\n",
       "        8.90151125,  9.85493051,  8.64416493,  9.67085408,  9.64769172,\n",
       "       11.00151761,  9.75565179, 10.15111691,  9.61615236, 10.38557891,\n",
       "        8.0687302 , 11.57707308, 10.80169835,  9.48875687,  9.14272099,\n",
       "       10.85149692, 11.05384812,  9.43602704, 12.11042017, 10.26379824,\n",
       "        6.9000452 ,  9.89639355,  9.96004787,  9.25290314,  9.74481638,\n",
       "       10.0890676 ,  9.89915595,  9.98955847,  9.3965561 , 10.04217333,\n",
       "        9.00642619, 10.72364352, 10.4516597 , 11.20514583, 11.19986141,\n",
       "       10.52653513,  9.80951854, 10.0983114 ,  8.86324545, 10.44743685,\n",
       "        7.96093392, 10.12594687, 10.16605706,  8.95688395,  9.04808154,\n",
       "       11.04127175, 10.00999288,  8.96482744,  9.11583575,  9.09869883,\n",
       "        9.64320157,  9.93848733, 10.16220372, 12.24754738, 11.17169943,\n",
       "       10.03808729,  8.86409687,  8.19778647, 10.94122547, 10.034714  ,\n",
       "       10.42562702, 10.70853579,  9.45768161,  9.37600292, 11.46704701,\n",
       "        9.87070761, 10.3013819 , 10.4110852 , 10.76123688,  9.86067939,\n",
       "        9.89588704,  9.54213027, 10.63899671, 10.10732041, 10.71620687,\n",
       "        9.28513736,  8.79030888,  9.74256128,  8.77976058, 10.56926339,\n",
       "        9.54752512,  9.97503026, 10.41019714, 10.08754739, 11.94969728,\n",
       "        9.75661079,  9.86968389,  9.31696034, 10.35628594, 11.02518405,\n",
       "       10.12844985, 10.83473336,  8.23440182, 10.24926206, 11.17312271,\n",
       "        9.94156717,  8.63754771, 12.41404046, 10.37296776,  9.62883972,\n",
       "        8.904231  ,  9.56641934,  9.2834854 ,  9.90150204, 10.31210909,\n",
       "        9.8427428 , 11.54337205,  9.47269593,  8.82506003,  9.161205  ,\n",
       "       10.2694171 ,  8.84568866, 10.55610612,  8.98623913, 10.49725629,\n",
       "        9.47979191, 11.29605769, 10.42323324, 10.03976544, 11.29666202,\n",
       "        8.64132764, 10.80840705, 10.3073419 , 10.77574095,  9.44666469,\n",
       "        9.92037376, 11.06066954, 10.37619807, 10.95169758,  9.35350968,\n",
       "        9.07298554,  9.03025697, 10.60856639, 10.56802122, 10.63085994,\n",
       "        8.50350782,  9.62676911,  8.14858064, 11.23156857, 13.01407343,\n",
       "       11.72299604, 10.5733122 , 10.4638867 , 12.02665132,  8.01716459,\n",
       "       12.17058167, 10.28797713,  9.53418922, 10.71519522, 11.28607915,\n",
       "       11.61767583, 10.35300524, 10.89747218,  9.25325018,  9.96822301,\n",
       "       11.45819476,  9.52303126,  9.74808546,  9.34363328, 11.02218997,\n",
       "       10.09083537, 11.00744891,  9.73078986,  9.62464149,  8.98665056,\n",
       "       10.08362146,  7.95021652, 10.26041841,  9.65010768,  8.42623899,\n",
       "        9.59627809, 10.6867428 ,  9.88321475,  7.43202371,  9.31067905,\n",
       "       10.58194889, 10.19153205, 10.63193016, 10.07959734, 11.57371271,\n",
       "        9.70123183, 10.44077472, 10.58412181,  7.89820878, 10.02927895,\n",
       "        9.97739814, 10.03199464, 10.58206832,  8.78934504, 12.71791373,\n",
       "        8.78290864,  9.70839019,  7.33348501,  8.63370419, 10.98206318,\n",
       "        8.92697447,  9.29277437, 10.15517446,  8.56416144,  8.93383713,\n",
       "       10.22142048,  9.75181476, 10.42598783, 10.29595296,  9.31278664,\n",
       "       10.49967252,  9.84214446,  9.19724127, 10.99430486,  7.78886665,\n",
       "        9.97041473, 11.28769367,  9.68889631,  9.84162287, 10.21988279,\n",
       "       10.75953207,  9.09181356,  8.37082478, 10.05301636,  9.23166736,\n",
       "       10.25799245, 11.84874275,  9.5516516 , 10.79155087, 11.25861941,\n",
       "        9.9019666 , 10.18926874, 10.3580977 ,  9.43346352, 10.90143388,\n",
       "       10.7425975 ,  9.36203117, 10.58862595,  9.67138849, 10.12252621,\n",
       "       11.19364381,  9.95868351, 10.01435582, 11.07187496,  8.6258113 ,\n",
       "       10.95153529,  8.41800169,  8.84056121,  9.99305137, 10.48089339,\n",
       "        9.38553205, 10.61916985,  9.55644364,  9.09620402,  9.47357489,\n",
       "       11.33799436,  9.74571991, 10.48604601,  8.76743384, 10.39803138,\n",
       "        9.67895136, 10.31307515,  8.11843588,  9.97432934, 10.80090615,\n",
       "       10.97700245,  9.87856443,  9.21369998, 10.03458493,  9.62923705,\n",
       "       10.6668073 ,  9.10822372,  8.09058201,  8.08352401, 10.65824476,\n",
       "       10.42700501, 11.63561667,  9.83464859, 10.63872679,  9.44063765,\n",
       "       10.31143289, 11.42929191, 10.71739026, 10.10406675,  9.7797981 ,\n",
       "       12.86004912,  9.31800549,  9.31049363, 10.26094665,  9.27818478,\n",
       "        9.66775091,  9.20205228,  9.11428668,  8.37250906,  9.70239651,\n",
       "        9.16645949, 10.06290163,  8.6410838 ,  9.55445209,  9.09619865,\n",
       "        8.84655944,  8.90382805,  7.70934824,  8.67347976,  8.96751382,\n",
       "        9.77440478,  9.96586495, 10.40071605, 10.70473598, 10.68897825,\n",
       "       10.66863373,  7.19222767, 10.1172763 ,  9.88595139,  9.96780195,\n",
       "       10.18205749, 11.67787133,  9.96924729,  8.03960229, 10.74343179,\n",
       "       10.66214602, 10.04780248, 10.40526914,  9.42336824, 10.47238095,\n",
       "       10.4460245 ,  9.18632484, 10.72540577, 11.75925949,  9.8617235 ,\n",
       "       10.28082211, 10.44904287, 10.11171739, 10.99788547,  8.44770262,\n",
       "        9.24422275,  9.91157626,  9.69850978, 11.37538828, 10.30781109,\n",
       "       10.12167123,  9.55576436,  8.71842042,  9.91946141, 10.81758545,\n",
       "       11.14624331, 10.11962701,  9.50081033,  9.85928818,  8.44535803,\n",
       "        9.34164891, 10.73195328, 10.16707776,  9.87428847, 10.1947961 ,\n",
       "       10.76506006, 12.03855485,  9.24050889,  9.79596762,  9.8231514 ,\n",
       "        9.11264453,  9.35284936,  8.77443431,  9.89916745,  9.77266356,\n",
       "        9.69718063, 11.17426434,  9.85667766, 10.65167227, 11.40605714,\n",
       "        8.35862088, 10.56893873,  8.7846904 , 10.38270599, 11.32665415,\n",
       "        9.52413814,  9.50177649,  9.03781822,  9.1831339 ,  9.65296953,\n",
       "        7.8088051 ,  9.74337511,  9.6732347 ,  9.56576116,  8.71946652,\n",
       "        9.42708151,  9.12979421,  8.73004142,  7.7822422 , 10.20121734,\n",
       "        9.47936153, 10.71620362,  8.54789358, 10.74594002, 10.51563705,\n",
       "       10.07965506,  9.24170923, 11.57497314,  9.80077117, 10.12330568,\n",
       "       10.33141365,  9.80334677, 10.2367305 ,  9.71489553, 11.41783784,\n",
       "        9.88716977, 11.20525583, 10.39585538,  9.71746314, 10.93535642,\n",
       "       10.49333652, 12.59759534,  9.8892613 ,  9.89888657, 11.28617807,\n",
       "       10.71593429, 11.17892428, 10.60072038,  9.74849133,  8.76621371,\n",
       "        9.04474336, 11.29473566, 10.68971733, 11.65467314,  9.99828331,\n",
       "       10.41161018, 10.76073802,  9.6990083 , 11.18613671, 11.80671172,\n",
       "        9.33251658, 11.85759323, 10.54635538,  9.64487129,  9.29295346,\n",
       "       10.24474391,  9.07303207, 10.08277418, 10.29193382, 10.84354243,\n",
       "        9.99419062, 10.20377513,  7.84972271, 10.88112641, 12.84996984,\n",
       "       10.13755625,  9.56085458, 10.16735637, 11.13296125,  9.20603719,\n",
       "       10.53937938, 10.85582879,  9.50413243,  8.65412411, 10.47441504,\n",
       "        9.79630373,  8.83969465, 10.03093157,  9.09784263, 10.24184531,\n",
       "       10.80416404, 10.6281    , 11.59730079,  8.1060423 ,  6.51523194,\n",
       "       10.68292298,  7.94766543,  9.59984214, 10.48409837,  9.4442313 ,\n",
       "       10.27626953,  8.93400723,  9.31578524,  9.83967445,  8.80522882,\n",
       "       10.23185006, 10.13628392,  9.7583409 ,  9.95177188, 11.01294537,\n",
       "        8.8499327 ,  9.55809476,  9.15477423,  9.53377417, 11.21232126,\n",
       "       11.03575868,  9.98903385, 10.69823314,  9.43239725,  7.47003635,\n",
       "       10.23915752, 11.852147  , 11.26306689,  9.12954738,  8.2628581 ,\n",
       "       10.56287675,  9.23829087, 11.57031018,  9.81212582,  7.71534093,\n",
       "        9.96623421, 10.58881265, 11.04178528,  9.32060898, 11.66775289,\n",
       "       11.51752299, 10.79320856,  9.2044808 ,  9.96531623,  9.41034293,\n",
       "       10.23154085,  9.33635242,  8.64081048,  9.77057919,  9.30151894,\n",
       "        9.22818323, 10.47395929, 10.168024  ,  9.02645634, 11.32005732,\n",
       "       13.06323383, 10.05720907, 11.00659295,  9.85451063,  8.19589787,\n",
       "       10.24193725,  8.75859502,  9.44582079,  8.10142816, 10.48548373,\n",
       "        9.42324733,  9.61511396, 10.20765123,  9.5448212 ,  9.53387363,\n",
       "        9.9972727 ,  9.7870808 ,  9.79846848, 10.31913179, 11.5201459 ,\n",
       "       10.92310006, 11.35508959,  9.59785316, 10.48938515,  9.90788287,\n",
       "       10.37861756, 11.1556168 , 10.05178318,  9.63400718, 10.40804845,\n",
       "       10.05652679,  9.8339319 , 10.06002308, 11.06248154,  9.66394694,\n",
       "       10.5728598 ,  9.987021  , 11.03979018, 10.59464378, 10.45880414,\n",
       "       10.22762192, 11.43640021,  9.02216995,  9.92396487,  9.1663448 ,\n",
       "       11.77553088, 10.48271662,  9.94360088,  9.34532109, 10.60689302,\n",
       "        8.34216255, 10.26691347, 10.77475376, 10.77820046, 10.22171856,\n",
       "       11.41449275,  9.11875984,  9.65958453, 10.93788655, 10.16303474,\n",
       "        8.80814413, 11.31052813, 10.59892858, 10.29424722, 11.3050514 ,\n",
       "       11.56745098, 10.12905743, 10.95569105, 10.29817244, 10.71998418,\n",
       "       10.09152266, 10.90110226,  9.23550982,  9.83008025, 11.16032617,\n",
       "       10.08267345,  9.67810202,  9.64881882, 10.28359262, 10.33949077,\n",
       "       11.00238857, 10.59506531, 10.19664196, 10.0999416 ,  8.71017394,\n",
       "       10.5105018 ,  8.11841339,  9.31255515, 11.44699867,  9.84762921,\n",
       "       10.6279851 , 10.55345219, 10.89450259,  8.08255772, 11.44649283,\n",
       "        8.84225098,  9.28243592,  9.63983133,  8.9535968 ,  9.48341791,\n",
       "        9.73641189, 10.38548663, 11.35619893,  7.56315437,  9.02250851,\n",
       "       10.25751546, 10.87718437,  8.2417207 ,  8.27333491, 10.31576517,\n",
       "       10.40855397, 10.941381  ,  8.82681407, 11.81775929, 10.58144664,\n",
       "       11.24440232,  9.48970793,  9.99496522,  9.7682059 ,  9.42080206,\n",
       "        8.45439445, 11.54214113, 10.44100781, 10.75912536, 12.71752539,\n",
       "        9.06592438, 11.13790688,  8.82106099,  9.82509089,  8.92203099,\n",
       "        9.2760185 , 11.70985998,  9.81001993, 10.98000493,  9.80114077,\n",
       "       11.30579718,  9.93706115,  9.82191517,  9.01327541,  9.88965631,\n",
       "        9.50536124,  9.20495126,  9.72240073, 12.64851095,  8.49971038,\n",
       "       10.36163257, 10.83128508,  8.56137849,  9.51211932, 11.01901129,\n",
       "        9.54578369,  9.52418208,  7.50929339,  8.98867548, 10.18377215,\n",
       "        8.61933788, 10.3758595 ,  9.39824009, 10.7919938 , 11.06274095,\n",
       "       10.10672455,  9.44639397,  9.06828543, 11.84427668,  9.70013697,\n",
       "       10.50887251,  9.77880478,  9.97504609,  9.72858451,  8.92726339,\n",
       "        9.20331195,  9.45677041,  9.24718675, 11.06861448, 10.37938395,\n",
       "        9.34884985,  7.20215076, 10.55847195,  9.88477654, 10.33658061,\n",
       "        9.91175741, 10.0244332 , 10.96445094,  9.70373385, 10.48646592,\n",
       "       11.4918196 ,  9.46215222, 11.08903306,  9.70307444, 10.80386606,\n",
       "        9.61886549, 10.85677747, 11.32495029, 12.15611897, 10.91264195,\n",
       "        9.1624696 ,  9.93918776,  8.32266505, 10.50005331,  9.68929573,\n",
       "       11.14839139,  9.31573171, 10.73715615, 10.17779552,  8.72972976,\n",
       "        9.58027723, 10.69223826, 10.25246178,  9.25648657, 10.41673487,\n",
       "        8.92353324, 10.12162377,  9.19082765,  9.65498542,  9.60502137,\n",
       "        9.09854296,  9.28583753, 10.86856435, 11.18053648, 10.90193653,\n",
       "       10.12301028,  9.11554817, 12.1326899 , 11.541114  ,  7.96048307,\n",
       "       11.56416609,  8.64334508,  9.42044911, 10.47172852, 11.72012656,\n",
       "       11.67609139,  9.51049946,  9.80314222, 10.6743176 , 11.13897684,\n",
       "        9.84975309, 10.15200146, 10.67864772, 10.00250696,  9.59751572,\n",
       "        7.50762095, 10.35156868,  9.15038563, 10.3496996 ,  9.30055313,\n",
       "        8.41004645, 11.20757381, 10.86247995, 10.17044553,  9.37780779,\n",
       "       11.35409412,  9.98881546, 10.15238547,  9.97489957,  9.87333113,\n",
       "        9.25753747, 10.98602467, 10.06887458, 11.20565093, 11.35783517,\n",
       "       12.67343693, 10.73387985, 10.59968108, 10.09702087,  9.23391886,\n",
       "       10.55713467, 10.16704016,  8.80312161, 10.45262182, 11.48152184,\n",
       "        9.75362965,  8.74920052, 10.21814704, 10.52782092, 11.47826939,\n",
       "       10.99180504, 10.75694382,  9.88385418,  9.54571569, 10.57551844,\n",
       "        8.64990302,  9.82072282, 10.02983092, 10.39344146, 10.45177285,\n",
       "       10.43694397, 11.56221954, 10.75908679,  8.96321486,  8.8988082 ,\n",
       "       10.72517071, 11.89091492,  9.90260644, 10.40014455,  9.94749125,\n",
       "       11.12963076, 10.24657841, 10.0120452 ,  9.54805858,  8.17960514,\n",
       "       10.65749588,  9.87423965,  9.67112846, 10.62371693, 10.56496748,\n",
       "       10.30971189,  9.45239309, 10.7917813 , 10.25368295,  9.02759066,\n",
       "        8.49389581,  9.73599532, 10.62525382, 10.26571172,  9.39585416,\n",
       "       10.0219775 , 10.14829938,  9.46975323,  9.27810326,  9.02733204,\n",
       "       10.3886795 , 10.59677941,  8.70476185,  9.99706609,  8.47078361,\n",
       "        8.92558038, 10.34469406, 11.9373786 , 10.30130999, 10.37986812,\n",
       "        9.88569272, 10.29857298,  7.61507137,  8.28426982,  9.595119  ,\n",
       "        8.42997574, 12.40106523, 10.47313121, 11.6188167 ,  9.39233377,\n",
       "       10.09171438,  8.21235629, 10.64357041, 10.53649144, 11.3932648 ,\n",
       "        9.52292885, 10.08752097,  9.02094127,  9.3762427 ,  8.45170539,\n",
       "        7.82923745, 10.25950837, 10.47547983,  9.14073776, 11.55501964,\n",
       "        9.42896745,  8.82962122,  8.96815566,  9.13669283, 12.67915886,\n",
       "        9.03585961, 11.63435069,  9.5081128 ,  9.95521419,  9.99473315,\n",
       "        8.55707218,  8.0930894 ,  9.24759186,  9.61866119,  9.35897697,\n",
       "        9.89203398,  9.04384987, 11.27948487,  9.37183707, 10.44128331,\n",
       "        9.84500839,  9.29615982,  8.12101389,  5.88545916, 10.31537717,\n",
       "       11.26715832, 10.58397919, 11.35711818, 10.08092927,  8.21561176,\n",
       "       11.68502847,  9.34558824,  9.37872016,  9.68274164, 11.6510648 ,\n",
       "       10.22240553, 10.98554449,  9.81196912,  9.31008447,  9.79500109,\n",
       "       10.23789306, 11.66361748,  9.16615648,  9.08094354, 10.18772217,\n",
       "       11.09727444, 10.20654073, 10.36003206, 10.43784538,  9.62276387,\n",
       "        9.58251414, 10.78349207, 10.39361819, 11.50502731,  9.46686931,\n",
       "       10.3250221 ,  8.8693772 ,  9.69311062,  8.97854981, 11.6582009 ,\n",
       "        8.63996239,  9.38337667,  9.458743  , 10.84335444,  9.3429343 ,\n",
       "       10.25374447, 10.59918555, 10.05632844, 10.0044527 , 10.70415714,\n",
       "       10.28397196, 11.94853786, 10.07273161,  7.79191228,  8.99685525,\n",
       "       10.19642123, 10.64906543, 11.54360693, 11.17981736, 10.29906019,\n",
       "        8.96328429, 10.68954523,  9.3778442 , 10.27607847, 10.12264096,\n",
       "       11.00351021, 10.42883738, 11.15536864,  8.35455012, 10.81736292,\n",
       "        8.30241211, 11.0710399 ,  8.94868965,  8.98301188,  9.69712493])"
      ]
     },
     "execution_count": 32,
     "metadata": {},
     "output_type": "execute_result"
    }
   ],
   "source": [
    "n = 10+np.random.randn(1000)\n",
    "n"
   ]
  },
  {
   "cell_type": "code",
   "execution_count": 33,
   "id": "812454ab",
   "metadata": {},
   "outputs": [
    {
     "data": {
      "image/png": "[encoded data removed]",
      "text/plain": [
       "<Figure size 432x288 with 1 Axes>"
      ]
     },
     "metadata": {
      "needs_background": "light"
     },
     "output_type": "display_data"
    }
   ],
   "source": [
    "plt.hist(n,bins=20)\n",
    "plt.show()"
   ]
  },
  {
   "cell_type": "code",
   "execution_count": 34,
   "id": "221890a5",
   "metadata": {},
   "outputs": [
    {
     "data": {
      "image/png": "[encoded data removed]",
      "text/plain": [
       "<Figure size 432x288 with 1 Axes>"
      ]
     },
     "metadata": {
      "needs_background": "light"
     },
     "output_type": "display_data"
    }
   ],
   "source": [
    "plt.hist(n,bins=20, cumulative=True)\n",
    "plt.show()"
   ]
  },
  {
   "cell_type": "code",
   "execution_count": 35,
   "id": "1d773299",
   "metadata": {},
   "outputs": [
    {
     "data": {
      "image/png": "[encoded data removed]",
      "text/plain": [
       "<Figure size 432x288 with 1 Axes>"
      ]
     },
     "metadata": {
      "needs_background": "light"
     },
     "output_type": "display_data"
    }
   ],
   "source": [
    "# Scatter Plot\n",
    "plt.scatter(x,y1)\n",
    "plt.show()"
   ]
  },
  {
   "cell_type": "code",
   "execution_count": 37,
   "id": "bce990ba",
   "metadata": {},
   "outputs": [
    {
     "data": {
      "image/png": "[encoded data removed]",
      "text/plain": [
       "<Figure size 432x288 with 1 Axes>"
      ]
     },
     "metadata": {
      "needs_background": "light"
     },
     "output_type": "display_data"
    }
   ],
   "source": [
    "plt.scatter(x,y1, color='r', marker='v') #How to give the customizable marker\n",
    "plt.show()"
   ]
  },
  {
   "cell_type": "code",
   "execution_count": 44,
   "id": "4d0470ce",
   "metadata": {},
   "outputs": [],
   "source": [
    "import pandas as pd"
   ]
  },
  {
   "cell_type": "code",
   "execution_count": null,
   "id": "2e11c902",
   "metadata": {},
   "outputs": [],
   "source": [
    "data = pd.read_csv()"
   ]
  },
  {
   "cell_type": "markdown",
   "id": "e6738f48",
   "metadata": {},
   "source": [
    "Whenever we are using lon and lat - make lon as X axis and lat as Y axis"
   ]
  }
 ],
 "metadata": {
  "kernelspec": {
   "display_name": "Python 3 (ipykernel)",
   "language": "python",
   "name": "python3"
  },
  "language_info": {
   "codemirror_mode": {
    "name": "ipython",
    "version": 3
   },
   "file_extension": ".py",
   "mimetype": "text/x-python",
   "name": "python",
   "nbconvert_exporter": "python",
   "pygments_lexer": "ipython3",
   "version": "3.10.2"
  }
 },
 "nbformat": 4,
 "nbformat_minor": 5
}
