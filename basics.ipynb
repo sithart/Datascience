{
 "cells": [
  {
   "cell_type": "code",
   "execution_count": 7,
   "id": "81d4c57a",
   "metadata": {},
   "outputs": [
    {
     "name": "stdout",
     "output_type": "stream",
     "text": [
      "Enter the value: 12\n",
      "10\n",
      "11\n"
     ]
    }
   ],
   "source": [
    "var = 10\n",
    "value = int(input('Enter the value: '))\n",
    "while var < value:\n",
    "    print(var)\n",
    "    var += 1\n",
    "    "
   ]
  },
  {
   "cell_type": "code",
   "execution_count": 19,
   "id": "a3c1f8ee",
   "metadata": {
    "scrolled": false
   },
   "outputs": [
    {
     "name": "stdout",
     "output_type": "stream",
     "text": [
      "Given n2\n",
      "10\n"
     ]
    }
   ],
   "source": [
    "var = 10\n",
    "n = int(input('Given n'))\n",
    "while var > n:\n",
    "    print(var)\n",
    "    if var == 5:\n",
    "        continue\n",
    "    var -= 1\n",
    "#     break\n",
    "    "
   ]
  },
  {
   "cell_type": "code",
   "execution_count": 20,
   "id": "31f6e6ca",
   "metadata": {},
   "outputs": [
    {
     "name": "stdout",
     "output_type": "stream",
     "text": [
      "2\n",
      "5\n",
      "8\n",
      "11\n",
      "14\n",
      "17\n"
     ]
    }
   ],
   "source": [
    "for i in range(2,20,3): # start, end, steps\n",
    "    print(i)"
   ]
  },
  {
   "cell_type": "code",
   "execution_count": 22,
   "id": "f16c73f7",
   "metadata": {},
   "outputs": [
    {
     "name": "stdout",
     "output_type": "stream",
     "text": [
      "given n10\n",
      "0\n",
      "1\n",
      "2\n",
      "3\n",
      "4\n",
      "6\n",
      "7\n",
      "8\n",
      "9\n"
     ]
    }
   ],
   "source": [
    "n = int(input(\"given n\"))\n",
    "for i in range(n):\n",
    "    if i ==5: # continue the 5 and its not printed\n",
    "        continue\n",
    "    print(i)"
   ]
  },
  {
   "cell_type": "code",
   "execution_count": 23,
   "id": "c308e8ec",
   "metadata": {},
   "outputs": [
    {
     "name": "stdout",
     "output_type": "stream",
     "text": [
      "0 vays\n",
      "1 bala\n",
      "2 tripathy\n",
      "3 dhana\n",
      "4 muhmad\n"
     ]
    }
   ],
   "source": [
    "var = ['vays', 'bala', 'tripathy', 'dhana', 'muhmad']\n",
    "i = 0 # Given the index value\n",
    "while (i < len(var)): # by Giving this consdintion we given maximum\n",
    "    print(i, var[i])\n",
    "    i += 1"
   ]
  },
  {
   "cell_type": "code",
   "execution_count": 25,
   "id": "3c44f310",
   "metadata": {},
   "outputs": [
    {
     "name": "stdout",
     "output_type": "stream",
     "text": [
      "vays\n",
      "0 vays\n",
      "bala\n",
      "1 bala\n",
      "tripathy\n",
      "2 tripathy\n",
      "dhana\n",
      "3 dhana\n",
      "muhmad\n",
      "4 muhmad\n"
     ]
    }
   ],
   "source": [
    "for i in var: # i is bouded to the value. It takes each value one one time\n",
    "    print(i)\n",
    "#     print(var.index(i), i)\n"
   ]
  },
  {
   "cell_type": "code",
   "execution_count": 26,
   "id": "b39e8625",
   "metadata": {},
   "outputs": [
    {
     "name": "stdout",
     "output_type": "stream",
     "text": [
      "0 vays\n",
      "1 bala\n",
      "2 tripathy\n",
      "3 dhana\n",
      "4 muhmad\n",
      "End\n"
     ]
    }
   ],
   "source": [
    "for i in range(len(var)):\n",
    "    print(i, var[i])\n",
    "else:\n",
    "    print('End')"
   ]
  },
  {
   "cell_type": "code",
   "execution_count": 27,
   "id": "83a14b2b",
   "metadata": {},
   "outputs": [
    {
     "name": "stdout",
     "output_type": "stream",
     "text": [
      "0 vays\n",
      "1 bala\n"
     ]
    }
   ],
   "source": [
    "for i in range(len(var)):\n",
    "    if i ==2:\n",
    "        break\n",
    "    print(i, var[i])\n",
    "else:\n",
    "    print('End')"
   ]
  },
  {
   "cell_type": "code",
   "execution_count": 35,
   "id": "c8bb3a80",
   "metadata": {},
   "outputs": [
    {
     "name": "stdout",
     "output_type": "stream",
     "text": [
      "Enter your Amount10\n",
      "10 2000\n",
      "10 1000\n",
      "10 500\n",
      "10 200\n",
      "10 100\n",
      "10 50\n",
      "10 20\n",
      "10 10\n"
     ]
    }
   ],
   "source": [
    "# customer -> Cashier relativity\n",
    "denomonation = [2000,1000,500,200,100,50,20,10,5,2,1]\n",
    "n = int(input('Enter your Amount'))\n",
    "for den in denomonation:\n",
    "    print(den)\n",
    "    if n <= 0:\n",
    "        break"
   ]
  },
  {
   "cell_type": "code",
   "execution_count": null,
   "id": "f7f3d12a",
   "metadata": {},
   "outputs": [],
   "source": []
  }
 ],
 "metadata": {
  "kernelspec": {
   "display_name": "Python 3 (ipykernel)",
   "language": "python",
   "name": "python3"
  },
  "language_info": {
   "codemirror_mode": {
    "name": "ipython",
    "version": 3
   },
   "file_extension": ".py",
   "mimetype": "text/x-python",
   "name": "python",
   "nbconvert_exporter": "python",
   "pygments_lexer": "ipython3",
   "version": "3.10.2"
  }
 },
 "nbformat": 4,
 "nbformat_minor": 5
}
