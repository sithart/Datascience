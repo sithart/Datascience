{
 "cells": [
  {
   "cell_type": "code",
   "execution_count": 17,
   "id": "81d4c57a",
   "metadata": {},
   "outputs": [
    {
     "name": "stdout",
     "output_type": "stream",
     "text": [
      "Given variable 1 :100\n",
      "Given variable 2 :200\n",
      "Given variable 3 :300\n"
     ]
    }
   ],
   "source": [
    "# Basic Input and Print\n",
    "var1 = int(input(\"Given variable 1 :\"))\n",
    "var2 = int(input(\"Given variable 2 :\"))\n",
    "var3 = int(input(\"Given variable 3 :\"))\n",
    "\n",
    "    "
   ]
  },
  {
   "cell_type": "code",
   "execution_count": 20,
   "id": "fe007949",
   "metadata": {},
   "outputs": [
    {
     "name": "stdout",
     "output_type": "stream",
     "text": [
      "Given variable 1 :200\n",
      "Given variable 2 :200\n",
      "Given variable 3 :200\n",
      "Both Equal\n"
     ]
    }
   ],
   "source": [
    "# Comparision Operators\n",
    "var1 = int(input(\"Given variable 1 :\"))\n",
    "var2 = int(input(\"Given variable 2 :\"))\n",
    "var3 = int(input(\"Given variable 3 :\"))\n",
    "if var1 > var2:\n",
    "    print(var1, \"is greater\")\n",
    "elif var1 < var2:\n",
    "    print(var2, \"is greater\")\n",
    "else:\n",
    "    print(\"Both Equal\")"
   ]
  },
  {
   "cell_type": "code",
   "execution_count": 22,
   "id": "84065194",
   "metadata": {},
   "outputs": [
    {
     "name": "stdout",
     "output_type": "stream",
     "text": [
      "Give variable a:78\n",
      "Give variable b:56\n",
      "Give variable c:12\n",
      "Give variable d:32\n",
      "Give variable e:95\n",
      "e is greater 2\n"
     ]
    }
   ],
   "source": [
    "a = int(input(\"Give variable a:\"))\n",
    "b = int(input(\"Give variable b:\"))\n",
    "c = int(input(\"Give variable c:\"))\n",
    "d = int(input(\"Give variable d:\"))\n",
    "e = int(input(\"Give variable e:\"))\n",
    "\n",
    "if a > b:\n",
    "    if a> c:\n",
    "        if a>d:\n",
    "            if a > e:\n",
    "                print(\"a is greater 1\")\n",
    "            else:\n",
    "                print(\"e is greater 2\")\n",
    "                \n",
    "        elif d > e:\n",
    "            print(\"d is greater 3\")\n",
    "        else:\n",
    "            print(\"e is greater 4\")\n",
    "            \n",
    "    elif c > d:\n",
    "        if c > e:\n",
    "            print(\"c is greater 5\")\n",
    "        else:\n",
    "            print(\"e is greater 6\")\n",
    "            \n",
    "    elif d > e:\n",
    "        print(\"d is greater 7\")\n",
    "    else:\n",
    "        print(\"e is greater 8\")\n",
    "elif b > c:\n",
    "    if b > d:\n",
    "        if b > e:\n",
    "            print(\"b is greater 9\")\n",
    "        else:\n",
    "            print(\"e is greater 10\")\n",
    "    elif d > e:\n",
    "        print(\"d is greater 11\")\n",
    "    else:\n",
    "        print(\"e is greater 12\")\n",
    "        \n",
    "elif c > d:\n",
    "    if c > e:\n",
    "        print(\"c is greater 13\")\n",
    "    else:\n",
    "        print(\"e is greater 14\")\n",
    "            \n",
    "            \n",
    "elif d > e:\n",
    "    print(\"d is greater 15\")\n",
    "else:\n",
    "    print(\"e is greater 16\")\n",
    "            \n",
    "            \n",
    "            \n",
    "            \n",
    "            \n",
    "            \n",
    "            \n",
    "            "
   ]
  },
  {
   "cell_type": "code",
   "execution_count": 23,
   "id": "8686400e",
   "metadata": {},
   "outputs": [
    {
     "name": "stdout",
     "output_type": "stream",
     "text": [
      "e is greater\n"
     ]
    }
   ],
   "source": [
    "if a > b and a > c and a > d and a > e:\n",
    "    print(\"a is greater\")\n",
    "if b > a and b > c and b > d and b > e:\n",
    "    print(\"b is greater\")\n",
    "if c > a and c > b and c > d and c > e:\n",
    "    print(\"c is greater\")\n",
    "if d > a and d > b and d > c and d > e:\n",
    "    print(\"d is greater\")\n",
    "if e > a and e > b and e > c and e > d:\n",
    "    print(\"e is greater\")"
   ]
  },
  {
   "cell_type": "code",
   "execution_count": 25,
   "id": "7bdb5e8d",
   "metadata": {},
   "outputs": [
    {
     "name": "stdout",
     "output_type": "stream",
     "text": [
      "a is greater than b\n"
     ]
    }
   ],
   "source": [
    "if a > b:\n",
    "    print('a is greater than b')\n",
    "    pass\n"
   ]
  },
  {
   "cell_type": "code",
   "execution_count": null,
   "id": "6f48f6a8",
   "metadata": {},
   "outputs": [],
   "source": [
    "# while Loop\n",
    "import time\n",
    "var = 1\n",
    "time.sleep(6)\n",
    "n = int(input(\"given n\"))\n",
    "time.sleep(1)\n",
    "while var < n:\n",
    "    time.sleep(1)\n",
    "    print(var)\n",
    "    time.sleep(1)\n",
    "    var += 1\n",
    "    time.sleep(1)"
   ]
  },
  {
   "cell_type": "code",
   "execution_count": 15,
   "id": "83b604a2",
   "metadata": {},
   "outputs": [
    {
     "name": "stdout",
     "output_type": "stream",
     "text": [
      "Enter the value: 12\n",
      "10\n",
      "11\n"
     ]
    }
   ],
   "source": [
    "var = 10\n",
    "value = int(input('Enter the value: '))\n",
    "while var < value:\n",
    "    print(var)\n",
    "    var += 1"
   ]
  },
  {
   "cell_type": "code",
   "execution_count": 19,
   "id": "a3c1f8ee",
   "metadata": {
    "scrolled": false
   },
   "outputs": [
    {
     "name": "stdout",
     "output_type": "stream",
     "text": [
      "Given n2\n",
      "10\n"
     ]
    }
   ],
   "source": [
    "var = 10\n",
    "n = int(input('Given n'))\n",
    "while var > n:\n",
    "    print(var)\n",
    "    if var == 5:\n",
    "        continue\n",
    "    var -= 1\n",
    "#     break\n",
    "    "
   ]
  },
  {
   "cell_type": "code",
   "execution_count": 20,
   "id": "31f6e6ca",
   "metadata": {},
   "outputs": [
    {
     "name": "stdout",
     "output_type": "stream",
     "text": [
      "2\n",
      "5\n",
      "8\n",
      "11\n",
      "14\n",
      "17\n"
     ]
    }
   ],
   "source": [
    "for i in range(2,20,3): # start, end, steps\n",
    "    print(i)"
   ]
  },
  {
   "cell_type": "code",
   "execution_count": 22,
   "id": "f16c73f7",
   "metadata": {},
   "outputs": [
    {
     "name": "stdout",
     "output_type": "stream",
     "text": [
      "given n10\n",
      "0\n",
      "1\n",
      "2\n",
      "3\n",
      "4\n",
      "6\n",
      "7\n",
      "8\n",
      "9\n"
     ]
    }
   ],
   "source": [
    "n = int(input(\"given n\"))\n",
    "for i in range(n):\n",
    "    if i ==5: # continue the 5 and its not printed\n",
    "        continue\n",
    "    print(i)"
   ]
  },
  {
   "cell_type": "code",
   "execution_count": 23,
   "id": "c308e8ec",
   "metadata": {},
   "outputs": [
    {
     "name": "stdout",
     "output_type": "stream",
     "text": [
      "0 vays\n",
      "1 bala\n",
      "2 tripathy\n",
      "3 dhana\n",
      "4 muhmad\n"
     ]
    }
   ],
   "source": [
    "var = ['vays', 'bala', 'tripathy', 'dhana', 'muhmad']\n",
    "i = 0 # Given the index value\n",
    "while (i < len(var)): # by Giving this consdintion we given maximum\n",
    "    print(i, var[i])\n",
    "    i += 1"
   ]
  },
  {
   "cell_type": "code",
   "execution_count": 25,
   "id": "3c44f310",
   "metadata": {},
   "outputs": [
    {
     "name": "stdout",
     "output_type": "stream",
     "text": [
      "vays\n",
      "0 vays\n",
      "bala\n",
      "1 bala\n",
      "tripathy\n",
      "2 tripathy\n",
      "dhana\n",
      "3 dhana\n",
      "muhmad\n",
      "4 muhmad\n"
     ]
    }
   ],
   "source": [
    "for i in var: # i is bouded to the value. It takes each value one one time\n",
    "    print(i)\n",
    "#     print(var.index(i), i)\n"
   ]
  },
  {
   "cell_type": "code",
   "execution_count": 26,
   "id": "b39e8625",
   "metadata": {},
   "outputs": [
    {
     "name": "stdout",
     "output_type": "stream",
     "text": [
      "0 vays\n",
      "1 bala\n",
      "2 tripathy\n",
      "3 dhana\n",
      "4 muhmad\n",
      "End\n"
     ]
    }
   ],
   "source": [
    "for i in range(len(var)):\n",
    "    print(i, var[i])\n",
    "else:\n",
    "    print('End')"
   ]
  },
  {
   "cell_type": "code",
   "execution_count": 27,
   "id": "83a14b2b",
   "metadata": {},
   "outputs": [
    {
     "name": "stdout",
     "output_type": "stream",
     "text": [
      "0 vays\n",
      "1 bala\n"
     ]
    }
   ],
   "source": [
    "for i in range(len(var)):\n",
    "    if i ==2:\n",
    "        break\n",
    "    print(i, var[i])\n",
    "else:\n",
    "    print('End')"
   ]
  },
  {
   "cell_type": "code",
   "execution_count": 35,
   "id": "c8bb3a80",
   "metadata": {},
   "outputs": [
    {
     "name": "stdout",
     "output_type": "stream",
     "text": [
      "Enter your Amount10\n",
      "10 2000\n",
      "10 1000\n",
      "10 500\n",
      "10 200\n",
      "10 100\n",
      "10 50\n",
      "10 20\n",
      "10 10\n"
     ]
    }
   ],
   "source": [
    "# customer -> Cashier relativity\n",
    "denomonation = [2000,1000,500,200,100,50,20,10,5,2,1]\n",
    "n = int(input('Enter your Amount'))\n",
    "for den in denomonation:\n",
    "    print(den)\n",
    "    if n <= 0:\n",
    "        break"
   ]
  },
  {
   "cell_type": "code",
   "execution_count": 10,
   "id": "f7f3d12a",
   "metadata": {},
   "outputs": [],
   "source": [
    "def countdown(n):\n",
    "    if n == 0:\n",
    "        return \n",
    "    else:\n",
    "        countdown(n-1)\n",
    "        print(n)"
   ]
  },
  {
   "cell_type": "code",
   "execution_count": 11,
   "id": "b6fed3bf",
   "metadata": {},
   "outputs": [
    {
     "name": "stdout",
     "output_type": "stream",
     "text": [
      "1\n",
      "2\n",
      "3\n",
      "4\n",
      "5\n",
      "6\n",
      "7\n",
      "8\n",
      "9\n",
      "10\n"
     ]
    }
   ],
   "source": [
    "countdown(10)"
   ]
  },
  {
   "cell_type": "code",
   "execution_count": 12,
   "id": "56b0669f",
   "metadata": {},
   "outputs": [],
   "source": [
    "def fact(n):\n",
    "    return 1 if n<= 1 else n * fact(n-1)\n"
   ]
  },
  {
   "cell_type": "code",
   "execution_count": 13,
   "id": "9cdf6948",
   "metadata": {},
   "outputs": [
    {
     "data": {
      "text/plain": [
       "24"
      ]
     },
     "execution_count": 13,
     "metadata": {},
     "output_type": "execute_result"
    }
   ],
   "source": [
    "fact(4)"
   ]
  },
  {
   "cell_type": "code",
   "execution_count": null,
   "id": "0e2ead11",
   "metadata": {},
   "outputs": [],
   "source": []
  }
 ],
 "metadata": {
  "kernelspec": {
   "display_name": "Python 3 (ipykernel)",
   "language": "python",
   "name": "python3"
  },
  "language_info": {
   "codemirror_mode": {
    "name": "ipython",
    "version": 3
   },
   "file_extension": ".py",
   "mimetype": "text/x-python",
   "name": "python",
   "nbconvert_exporter": "python",
   "pygments_lexer": "ipython3",
   "version": "3.10.2"
  }
 },
 "nbformat": 4,
 "nbformat_minor": 5
}
