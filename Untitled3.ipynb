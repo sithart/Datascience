{
 "cells": [
  {
   "cell_type": "code",
   "execution_count": null,
   "id": "99762c9f",
   "metadata": {},
   "outputs": [],
   "source": []
  },
  {
   "cell_type": "code",
   "execution_count": null,
   "id": "b24b73ec",
   "metadata": {},
   "outputs": [],
   "source": [
    "class Library:\n",
    "    def __init__(self,data):\n",
    "        self.booklist = data\n",
    "    def showbooks(self):\n",
    "        for i in self.booklist:\n",
    "            print(i)\n",
    "    def lendABook(self,bookname):\n",
    "        if bookname in self.booklist:\n",
    "            self.booklist.remove(bookname)\n",
    "            print(\"Your request is fullfilled, Thankyou\")\n",
    "        else:\n",
    "            print(\"Book is not available\")\n",
    "            \n",
    "    def addABook(self,returnedBook)\n",
    "        self.booklist.append(returnedBook)\n",
    "        print(\"Book successfully added, thankyou\")\n",
    "            \n",
    "class Customer:\n",
    "    def requestBook(self):\n",
    "        print(\"Enter the book like you to borrow\")\n",
    "        self.book = input()\n",
    "        return self.book\n",
    "    def returnABook(self):\n",
    "        print(\"Enter the book you want to return\")\n",
    "        self.book = "
   ]
  },
  {
   "cell_type": "code",
   "execution_count": null,
   "id": "0d946418",
   "metadata": {},
   "outputs": [],
   "source": [
    "lib = Library([\"book1\",\"book2\",\"book3\",\"book4\",\"book5\"])\n",
    "cus = Customer()"
   ]
  },
  {
   "cell_type": "code",
   "execution_count": null,
   "id": "2219bec9",
   "metadata": {},
   "outputs": [],
   "source": [
    "lib.showbooks()"
   ]
  },
  {
   "cell_type": "code",
   "execution_count": null,
   "id": "eef9d9a5",
   "metadata": {},
   "outputs": [],
   "source": [
    "while True:\n",
    "    print(\"Select option\")\n",
    "    print(\"\\n 1-show book list \\n 2 -lend a book \\n 3 -lend a book\")\n",
    "    option = int(input())\n",
    "    if option == 1:\n",
    "        lib.showbooks()\n",
    "    elif option == 2:\n",
    "        requestedBook = cus.requestBook()\n",
    "        lib.lendABook(requestedBook)\n",
    "    "
   ]
  },
  {
   "cell_type": "code",
   "execution_count": null,
   "id": "7c550597",
   "metadata": {},
   "outputs": [],
   "source": [
    "# You have to try how to add customer file also"
   ]
  }
 ],
 "metadata": {
  "kernelspec": {
   "display_name": "Python 3 (ipykernel)",
   "language": "python",
   "name": "python3"
  },
  "language_info": {
   "codemirror_mode": {
    "name": "ipython",
    "version": 3
   },
   "file_extension": ".py",
   "mimetype": "text/x-python",
   "name": "python",
   "nbconvert_exporter": "python",
   "pygments_lexer": "ipython3",
   "version": "3.10.2"
  }
 },
 "nbformat": 4,
 "nbformat_minor": 5
}
